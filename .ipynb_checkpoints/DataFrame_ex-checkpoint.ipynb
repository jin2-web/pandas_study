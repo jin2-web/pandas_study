{
 "cells": [
  {
   "cell_type": "markdown",
   "id": "ccd1bce7-7be6-448b-86ef-b434841cef6c",
   "metadata": {},
   "source": [
    "### 데이터 프레임\n",
    "-  2차원 배열\n",
    "-  2차원 벡터, 행렬\n",
    "-  열 == 속성 == 항목\n",
    "-  행 == 레코드 == 줄\n",
    "-  예) 주식종목 행 - 관측값, 열 - 종목코드, 회사이름, 액면가, 총주식수 \n"
   ]
  },
  {
   "cell_type": "code",
   "execution_count": null,
   "id": "26ead7e7-651e-45e8-9aa4-2d5ea668b3b0",
   "metadata": {},
   "outputs": [],
   "source": [
    "# 데이터 프레임 만들기\n",
    "# 방법1) 딕셔너리를 가지고 데이터프레임 만들기 \n",
    "import pandas as pd\n",
    "dict_data = {'c0':[1,2,3], 'c1':[4,5,6], 'c2':[7,8,9], 'c3':[10,11,12],'c4':[13,14,15] }\n",
    "df = pd.DataFrame( dict_data, index=[ 'A', 'B', 'C' ]  ) #만들고\n",
    "df.columns = ['초1','초2','초3','초4','초5'] #이름 바꾸기\n",
    "print( df ) \n"
   ]
  },
  {
   "cell_type": "code",
   "execution_count": null,
   "id": "2deb601f-04b3-4b38-bffe-dfe5cbe817fb",
   "metadata": {},
   "outputs": [],
   "source": [
    "data = { 'name': ['Kim', 'Lee', 'Park'], 'age': [24, 27, 34], 'children': [2, 1, 3] } \n",
    "df = pd.DataFrame( data )\n",
    "print( df )"
   ]
  },
  {
   "cell_type": "code",
   "execution_count": null,
   "id": "ad353e52-0281-47e5-96e1-0033b21c3cf2",
   "metadata": {},
   "outputs": [],
   "source": [
    "# 방법2) pd.DataFrame(  2차원배열, index=행인덱스배열, columns = 열이름 배열 )\n",
    "d_2 = [ [15,'남','덕영중'], [17, '여','수리중']  ]  #2차원\n",
    "df2 = pd.DataFrame(  d_2 )\n",
    "df2.index = [ '1반','2반' ]\n",
    "df2.columns = ['나이','성별','중학교명']\n",
    "print( df2 ) \n",
    "# 반의 이름?\n",
    "print( df2.index ) \n",
    "# 학생의 자료 항목은?\n",
    "print( df2.columns ) \n",
    "# rename \n",
    "# '1반'을 '준서'로  '2반'을 '예은'으로 rename 하세요\n",
    "# '중학교명'을 '학교'을 rename하세요\n",
    "df2 = df2.rename( index = {'1반':'준서', '2반':'예은' } , columns = { '중학교명':'학교' })\n",
    "print( df2 )\n",
    "# drop 삭제하기 \n",
    "# 문제 '예은' \n",
    "df2_drop = df2.drop( '예은', axis=0 ) # 행 \n",
    "print( df2_drop )\n",
    "# 문제 '나이'\n",
    "df2_age_drop = df2.drop('나이',axis=1 ) # 열 axis=1\n",
    "print( df2_age_drop ) \n",
    "\n",
    "\n"
   ]
  },
  {
   "cell_type": "code",
   "execution_count": null,
   "id": "2d27e8ac-37b2-4e1a-a954-90371f2fa1ba",
   "metadata": {},
   "outputs": [],
   "source": [
    "# 교재 1-7 22페이지\n",
    "exam_data = {'수학':[90,80,70], '영어':[98,89,95],'음악':[85,95,100], '체육':[100,90,90] }\n",
    "df = pd.DataFrame( exam_data, index=['준서','우현','인아'] )\n",
    "print(df)\n",
    "\n",
    "df2 = df.copy()\n",
    "df2 = df2.drop('우현' )\n",
    "print(df2)\n",
    "\n",
    "df3 = df.copy()\n",
    "df3 = df3.drop( [ '준서', '인아' ] )\n",
    "print( df3 )\n",
    "\n",
    "df4 = df.copy()\n",
    "# df4 = df4.drop(  [ '준서':'우현' ] ) 오류 발생\n",
    "print( df4 )  \n",
    "\n",
    "df5 = df.copy()\n",
    "df5 = df5.drop( '영어', axis=\"columns\" )\n",
    "df5"
   ]
  },
  {
   "cell_type": "code",
   "execution_count": null,
   "id": "4c80c8bb-ee10-4b49-9674-24afec97cb82",
   "metadata": {},
   "outputs": [],
   "source": [
    "# 행선택\n",
    "# 열선택\n",
    "# 1-9\n",
    "import pandas as pd\n",
    "exam_data = {'수학':[90,80,70], '영어':[98,89,95],'음악':[85,95,100], '체육':[100,90,90] }\n",
    "df = pd.DataFrame( exam_data, index=['서준','우현','인아'] )\n",
    "print(  df.loc[ '서준': '인아' ] )\n",
    "print( df.iloc[ 0:3] )\n",
    "print( df.loc[ ['서준','인아'] ]  )\n",
    "\n"
   ]
  },
  {
   "cell_type": "code",
   "execution_count": null,
   "id": "9c18792c-b03c-4a2c-93e4-d8490939e72f",
   "metadata": {},
   "outputs": [],
   "source": [
    "# 예제 1-10 열선택\n",
    "exam_data = {'이름': ['서준','우현','인아' ], \n",
    "             '수학': [90,80,70],\n",
    "             '영어': [98,89,95],\n",
    "             '음악': [85,95,100],\n",
    "             '체육': [100,90,90] }\n",
    "df = pd.DataFrame( exam_data )\n",
    "df\n",
    "print( type(df) ) "
   ]
  },
  {
   "cell_type": "code",
   "execution_count": null,
   "id": "93068d33-8a07-4225-899d-028b66d540ec",
   "metadata": {},
   "outputs": [],
   "source": [
    "math1 = df['수학']\n",
    "print( type( math1 )  )\n",
    "print( math1 ) \n",
    "english = df.영어 # 많이 사용\n",
    "english\n",
    "a = df['체육']\n",
    "a = df.체육\n"
   ]
  },
  {
   "cell_type": "code",
   "execution_count": null,
   "id": "8b5fe169-edf4-408b-995e-d38096139b7c",
   "metadata": {},
   "outputs": [],
   "source": [
    "music_gym = df[ ['음악','체육'] ]\n",
    "music_gym\n",
    "math = df[ ['수학'] ] # 데이터프레임 추출 \n",
    "print( type(math) , \"~~\" ) \n",
    "math = df[ '수학' ] #시리즈 추출\n",
    "print( type(math), '@@@'  )"
   ]
  },
  {
   "cell_type": "code",
   "execution_count": null,
   "id": "ac5fd2cf-5081-43d2-ad98-3702c2398986",
   "metadata": {},
   "outputs": [],
   "source": [
    "math2 = df[['수학']]\n",
    "print(math2)\n",
    "print( type(math2) )"
   ]
  },
  {
   "cell_type": "code",
   "execution_count": null,
   "id": "fb62407b-82ff-41ef-b8d1-13dfd4721066",
   "metadata": {},
   "outputs": [],
   "source": [
    "df.iloc[::2]"
   ]
  },
  {
   "cell_type": "code",
   "execution_count": null,
   "id": "ff76c16b-7ac6-4c64-968f-7b061eac63e1",
   "metadata": {},
   "outputs": [],
   "source": [
    "df.iloc[0:3:2]"
   ]
  },
  {
   "cell_type": "code",
   "execution_count": null,
   "id": "cd833a63-1f6d-4470-9f22-4dcc8be1b838",
   "metadata": {},
   "outputs": [],
   "source": [
    "df.iloc[::-1]"
   ]
  },
  {
   "cell_type": "code",
   "execution_count": null,
   "id": "14cd7961-f9d3-4c37-b54b-95807d5e7d92",
   "metadata": {},
   "outputs": [],
   "source": [
    "#예제 1-11\n",
    "exam_data = {'이름': ['서준','우현','인아' ], \n",
    "             '수학': [90,80,70],\n",
    "             '영어': [98,89,95],\n",
    "             '음악': [85,95,100],\n",
    "             '체육': [100,90,90] }\n",
    "df = pd.DataFrame( exam_data )\n",
    "df\n",
    "df = df.set_index('이름') \n",
    "df\n",
    "#df.loc[ ['서준', '우현'], ['음악', '체육']  ]\n",
    "#df.iloc[ 0, [2,3]  ]"
   ]
  },
  {
   "cell_type": "code",
   "execution_count": null,
   "id": "79e5680f-3663-4ba8-b2cb-373f884ee9cc",
   "metadata": {},
   "outputs": [],
   "source": [
    "#추가\n",
    "#열추가\n",
    "df['국어'] = 80\n",
    "df\n",
    "df['컴퓨터'] = [100,85,75]\n",
    "df \n"
   ]
  },
  {
   "cell_type": "code",
   "execution_count": null,
   "id": "ef5e662c-17da-4871-aace-01a99b8020b4",
   "metadata": {},
   "outputs": [],
   "source": [
    "#행추가\n",
    "df.loc['길동'] = [100,80,90,75,60,90 ]\n",
    "df"
   ]
  },
  {
   "cell_type": "code",
   "execution_count": null,
   "id": "3e58e0af-7b87-4b4f-a90d-3b8586d4a222",
   "metadata": {},
   "outputs": [],
   "source": [
    "# 41페이지 그림 1-14보고 코드해 보기 \n",
    "# 예제 1-13 \n",
    "\n"
   ]
  },
  {
   "cell_type": "code",
   "execution_count": null,
   "id": "4c470428-e44a-4da5-967b-f4e8651f3920",
   "metadata": {},
   "outputs": [],
   "source": [
    "# 원소값 변경\n",
    "#서준 체육 95 변경\n",
    "df.loc['서준','체육'] = 95\n",
    "df\n",
    "#우현 국어 100변경\n",
    "df.loc['우현','국어'] = 100\n",
    "df\n",
    "#우현 수학, 컴퓨터을 각각 100 90 변경\n",
    "df.loc['우현', ['수학','컴퓨터'] ] = 100, 90\n",
    "df"
   ]
  },
  {
   "cell_type": "code",
   "execution_count": null,
   "id": "4d6bb141-a2e0-4112-b71e-deb00869d6ef",
   "metadata": {},
   "outputs": [],
   "source": [
    "# 46page\n",
    "# 행, 열 위치 바꾸기\n",
    "df_trans = df.transpose()\n",
    "df_trans\n",
    "df"
   ]
  },
  {
   "cell_type": "code",
   "execution_count": null,
   "id": "b12369d2-b7b4-497c-b9b5-3583d0d45764",
   "metadata": {},
   "outputs": [],
   "source": [
    "# 교재 48페이지\n",
    "import pandas as pd\n",
    "exam_data = {'이름': ['서준','우현','인아' ], \n",
    "             '수학': [90,80,70],\n",
    "             '영어': [98,89,95],\n",
    "             '음악': [85,95,100],\n",
    "             '체육': [100,90,90] }\n",
    "df = pd.DataFrame( exam_data )\n",
    "df\n",
    "df_이름 = df.set_index( '이름' ) \n",
    "df_이름\n",
    "# 번호 새롭게 멀티 인덱스 df.set_index([pd.Index([1, 2, 3, 4]), 'year'])\n",
    "bunho = [ 251011, 240203, 251122]\n",
    "# df_번호_이름 = df.set_index( [ pd.Index( [251011, 240203, 251122] ), '이름'] ) \n",
    "df_번호_이름 = df.set_index([pd.Index(bunho), '이름'])\n",
    "df_번호_이름\n"
   ]
  },
  {
   "cell_type": "code",
   "execution_count": null,
   "id": "d6d4a5da-ebcb-4a47-99ef-ef04c3da5540",
   "metadata": {},
   "outputs": [],
   "source": [
    "# 행인덱스 재배열 reindex()\n",
    "# 예제 1-17\n",
    "import pandas as pd\n",
    "dict_data = {'c0': [1, 2, 3], 'c1': [4, 5, 6],' c2': [7, 8, 9],'c3': [10,11,12],'c4':[13,14,15] }\n",
    "df = pd.DataFrame(dict_data, index = ['r0', 'r1', 'r2'])\n",
    "print( df )\n"
   ]
  },
  {
   "cell_type": "code",
   "execution_count": null,
   "id": "ac529065-d9b1-467e-8f54-f8243f155e61",
   "metadata": {},
   "outputs": [],
   "source": [
    "#문제1\n",
    "student_data = { '이름':['철수','영희','민수'], '국어':[90,70,85], '영어':[85,95,80], '수학':[80,100,90] }\n",
    "df = pd.DataFrame( student_data )\n",
    "df"
   ]
  },
  {
   "cell_type": "code",
   "execution_count": null,
   "id": "bc425857-a993-4b39-aea2-d0e314455a03",
   "metadata": {},
   "outputs": [],
   "source": [
    "#문제2\n",
    "product_order_data = { '주문번호':[1001, 1002, 1003], '상품명':['키보드', '모니터','마우스'], '수량':[2,1,3], '단가':[30000,150000,20000] }\n",
    "df = pd.DataFrame( product_order_data )\n",
    "df"
   ]
  },
  {
   "cell_type": "code",
   "execution_count": null,
   "id": "413fdba2-ffce-4be0-8a7f-a524520eb2d4",
   "metadata": {},
   "outputs": [],
   "source": [
    "#문제3\n",
    "data = {\n",
    "    \"Name\": [\"철수\", \"영희\", \"민수\"],\n",
    "    \"Age\": [16, 17, 16],\n",
    "    \"Class\": [\"A\", \"B\", \"A\"]\n",
    "}\n",
    "df = pd.DataFrame( data )\n",
    "df = df.set_index( 'Name' ) #행 인덱스 Name\n",
    "df\n",
    "#열 이름을 [\"나이\", \"반\"] 으로 변경\n",
    "df.columns = [\"나이\", \"반\"]\n",
    "df\n",
    "\n",
    "data3 = {\"Name\": [\"철수\", \"영희\", \"민수\"],\n",
    "        \"Age\": [16, 17, 16],\n",
    "        \"Class\": [\"A\", \"B\", \"A\"]\n",
    "       }\n",
    "\n",
    "df3 = pd.DataFrame(data3)\n",
    "# 변수 = 데이터프레임.rename(columns = { 기존 이름 : 변경후 이름 , ...})\n",
    "df3 = df3.rename(columns = {'Name':'학생명', 'Age':'나이','Class':'반'})\n",
    "# 변수 = 데이터프레임.rename(index = { 기존 이름 : 변경후 이름 , ...})\n",
    "df3_1 = df3.set_index(['학생명'])\n",
    "df3_1"
   ]
  },
  {
   "cell_type": "code",
   "execution_count": null,
   "id": "2725b463-3f88-4108-a55e-2cd8b5ca2267",
   "metadata": {},
   "outputs": [],
   "source": [
    "# 문제4)\n",
    "custom_data = { '주문번호':[1001, 1002, 1003], '고객명':['김철수', '이영희', '박민수'], '상품명': [ '키보드','모니터','마우스'], '수량':[2,1,3], '가격': [30000,150000, 20000] }\n",
    "df = pd.DataFrame( custom_data )\n",
    "# 주문번호 1002인 데이터를 행 삭제\n",
    "#print(df[  df[ '주문번호'] == 1002 ] , '~~~' ) \n",
    "drop_index = df [ df[ '주문번호' ] == 1002 ].index\n",
    "#print( drop_index, '@@@' )\n",
    "drop_df=df.drop( drop_index, axis=0)\n",
    "print( drop_df, \"####\") \n",
    "drop_가격 = df.drop( '가격', axis=1 )\n",
    "drop_가격"
   ]
  },
  {
   "cell_type": "code",
   "execution_count": null,
   "id": "66356fb6-4038-41bd-8fd4-9024e264a841",
   "metadata": {},
   "outputs": [],
   "source": [
    "import pandas as pd\n",
    "data = {'주문번호': ['1001', '1002', '1003'],\n",
    "        '고객명': ['김철수', '이영희', '박민수'],\n",
    "        '상품명': ['키보드', '모니터', '마우스'],\n",
    "        '수량': [2, 1, 3],\n",
    "        '가격': [3000, 150000, 20000]}\n",
    "df = pd.DataFrame(data)\n",
    "df2 = df.drop([1])\n",
    "df3 = df2.drop('가격', axis=1)\n",
    "df3"
   ]
  },
  {
   "cell_type": "code",
   "execution_count": null,
   "id": "6fa687c1-2822-401b-9ba0-4902c12d037a",
   "metadata": {},
   "outputs": [],
   "source": [
    "data4 = {\n",
    "         '주문번호' : [1001,1002,1003],\n",
    "         '고객명' : ['김철수','이영희','박민수'],\n",
    "         '상품명' : ['키보드','모니터','마우스'],\n",
    "         '수량' : [2,1,3],\n",
    "         '가격' : [30000,150000,200000]\n",
    "        }\n",
    "\n",
    "df4 = pd.DataFrame(data4)\n",
    "\n",
    "# drop_index = df4 [ df4[ '주문번호' ]  == 1002 ].index\n",
    "\n",
    "df4 = df4.set_index(['주문번호'])\n",
    "\n",
    "# 변수 = 데이터프레임.drop(행 인덱스, axis = 0)\n",
    "df4 = df4.drop([1002],axis = 0)\n",
    "# 변수 = 데이터프레임.drop(열 인덱스, axis = 1)\n",
    "df4 = df4.drop(['가격'],axis = 1)\n",
    "\n",
    "df4"
   ]
  },
  {
   "cell_type": "code",
   "execution_count": null,
   "id": "db6f3376-451b-418d-b297-8d073fdadf38",
   "metadata": {},
   "outputs": [],
   "source": [
    "#문제5 \n",
    "shop_data = {\n",
    "    \"주문번호\": [1001, 1002, 1003],\n",
    "    \"고객명\": [\"김철수\", \"이영희\", \"박민수\"],\n",
    "    \"상품명\": [\"키보드\", \"모니터\", \"마우스\"],\n",
    "    \"수량\": [2, 1, 3],\n",
    "    \"가격\": [30000, 150000, 20000]\n",
    "}\n",
    "df = pd.DataFrame( shop_data )\n",
    "df\n",
    "df=df.set_index('주문번호')\n",
    "df.loc[1002] # 주문번호 1002의 상품명만 선택해서 출력\n",
    "# 수량과 가격 열만 선택해서 모든 행 출력\n",
    "df[ ['수량','가격'] ]\n",
    "\n",
    "# 1~2번째 행과 '고객명', '상품명' 열만 선택해서 출력\n",
    "df.iloc[ [1,2], [0,1] ]\n"
   ]
  },
  {
   "cell_type": "code",
   "execution_count": null,
   "id": "fcd0a1da-c8ef-4e96-94b0-4c686c0efd8d",
   "metadata": {},
   "outputs": [],
   "source": [
    "import pandas as pd\n",
    "data = {'주문번호': ['1001', '1002', '1003'],\n",
    "        '고객명': ['김철수', '이영희', '박민수'],\n",
    "        '상품명': ['키보드', '모니터', '마우스'],\n",
    "        '수량': [2, 1, 3],\n",
    "        '단가': [30000, 150000, 20000]}\n",
    "df = pd.DataFrame(data)\n",
    "label = df.loc[1]\n",
    "print(label)\n",
    "print('-----------↑ 요구1 ↑ -- ↓ 요구2 ↓------------')\n",
    "d_e = df[['수량', '단가']]\n",
    "print(d_e)\n",
    "print('-----------↑ 요구2 ↑ -- ↓ 요구3 ↓------------')\n",
    "b_c = df.iloc[0:2:1, [2, 3]]\n",
    "b_c"
   ]
  },
  {
   "cell_type": "code",
   "execution_count": null,
   "id": "a1052d07-9fd8-4c4a-9d80-f6cf3878a147",
   "metadata": {},
   "outputs": [],
   "source": [
    "# 문제6\n",
    "jumsu_data = {\n",
    "    \"이름\": [\"철수\", \"영희\", \"민수\"],\n",
    "    \"국어\": [90, 70, 85],\n",
    "    \"영어\": [85, 95, 80],\n",
    "    \"수학\": [80, 100, 90]\n",
    "}\n",
    "df = pd.DataFrame( jumsu_data )\n",
    "df\n",
    "df=df.set_index( '이름' )\n",
    "df\n",
    "df.loc[ '영희', '수학' ] = 98\n",
    "df.loc['민수','영어'] = 82\n",
    "df\n",
    "# 키보드로 입력 받아서 수정하기\n",
    "# 이름? 영희\n",
    "# 과목? 수학\n",
    "# 수정할 점수는? 98\n",
    "name = input(\"이름은?\")\n",
    "subject = input(\"과목은?\")\n",
    "score = int( input(\"수정할 점수?\") )\n",
    "df.loc[ name, subject ] = score\n",
    "df"
   ]
  },
  {
   "cell_type": "code",
   "execution_count": null,
   "id": "43c44e22-1011-4591-bf83-7a923220cc2d",
   "metadata": {},
   "outputs": [],
   "source": [
    "# 문제7\n",
    "custom_order_data = {\n",
    "    \"주문번호\": [1001, 1002, 1003],\n",
    "    \"고객명\": [\"김철수\", \"이영희\", \"박민수\"],\n",
    "    \"상품명\": [\"키보드\", \"모니터\", \"마우스\"],\n",
    "    \"수량\": [2, 1, 3],\n",
    "    \"가격\": [30000, 150000, 20000]\n",
    "}\n",
    "\n",
    "df = pd.DataFrame(custom_order_data)\n",
    "# 주문번호를 인덱스로 설정\n",
    "df = df.set_index('주문번호')\n",
    "\n",
    "# 주문번호 1002에 해당하는 고객명과 상품명을 출력\n",
    "df.loc[1002, ['고객명', '상품명']]"
   ]
  },
  {
   "cell_type": "code",
   "execution_count": null,
   "id": "6df4fb96-286e-47d0-934b-3f654b3461af",
   "metadata": {},
   "outputs": [],
   "source": [
    "# 문제8\n",
    "data = {\n",
    "    \"주문번호\": [1001, 1002, 1003],\n",
    "    \"고객명\": [\"김철수\", \"이영희\", \"박민수\"],\n",
    "    \"상품명\": [\"키보드\", \"모니터\", \"마우스\"]\n",
    "}\n",
    "df = pd.DataFrame(data)\n",
    "df = df.set_index('주문번호')\n",
    "df = df.reindex([1003, 1001, 1004, 1002])\n",
    "df.sort_index()"
   ]
  },
  {
   "cell_type": "code",
   "execution_count": null,
   "id": "3a1d0556-09bb-4a6a-a3af-510fd12109ca",
   "metadata": {},
   "outputs": [],
   "source": [
    "# 문제9\n",
    "data = {\n",
    "    \"고객명\": [\"김철수\", \"이영희\", \"박민수\"],\n",
    "    \"상품명\": [\"키보드\", \"모니터\", \"마우스\"],\n",
    "    \"수량\": [2, 1, 3]\n",
    "       }\n",
    "df = pd.DataFrame(data)\n",
    "print(df)\n",
    "\n",
    "df = df.set_index('고객명')\n",
    "\n",
    "# 인덱스 설정후\n",
    "print(\"인덱스설정 후\")\n",
    "print(df)\n",
    "# reset_index후\n",
    "df = df.reset_index()\n",
    "df"
   ]
  },
  {
   "cell_type": "code",
   "execution_count": null,
   "id": "4ce0d504-4409-4194-8598-51b947b8059d",
   "metadata": {},
   "outputs": [],
   "source": [
    "# 53page\n",
    "dict_data = {'c0': [1, 2, 3], 'c1': [4, 5, 6], 'c2': [7, 8, 9], 'c3': [10, 11, 12], 'c4': [13, 14, 15]}\n",
    "df = pd.DataFrame(dict_data, index=['r0', 'r2', 'r1'])\n",
    "print(df)\n",
    "ndf = df.sort_index(ascending=True)\n",
    "print(ndf)\n"
   ]
  },
  {
   "cell_type": "code",
   "execution_count": null,
   "id": "48d14d8e-e4e1-4084-836e-95669c78534b",
   "metadata": {},
   "outputs": [],
   "source": [
    "dict_data = {'c0': [10, 2, 23], 'c1': [2, 2, -1], 'c2': [57, 18, 9], 'c3': [10, 15, 12], 'c4': [18, 14, 15]}\n",
    "df = pd.DataFrame(dict_data, index=['r0', 'r1', 'r2'])\n",
    "# c1열을 기준으로 내림차순 정렬\n",
    "ndf = df.sort_values(by='c1', ascending=False)\n",
    "ndf\n",
    "# c1열을 기준(첫번째)으로 내림차순 정렬하는데 만약 동일하면 c3열을 기준(두번째)으로 내림차순 정렬하세요\n",
    "ndf = df.sort_values(by=['c1', 'c3'], ascending=False)\n",
    "ndf\n",
    "# c1열을 기준(첫번째)으로 내림차순 정렬하는데 만약 동일하면 c3열을 기준(두번째)으로 오름차순 정렬하세요\n",
    "ndf = df.sort_values(by=['c1', 'c3'], ascending=[False, True])\n",
    "ndf"
   ]
  },
  {
   "cell_type": "code",
   "execution_count": null,
   "id": "82d84cf2-a268-41bc-9f7e-8ead30ded4b7",
   "metadata": {},
   "outputs": [],
   "source": [
    "sr = pd.Series({'국어': 100, '영어': 80, '수학': 90, '학점': 'A'})\n",
    "sr\n",
    "sr[0:3] + 10"
   ]
  },
  {
   "cell_type": "code",
   "execution_count": null,
   "id": "1c6293a5-1dba-4a10-b571-a24eab67fbb9",
   "metadata": {},
   "outputs": [],
   "source": [
    "# 시리즈 + 시리즈\n",
    "student1 = pd.Series({'국어': 100, '영어': 80, '수학': 90})\n",
    "student2 = pd.Series({'수학': 100, '국어': 80, '영어': 90})\n",
    "덧셈 = (student1 + student2)\n",
    "뺄셈 = (student1 - student2)\n",
    "곱셈 = (student1 * student2)\n",
    "나눗셈 = round((student1 / student2), 2) \n",
    "print(나눗셈)\n",
    "df_T = pd.DataFrame([덧셈, 뺄셈, 곱셈, 나눗셈], index=['합', '차', '곱', '나누기']).T\n",
    "df_T\n",
    "df_T.합.astype(int)\n",
    "df_T"
   ]
  },
  {
   "cell_type": "code",
   "execution_count": null,
   "id": "c61b5052-9c0b-4893-b23e-b5aec66a6772",
   "metadata": {},
   "outputs": [],
   "source": [
    "import pandas as pd\n",
    "student1 = pd.Series({\n",
    "                        '국어':100,\n",
    "                        '영어':80,\n",
    "                        '수학':90,\n",
    "})\n",
    "\n",
    "student2 = pd.Series({\n",
    "                        '수학':100,\n",
    "                        '국어':80,\n",
    "                        '영어':90,\n",
    "})\n",
    "\n",
    "덧셈 = student1 + student2\n",
    "뺄셈 = student1 - student2\n",
    "곱셈 = student1 * student2\n",
    "나눗셈 = round(student1 / student2, 2)\n",
    "\n",
    "df = pd.DataFrame([덧셈, 뺄셈, 곱셈, 나눗셈], index=['합', '차', '곱', '나누기']).T\n",
    "df\n",
    "\n"
   ]
  },
  {
   "cell_type": "code",
   "execution_count": null,
   "id": "5319da43-d117-4654-8c73-3d973c320684",
   "metadata": {},
   "outputs": [],
   "source": [
    "# 교재 62페이지 예제 1-24\n",
    "import numpy as np\n",
    "student1 = pd.Series({\n",
    "                        '국어': np.nan,\n",
    "                        '영어': 80,\n",
    "                        '수학': 90,\n",
    "                    })\n",
    "\n",
    "student2 = pd.Series({\n",
    "                        '수학': 80,\n",
    "                        '국어': 90\n",
    "                    })\n",
    "sr_add = student1.add(student2, fill_value=0)\n",
    "sr_sub = student1.sub(student2, fill_value=0)\n",
    "sr_mul = student1.mul(student2, fill_value=0)\n",
    "sr_div = student1.div(student2, fill_value=0)\n",
    "\n",
    "result = pd.DataFrame([sr_add, sr_sub, sr_mul, sr_div], index=['덧셈', '뺄셈', '곱셈', '나눗셈'])\n",
    "result\n",
    "# inf는 infinite(무한)  80 / 0\n"
   ]
  },
  {
   "cell_type": "code",
   "execution_count": null,
   "id": "900120c7-802a-4927-8187-1be518585fc1",
   "metadata": {},
   "outputs": [],
   "source": [
    "# 산술연산 문제1)\n",
    "import pandas as pd\n",
    "sr = pd.Series({'상품명': ['키보드', '마우스', '모니터'], '가격': [30000, 15000, 200000]})\n",
    "print(sr)\n",
    "\n",
    "\n"
   ]
  }
 ],
 "metadata": {
  "kernelspec": {
   "display_name": "ai",
   "language": "python",
   "name": "ai"
  },
  "language_info": {
   "codemirror_mode": {
    "name": "ipython",
    "version": 3
   },
   "file_extension": ".py",
   "mimetype": "text/x-python",
   "name": "python",
   "nbconvert_exporter": "python",
   "pygments_lexer": "ipython3",
   "version": "3.10.16"
  }
 },
 "nbformat": 4,
 "nbformat_minor": 5
}
