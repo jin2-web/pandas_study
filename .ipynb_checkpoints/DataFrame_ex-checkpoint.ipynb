{
 "cells": [
  {
   "cell_type": "markdown",
   "id": "ccd1bce7-7be6-448b-86ef-b434841cef6c",
   "metadata": {},
   "source": [
    "### 데이터 프레임\n",
    "-  2차원 배열\n",
    "-  2차원 벡터, 행렬\n",
    "-  열 == 속성 == 항목\n",
    "-  행 == 레코드 == 줄\n",
    "-  예) 주식종목 행 - 관측값, 열 - 종목코드, 회사이름, 액면가, 총주식수 \n"
   ]
  },
  {
   "cell_type": "code",
   "execution_count": 17,
   "id": "26ead7e7-651e-45e8-9aa4-2d5ea668b3b0",
   "metadata": {},
   "outputs": [
    {
     "name": "stdout",
     "output_type": "stream",
     "text": [
      "   초1  초2  초3  초4  초5\n",
      "A   1   4   7  10  13\n",
      "B   2   5   8  11  14\n",
      "C   3   6   9  12  15\n"
     ]
    }
   ],
   "source": [
    "# 데이터 프레임 만들기\n",
    "# 방법1) 딕셔너리를 가지고 데이터프레임 만들기 \n",
    "import pandas as pd\n",
    "dict_data = {'c0':[1,2,3], 'c1':[4,5,6], 'c2':[7,8,9], 'c3':[10,11,12],'c4':[13,14,15] }\n",
    "df = pd.DataFrame( dict_data, index=[ 'A', 'B', 'C' ]  ) #만들고\n",
    "df.columns = ['초1','초2','초3','초4','초5'] #이름 바꾸기\n",
    "print( df ) \n"
   ]
  },
  {
   "cell_type": "code",
   "execution_count": 18,
   "id": "2deb601f-04b3-4b38-bffe-dfe5cbe817fb",
   "metadata": {},
   "outputs": [
    {
     "name": "stdout",
     "output_type": "stream",
     "text": [
      "   name  age  children\n",
      "0   Kim   24         2\n",
      "1   Lee   27         1\n",
      "2  Park   34         3\n"
     ]
    }
   ],
   "source": [
    "data = { 'name': ['Kim', 'Lee', 'Park'], 'age': [24, 27, 34], 'children': [2, 1, 3] } \n",
    "df = pd.DataFrame( data )\n",
    "print( df )"
   ]
  },
  {
   "cell_type": "code",
   "execution_count": 33,
   "id": "ad353e52-0281-47e5-96e1-0033b21c3cf2",
   "metadata": {},
   "outputs": [
    {
     "name": "stdout",
     "output_type": "stream",
     "text": [
      "    나이 성별 중학교명\n",
      "1반  15  남  덕영중\n",
      "2반  17  여  수리중\n",
      "Index(['1반', '2반'], dtype='object')\n",
      "Index(['나이', '성별', '중학교명'], dtype='object')\n",
      "    나이 성별   학교\n",
      "준서  15  남  덕영중\n",
      "예은  17  여  수리중\n",
      "    나이 성별   학교\n",
      "준서  15  남  덕영중\n",
      "   성별   학교\n",
      "준서  남  덕영중\n",
      "예은  여  수리중\n"
     ]
    }
   ],
   "source": [
    "# 방법2) pd.DataFrame(  2차원배열, index=행인덱스배열, columns = 열이름 배열 )\n",
    "d_2 = [ [15,'남','덕영중'], [17, '여','수리중']  ]  #2차원\n",
    "df2 = pd.DataFrame(  d_2 )\n",
    "df2.index = [ '1반','2반' ]\n",
    "df2.columns = ['나이','성별','중학교명']\n",
    "print( df2 ) \n",
    "# 반의 이름?\n",
    "print( df2.index ) \n",
    "# 학생의 자료 항목은?\n",
    "print( df2.columns ) \n",
    "# rename \n",
    "# '1반'을 '준서'로  '2반'을 '예은'으로 rename 하세요\n",
    "# '중학교명'을 '학교'을 rename하세요\n",
    "df2 = df2.rename( index = {'1반':'준서', '2반':'예은' } , columns = { '중학교명':'학교' })\n",
    "print( df2 )\n",
    "# drop 삭제하기 \n",
    "# 문제 '예은' \n",
    "df2_drop = df2.drop( '예은', axis=0 ) \n",
    "print( df2_drop )\n",
    "# 문제 '나이'\n",
    "df2_age_drop = df2.drop('나이',axis=1 )\n",
    "print( df2_age_drop ) \n",
    "\n",
    "\n"
   ]
  },
  {
   "cell_type": "code",
   "execution_count": 57,
   "id": "2d27e8ac-37b2-4e1a-a954-90371f2fa1ba",
   "metadata": {},
   "outputs": [
    {
     "name": "stdout",
     "output_type": "stream",
     "text": [
      "    수학  영어   음악   체육\n",
      "준서  90  98   85  100\n",
      "우현  80  89   95   90\n",
      "인아  70  95  100   90\n",
      "    수학  영어   음악   체육\n",
      "준서  90  98   85  100\n",
      "인아  70  95  100   90\n",
      "    수학  영어  음악  체육\n",
      "우현  80  89  95  90\n",
      "    수학  영어   음악   체육\n",
      "준서  90  98   85  100\n",
      "우현  80  89   95   90\n",
      "인아  70  95  100   90\n"
     ]
    },
    {
     "data": {
      "text/html": [
       "<div>\n",
       "<style scoped>\n",
       "    .dataframe tbody tr th:only-of-type {\n",
       "        vertical-align: middle;\n",
       "    }\n",
       "\n",
       "    .dataframe tbody tr th {\n",
       "        vertical-align: top;\n",
       "    }\n",
       "\n",
       "    .dataframe thead th {\n",
       "        text-align: right;\n",
       "    }\n",
       "</style>\n",
       "<table border=\"1\" class=\"dataframe\">\n",
       "  <thead>\n",
       "    <tr style=\"text-align: right;\">\n",
       "      <th></th>\n",
       "      <th>수학</th>\n",
       "      <th>음악</th>\n",
       "      <th>체육</th>\n",
       "    </tr>\n",
       "  </thead>\n",
       "  <tbody>\n",
       "    <tr>\n",
       "      <th>준서</th>\n",
       "      <td>90</td>\n",
       "      <td>85</td>\n",
       "      <td>100</td>\n",
       "    </tr>\n",
       "    <tr>\n",
       "      <th>우현</th>\n",
       "      <td>80</td>\n",
       "      <td>95</td>\n",
       "      <td>90</td>\n",
       "    </tr>\n",
       "    <tr>\n",
       "      <th>인아</th>\n",
       "      <td>70</td>\n",
       "      <td>100</td>\n",
       "      <td>90</td>\n",
       "    </tr>\n",
       "  </tbody>\n",
       "</table>\n",
       "</div>"
      ],
      "text/plain": [
       "    수학   음악   체육\n",
       "준서  90   85  100\n",
       "우현  80   95   90\n",
       "인아  70  100   90"
      ]
     },
     "execution_count": 57,
     "metadata": {},
     "output_type": "execute_result"
    }
   ],
   "source": [
    "# 교재 1-7 22페이지\n",
    "exam_data = {'수학':[90,80,70], '영어':[98,89,95],'음악':[85,95,100], '체육':[100,90,90] }\n",
    "df = pd.DataFrame( exam_data, index=['준서','우현','인아'] )\n",
    "print(df)\n",
    "\n",
    "df2 = df.copy()\n",
    "df2 = df2.drop('우현' )\n",
    "print(df2)\n",
    "\n",
    "df3 = df.copy()\n",
    "df3 = df3.drop( [ '준서', '인아' ] )\n",
    "print( df3 )\n",
    "\n",
    "df4 = df.copy()\n",
    "# df4 = df4.drop(  [ '준서':'우현' ] ) 오류 발생\n",
    "print( df4 )  \n",
    "\n",
    "df5 = df.copy()\n",
    "df5 = df5.drop( '영어', axis=\"columns\" )\n",
    "df5"
   ]
  },
  {
   "cell_type": "code",
   "execution_count": 90,
   "id": "4c80c8bb-ee10-4b49-9674-24afec97cb82",
   "metadata": {},
   "outputs": [
    {
     "name": "stdout",
     "output_type": "stream",
     "text": [
      "    수학  영어   음악   체육\n",
      "서준  90  98   85  100\n",
      "우현  80  89   95   90\n",
      "인아  70  95  100   90\n",
      "    수학  영어   음악   체육\n",
      "서준  90  98   85  100\n",
      "우현  80  89   95   90\n",
      "인아  70  95  100   90\n"
     ]
    }
   ],
   "source": [
    "# 행선택\n",
    "# 열선택\n",
    "# 1-9\n",
    "exam_data = {'수학':[90,80,70], '영어':[98,89,95],'음악':[85,95,100], '체육':[100,90,90] }\n",
    "df = pd.DataFrame( exam_data, index=['서준','우현','인아'] )\n",
    "print(  df.loc[ '서준': '인아' ] )\n",
    "print( df.iloc[ 0:3] )\n",
    "\n"
   ]
  },
  {
   "cell_type": "code",
   "execution_count": 92,
   "id": "9c18792c-b03c-4a2c-93e4-d8490939e72f",
   "metadata": {},
   "outputs": [
    {
     "name": "stdout",
     "output_type": "stream",
     "text": [
      "<class 'pandas.core.frame.DataFrame'>\n"
     ]
    }
   ],
   "source": [
    "# 예제 1-10 열선택\n",
    "exam_data = {'이름': ['서준','우현','인아' ], \n",
    "             '수학': [90,80,70],\n",
    "             '영어': [98,89,95],\n",
    "             '음악': [85,95,100],\n",
    "             '체육': [100,90,90] }\n",
    "df = pd.DataFrame( exam_data )\n",
    "df\n",
    "print( type(df) ) "
   ]
  },
  {
   "cell_type": "code",
   "execution_count": 96,
   "id": "93068d33-8a07-4225-899d-028b66d540ec",
   "metadata": {},
   "outputs": [
    {
     "name": "stdout",
     "output_type": "stream",
     "text": [
      "<class 'pandas.core.series.Series'>\n",
      "0    90\n",
      "1    80\n",
      "2    70\n",
      "Name: 수학, dtype: int64\n"
     ]
    },
    {
     "data": {
      "text/plain": [
       "0    98\n",
       "1    89\n",
       "2    95\n",
       "Name: 영어, dtype: int64"
      ]
     },
     "execution_count": 96,
     "metadata": {},
     "output_type": "execute_result"
    }
   ],
   "source": [
    "math1 = df['수학']\n",
    "print( type( math1 )  )\n",
    "print( math1 ) \n",
    "english = df.영어 # 많이 사용\n",
    "english\n",
    "a = df['체육']\n",
    "a = df.체육\n"
   ]
  },
  {
   "cell_type": "code",
   "execution_count": 100,
   "id": "8b5fe169-edf4-408b-995e-d38096139b7c",
   "metadata": {},
   "outputs": [
    {
     "name": "stdout",
     "output_type": "stream",
     "text": [
      "<class 'pandas.core.frame.DataFrame'> ~~\n",
      "<class 'pandas.core.series.Series'> @@@\n"
     ]
    }
   ],
   "source": [
    "music_gym = df[ ['음악','체육'] ]\n",
    "music_gym\n",
    "math = df[ ['수학'] ] # 데이터프레임 추출 \n",
    "print( type(math) , \"~~\" ) \n",
    "math = df[ '수학' ] #시리즈 추출\n",
    "print( type(math), '@@@'  )"
   ]
  },
  {
   "cell_type": "code",
   "execution_count": 78,
   "id": "ac5fd2cf-5081-43d2-ad98-3702c2398986",
   "metadata": {},
   "outputs": [
    {
     "name": "stdout",
     "output_type": "stream",
     "text": [
      "   수학\n",
      "0  90\n",
      "1  80\n",
      "2  70\n",
      "<class 'pandas.core.frame.DataFrame'>\n"
     ]
    }
   ],
   "source": [
    "math2 = df[['수학']]\n",
    "print(math2)\n",
    "print( type(math2) )"
   ]
  },
  {
   "cell_type": "code",
   "execution_count": 103,
   "id": "fb62407b-82ff-41ef-b8d1-13dfd4721066",
   "metadata": {},
   "outputs": [
    {
     "data": {
      "text/html": [
       "<div>\n",
       "<style scoped>\n",
       "    .dataframe tbody tr th:only-of-type {\n",
       "        vertical-align: middle;\n",
       "    }\n",
       "\n",
       "    .dataframe tbody tr th {\n",
       "        vertical-align: top;\n",
       "    }\n",
       "\n",
       "    .dataframe thead th {\n",
       "        text-align: right;\n",
       "    }\n",
       "</style>\n",
       "<table border=\"1\" class=\"dataframe\">\n",
       "  <thead>\n",
       "    <tr style=\"text-align: right;\">\n",
       "      <th></th>\n",
       "      <th>이름</th>\n",
       "      <th>수학</th>\n",
       "      <th>영어</th>\n",
       "      <th>음악</th>\n",
       "      <th>체육</th>\n",
       "    </tr>\n",
       "  </thead>\n",
       "  <tbody>\n",
       "    <tr>\n",
       "      <th>0</th>\n",
       "      <td>서준</td>\n",
       "      <td>90</td>\n",
       "      <td>98</td>\n",
       "      <td>85</td>\n",
       "      <td>100</td>\n",
       "    </tr>\n",
       "    <tr>\n",
       "      <th>2</th>\n",
       "      <td>인아</td>\n",
       "      <td>70</td>\n",
       "      <td>95</td>\n",
       "      <td>100</td>\n",
       "      <td>90</td>\n",
       "    </tr>\n",
       "  </tbody>\n",
       "</table>\n",
       "</div>"
      ],
      "text/plain": [
       "   이름  수학  영어   음악   체육\n",
       "0  서준  90  98   85  100\n",
       "2  인아  70  95  100   90"
      ]
     },
     "execution_count": 103,
     "metadata": {},
     "output_type": "execute_result"
    }
   ],
   "source": [
    "df.iloc[::2]"
   ]
  },
  {
   "cell_type": "code",
   "execution_count": 81,
   "id": "ff76c16b-7ac6-4c64-968f-7b061eac63e1",
   "metadata": {},
   "outputs": [
    {
     "data": {
      "text/html": [
       "<div>\n",
       "<style scoped>\n",
       "    .dataframe tbody tr th:only-of-type {\n",
       "        vertical-align: middle;\n",
       "    }\n",
       "\n",
       "    .dataframe tbody tr th {\n",
       "        vertical-align: top;\n",
       "    }\n",
       "\n",
       "    .dataframe thead th {\n",
       "        text-align: right;\n",
       "    }\n",
       "</style>\n",
       "<table border=\"1\" class=\"dataframe\">\n",
       "  <thead>\n",
       "    <tr style=\"text-align: right;\">\n",
       "      <th></th>\n",
       "      <th>이름</th>\n",
       "      <th>수학</th>\n",
       "      <th>영어</th>\n",
       "      <th>음악</th>\n",
       "      <th>체육</th>\n",
       "    </tr>\n",
       "  </thead>\n",
       "  <tbody>\n",
       "    <tr>\n",
       "      <th>0</th>\n",
       "      <td>서준</td>\n",
       "      <td>90</td>\n",
       "      <td>98</td>\n",
       "      <td>85</td>\n",
       "      <td>100</td>\n",
       "    </tr>\n",
       "    <tr>\n",
       "      <th>2</th>\n",
       "      <td>인아</td>\n",
       "      <td>70</td>\n",
       "      <td>95</td>\n",
       "      <td>100</td>\n",
       "      <td>90</td>\n",
       "    </tr>\n",
       "  </tbody>\n",
       "</table>\n",
       "</div>"
      ],
      "text/plain": [
       "   이름  수학  영어   음악   체육\n",
       "0  서준  90  98   85  100\n",
       "2  인아  70  95  100   90"
      ]
     },
     "execution_count": 81,
     "metadata": {},
     "output_type": "execute_result"
    }
   ],
   "source": [
    "df.iloc[0:3:2]"
   ]
  },
  {
   "cell_type": "code",
   "execution_count": 82,
   "id": "cd833a63-1f6d-4470-9f22-4dcc8be1b838",
   "metadata": {},
   "outputs": [
    {
     "data": {
      "text/html": [
       "<div>\n",
       "<style scoped>\n",
       "    .dataframe tbody tr th:only-of-type {\n",
       "        vertical-align: middle;\n",
       "    }\n",
       "\n",
       "    .dataframe tbody tr th {\n",
       "        vertical-align: top;\n",
       "    }\n",
       "\n",
       "    .dataframe thead th {\n",
       "        text-align: right;\n",
       "    }\n",
       "</style>\n",
       "<table border=\"1\" class=\"dataframe\">\n",
       "  <thead>\n",
       "    <tr style=\"text-align: right;\">\n",
       "      <th></th>\n",
       "      <th>이름</th>\n",
       "      <th>수학</th>\n",
       "      <th>영어</th>\n",
       "      <th>음악</th>\n",
       "      <th>체육</th>\n",
       "    </tr>\n",
       "  </thead>\n",
       "  <tbody>\n",
       "    <tr>\n",
       "      <th>2</th>\n",
       "      <td>인아</td>\n",
       "      <td>70</td>\n",
       "      <td>95</td>\n",
       "      <td>100</td>\n",
       "      <td>90</td>\n",
       "    </tr>\n",
       "    <tr>\n",
       "      <th>1</th>\n",
       "      <td>우현</td>\n",
       "      <td>80</td>\n",
       "      <td>89</td>\n",
       "      <td>95</td>\n",
       "      <td>90</td>\n",
       "    </tr>\n",
       "    <tr>\n",
       "      <th>0</th>\n",
       "      <td>서준</td>\n",
       "      <td>90</td>\n",
       "      <td>98</td>\n",
       "      <td>85</td>\n",
       "      <td>100</td>\n",
       "    </tr>\n",
       "  </tbody>\n",
       "</table>\n",
       "</div>"
      ],
      "text/plain": [
       "   이름  수학  영어   음악   체육\n",
       "2  인아  70  95  100   90\n",
       "1  우현  80  89   95   90\n",
       "0  서준  90  98   85  100"
      ]
     },
     "execution_count": 82,
     "metadata": {},
     "output_type": "execute_result"
    }
   ],
   "source": [
    "df.iloc[::-1]"
   ]
  },
  {
   "cell_type": "code",
   "execution_count": 118,
   "id": "14cd7961-f9d3-4c37-b54b-95807d5e7d92",
   "metadata": {},
   "outputs": [
    {
     "data": {
      "text/html": [
       "<div>\n",
       "<style scoped>\n",
       "    .dataframe tbody tr th:only-of-type {\n",
       "        vertical-align: middle;\n",
       "    }\n",
       "\n",
       "    .dataframe tbody tr th {\n",
       "        vertical-align: top;\n",
       "    }\n",
       "\n",
       "    .dataframe thead th {\n",
       "        text-align: right;\n",
       "    }\n",
       "</style>\n",
       "<table border=\"1\" class=\"dataframe\">\n",
       "  <thead>\n",
       "    <tr style=\"text-align: right;\">\n",
       "      <th></th>\n",
       "      <th>음악</th>\n",
       "      <th>체육</th>\n",
       "    </tr>\n",
       "    <tr>\n",
       "      <th>이름</th>\n",
       "      <th></th>\n",
       "      <th></th>\n",
       "    </tr>\n",
       "  </thead>\n",
       "  <tbody>\n",
       "    <tr>\n",
       "      <th>서준</th>\n",
       "      <td>85</td>\n",
       "      <td>100</td>\n",
       "    </tr>\n",
       "    <tr>\n",
       "      <th>우현</th>\n",
       "      <td>95</td>\n",
       "      <td>90</td>\n",
       "    </tr>\n",
       "  </tbody>\n",
       "</table>\n",
       "</div>"
      ],
      "text/plain": [
       "    음악   체육\n",
       "이름         \n",
       "서준  85  100\n",
       "우현  95   90"
      ]
     },
     "execution_count": 118,
     "metadata": {},
     "output_type": "execute_result"
    }
   ],
   "source": [
    "#예제 1-11\n",
    "exam_data = {'이름': ['서준','우현','인아' ], \n",
    "             '수학': [90,80,70],\n",
    "             '영어': [98,89,95],\n",
    "             '음악': [85,95,100],\n",
    "             '체육': [100,90,90] }\n",
    "df = pd.DataFrame( exam_data )\n",
    "df = df.set_index('이름') \n",
    "df.loc[ ['서준', '우현'], ['음악', '체육']  ]\n",
    "#df.iloc[ 0, [2,3]  ]"
   ]
  },
  {
   "cell_type": "code",
   "execution_count": 119,
   "id": "79e5680f-3663-4ba8-b2cb-373f884ee9cc",
   "metadata": {},
   "outputs": [
    {
     "data": {
      "text/html": [
       "<div>\n",
       "<style scoped>\n",
       "    .dataframe tbody tr th:only-of-type {\n",
       "        vertical-align: middle;\n",
       "    }\n",
       "\n",
       "    .dataframe tbody tr th {\n",
       "        vertical-align: top;\n",
       "    }\n",
       "\n",
       "    .dataframe thead th {\n",
       "        text-align: right;\n",
       "    }\n",
       "</style>\n",
       "<table border=\"1\" class=\"dataframe\">\n",
       "  <thead>\n",
       "    <tr style=\"text-align: right;\">\n",
       "      <th></th>\n",
       "      <th>수학</th>\n",
       "      <th>영어</th>\n",
       "      <th>음악</th>\n",
       "      <th>체육</th>\n",
       "      <th>국어</th>\n",
       "      <th>컴퓨터</th>\n",
       "    </tr>\n",
       "    <tr>\n",
       "      <th>이름</th>\n",
       "      <th></th>\n",
       "      <th></th>\n",
       "      <th></th>\n",
       "      <th></th>\n",
       "      <th></th>\n",
       "      <th></th>\n",
       "    </tr>\n",
       "  </thead>\n",
       "  <tbody>\n",
       "    <tr>\n",
       "      <th>서준</th>\n",
       "      <td>90</td>\n",
       "      <td>98</td>\n",
       "      <td>85</td>\n",
       "      <td>100</td>\n",
       "      <td>80</td>\n",
       "      <td>100</td>\n",
       "    </tr>\n",
       "    <tr>\n",
       "      <th>우현</th>\n",
       "      <td>80</td>\n",
       "      <td>89</td>\n",
       "      <td>95</td>\n",
       "      <td>90</td>\n",
       "      <td>80</td>\n",
       "      <td>85</td>\n",
       "    </tr>\n",
       "    <tr>\n",
       "      <th>인아</th>\n",
       "      <td>70</td>\n",
       "      <td>95</td>\n",
       "      <td>100</td>\n",
       "      <td>90</td>\n",
       "      <td>80</td>\n",
       "      <td>75</td>\n",
       "    </tr>\n",
       "  </tbody>\n",
       "</table>\n",
       "</div>"
      ],
      "text/plain": [
       "    수학  영어   음악   체육  국어  컴퓨터\n",
       "이름                           \n",
       "서준  90  98   85  100  80  100\n",
       "우현  80  89   95   90  80   85\n",
       "인아  70  95  100   90  80   75"
      ]
     },
     "execution_count": 119,
     "metadata": {},
     "output_type": "execute_result"
    }
   ],
   "source": [
    "#추가\n",
    "#열추가\n",
    "df['국어'] = 80\n",
    "df\n",
    "df['컴퓨터'] = [100,85,75]\n",
    "df \n"
   ]
  },
  {
   "cell_type": "code",
   "execution_count": 120,
   "id": "ef5e662c-17da-4871-aace-01a99b8020b4",
   "metadata": {},
   "outputs": [
    {
     "data": {
      "text/html": [
       "<div>\n",
       "<style scoped>\n",
       "    .dataframe tbody tr th:only-of-type {\n",
       "        vertical-align: middle;\n",
       "    }\n",
       "\n",
       "    .dataframe tbody tr th {\n",
       "        vertical-align: top;\n",
       "    }\n",
       "\n",
       "    .dataframe thead th {\n",
       "        text-align: right;\n",
       "    }\n",
       "</style>\n",
       "<table border=\"1\" class=\"dataframe\">\n",
       "  <thead>\n",
       "    <tr style=\"text-align: right;\">\n",
       "      <th></th>\n",
       "      <th>수학</th>\n",
       "      <th>영어</th>\n",
       "      <th>음악</th>\n",
       "      <th>체육</th>\n",
       "      <th>국어</th>\n",
       "      <th>컴퓨터</th>\n",
       "    </tr>\n",
       "    <tr>\n",
       "      <th>이름</th>\n",
       "      <th></th>\n",
       "      <th></th>\n",
       "      <th></th>\n",
       "      <th></th>\n",
       "      <th></th>\n",
       "      <th></th>\n",
       "    </tr>\n",
       "  </thead>\n",
       "  <tbody>\n",
       "    <tr>\n",
       "      <th>서준</th>\n",
       "      <td>90</td>\n",
       "      <td>98</td>\n",
       "      <td>85</td>\n",
       "      <td>100</td>\n",
       "      <td>80</td>\n",
       "      <td>100</td>\n",
       "    </tr>\n",
       "    <tr>\n",
       "      <th>우현</th>\n",
       "      <td>80</td>\n",
       "      <td>89</td>\n",
       "      <td>95</td>\n",
       "      <td>90</td>\n",
       "      <td>80</td>\n",
       "      <td>85</td>\n",
       "    </tr>\n",
       "    <tr>\n",
       "      <th>인아</th>\n",
       "      <td>70</td>\n",
       "      <td>95</td>\n",
       "      <td>100</td>\n",
       "      <td>90</td>\n",
       "      <td>80</td>\n",
       "      <td>75</td>\n",
       "    </tr>\n",
       "    <tr>\n",
       "      <th>길동</th>\n",
       "      <td>100</td>\n",
       "      <td>80</td>\n",
       "      <td>90</td>\n",
       "      <td>75</td>\n",
       "      <td>60</td>\n",
       "      <td>90</td>\n",
       "    </tr>\n",
       "  </tbody>\n",
       "</table>\n",
       "</div>"
      ],
      "text/plain": [
       "     수학  영어   음악   체육  국어  컴퓨터\n",
       "이름                            \n",
       "서준   90  98   85  100  80  100\n",
       "우현   80  89   95   90  80   85\n",
       "인아   70  95  100   90  80   75\n",
       "길동  100  80   90   75  60   90"
      ]
     },
     "execution_count": 120,
     "metadata": {},
     "output_type": "execute_result"
    }
   ],
   "source": [
    "#행추가\n",
    "df.loc['길동'] = [100,80,90,75,60,90 ]\n",
    "df"
   ]
  },
  {
   "cell_type": "code",
   "execution_count": 121,
   "id": "3e58e0af-7b87-4b4f-a90d-3b8586d4a222",
   "metadata": {},
   "outputs": [],
   "source": [
    "# 41페이지 그림 1-14보고 코드해 보기 \n",
    "# 예제 1-13 \n",
    "\n"
   ]
  },
  {
   "cell_type": "code",
   "execution_count": 129,
   "id": "4c470428-e44a-4da5-967b-f4e8651f3920",
   "metadata": {},
   "outputs": [
    {
     "data": {
      "text/html": [
       "<div>\n",
       "<style scoped>\n",
       "    .dataframe tbody tr th:only-of-type {\n",
       "        vertical-align: middle;\n",
       "    }\n",
       "\n",
       "    .dataframe tbody tr th {\n",
       "        vertical-align: top;\n",
       "    }\n",
       "\n",
       "    .dataframe thead th {\n",
       "        text-align: right;\n",
       "    }\n",
       "</style>\n",
       "<table border=\"1\" class=\"dataframe\">\n",
       "  <thead>\n",
       "    <tr style=\"text-align: right;\">\n",
       "      <th></th>\n",
       "      <th>수학</th>\n",
       "      <th>영어</th>\n",
       "      <th>음악</th>\n",
       "      <th>체육</th>\n",
       "      <th>국어</th>\n",
       "      <th>컴퓨터</th>\n",
       "    </tr>\n",
       "    <tr>\n",
       "      <th>이름</th>\n",
       "      <th></th>\n",
       "      <th></th>\n",
       "      <th></th>\n",
       "      <th></th>\n",
       "      <th></th>\n",
       "      <th></th>\n",
       "    </tr>\n",
       "  </thead>\n",
       "  <tbody>\n",
       "    <tr>\n",
       "      <th>서준</th>\n",
       "      <td>90</td>\n",
       "      <td>98</td>\n",
       "      <td>85</td>\n",
       "      <td>95</td>\n",
       "      <td>80</td>\n",
       "      <td>100</td>\n",
       "    </tr>\n",
       "    <tr>\n",
       "      <th>우현</th>\n",
       "      <td>100</td>\n",
       "      <td>89</td>\n",
       "      <td>95</td>\n",
       "      <td>90</td>\n",
       "      <td>100</td>\n",
       "      <td>90</td>\n",
       "    </tr>\n",
       "    <tr>\n",
       "      <th>인아</th>\n",
       "      <td>70</td>\n",
       "      <td>95</td>\n",
       "      <td>100</td>\n",
       "      <td>90</td>\n",
       "      <td>80</td>\n",
       "      <td>75</td>\n",
       "    </tr>\n",
       "    <tr>\n",
       "      <th>길동</th>\n",
       "      <td>100</td>\n",
       "      <td>80</td>\n",
       "      <td>90</td>\n",
       "      <td>75</td>\n",
       "      <td>60</td>\n",
       "      <td>90</td>\n",
       "    </tr>\n",
       "  </tbody>\n",
       "</table>\n",
       "</div>"
      ],
      "text/plain": [
       "     수학  영어   음악  체육   국어  컴퓨터\n",
       "이름                            \n",
       "서준   90  98   85  95   80  100\n",
       "우현  100  89   95  90  100   90\n",
       "인아   70  95  100  90   80   75\n",
       "길동  100  80   90  75   60   90"
      ]
     },
     "execution_count": 129,
     "metadata": {},
     "output_type": "execute_result"
    }
   ],
   "source": [
    "# 원소값 변경\n",
    "#서준 체육 95 변경\n",
    "df.loc['서준','체육'] = 95\n",
    "df\n",
    "#우현 국어 100변경\n",
    "df.loc['우현','국어'] = 100\n",
    "df\n",
    "#우현 수학, 컴퓨터을 각각 100 90 변경\n",
    "df.loc['우현', ['수학','컴퓨터'] ] = 100, 90\n",
    "df"
   ]
  },
  {
   "cell_type": "code",
   "execution_count": 135,
   "id": "4d6bb141-a2e0-4112-b71e-deb00869d6ef",
   "metadata": {},
   "outputs": [
    {
     "data": {
      "text/html": [
       "<div>\n",
       "<style scoped>\n",
       "    .dataframe tbody tr th:only-of-type {\n",
       "        vertical-align: middle;\n",
       "    }\n",
       "\n",
       "    .dataframe tbody tr th {\n",
       "        vertical-align: top;\n",
       "    }\n",
       "\n",
       "    .dataframe thead th {\n",
       "        text-align: right;\n",
       "    }\n",
       "</style>\n",
       "<table border=\"1\" class=\"dataframe\">\n",
       "  <thead>\n",
       "    <tr style=\"text-align: right;\">\n",
       "      <th></th>\n",
       "      <th>수학</th>\n",
       "      <th>영어</th>\n",
       "      <th>음악</th>\n",
       "      <th>체육</th>\n",
       "      <th>국어</th>\n",
       "      <th>컴퓨터</th>\n",
       "    </tr>\n",
       "    <tr>\n",
       "      <th>이름</th>\n",
       "      <th></th>\n",
       "      <th></th>\n",
       "      <th></th>\n",
       "      <th></th>\n",
       "      <th></th>\n",
       "      <th></th>\n",
       "    </tr>\n",
       "  </thead>\n",
       "  <tbody>\n",
       "    <tr>\n",
       "      <th>서준</th>\n",
       "      <td>90</td>\n",
       "      <td>98</td>\n",
       "      <td>85</td>\n",
       "      <td>95</td>\n",
       "      <td>80</td>\n",
       "      <td>100</td>\n",
       "    </tr>\n",
       "    <tr>\n",
       "      <th>우현</th>\n",
       "      <td>100</td>\n",
       "      <td>89</td>\n",
       "      <td>95</td>\n",
       "      <td>90</td>\n",
       "      <td>100</td>\n",
       "      <td>90</td>\n",
       "    </tr>\n",
       "    <tr>\n",
       "      <th>인아</th>\n",
       "      <td>70</td>\n",
       "      <td>95</td>\n",
       "      <td>100</td>\n",
       "      <td>90</td>\n",
       "      <td>80</td>\n",
       "      <td>75</td>\n",
       "    </tr>\n",
       "    <tr>\n",
       "      <th>길동</th>\n",
       "      <td>100</td>\n",
       "      <td>80</td>\n",
       "      <td>90</td>\n",
       "      <td>75</td>\n",
       "      <td>60</td>\n",
       "      <td>90</td>\n",
       "    </tr>\n",
       "  </tbody>\n",
       "</table>\n",
       "</div>"
      ],
      "text/plain": [
       "     수학  영어   음악  체육   국어  컴퓨터\n",
       "이름                            \n",
       "서준   90  98   85  95   80  100\n",
       "우현  100  89   95  90  100   90\n",
       "인아   70  95  100  90   80   75\n",
       "길동  100  80   90  75   60   90"
      ]
     },
     "execution_count": 135,
     "metadata": {},
     "output_type": "execute_result"
    }
   ],
   "source": [
    "# 46page\n",
    "# 행, 열 위치 바꾸기\n",
    "df_trans = df.transpose()\n",
    "df_trans\n",
    "df"
   ]
  }
 ],
 "metadata": {
  "kernelspec": {
   "display_name": "ai",
   "language": "python",
   "name": "ai"
  },
  "language_info": {
   "codemirror_mode": {
    "name": "ipython",
    "version": 3
   },
   "file_extension": ".py",
   "mimetype": "text/x-python",
   "name": "python",
   "nbconvert_exporter": "python",
   "pygments_lexer": "ipython3",
   "version": "3.10.16"
  }
 },
 "nbformat": 4,
 "nbformat_minor": 5
}
