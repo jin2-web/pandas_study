{
 "cells": [
  {
   "cell_type": "code",
   "execution_count": 5,
   "id": "7b25aba4-0588-43ae-b490-f1604fb347da",
   "metadata": {},
   "outputs": [
    {
     "name": "stdout",
     "output_type": "stream",
     "text": [
      "키보드     30000\n",
      "마우스     15000\n",
      "모니터    200000\n",
      "dtype: int64\n",
      "키보드     27000.0\n",
      "마우스     13500.0\n",
      "모니터    180000.0\n",
      "dtype: float64\n"
     ]
    }
   ],
   "source": [
    "# 산술연산 문제1)\n",
    "import pandas as pd\n",
    "price = pd.Series([30000, 15000, 200000], index=['키보드', '마우스', '모니터'])\n",
    "print(price)\n",
    "discount_price = price * 0.9\n",
    "print(discount_price)"
   ]
  },
  {
   "cell_type": "code",
   "execution_count": 17,
   "id": "23858729-3e2c-479c-b517-7ae1209b61ae",
   "metadata": {},
   "outputs": [
    {
     "name": "stdout",
     "output_type": "stream",
     "text": [
      "햄버거     6050.0\n",
      "피자     16500.0\n",
      "파스타    13200.0\n",
      "dtype: float64\n"
     ]
    }
   ],
   "source": [
    "# 문제2)\n",
    "menu_price = pd.Series([5500, 15000, 12000], index=['햄버거', '피자', '파스타'])\n",
    "# menu_price = pd.Series( {'햄버거': 5500,  \n",
    "real_price = menu_price * 1.1\n",
    "print(real_price)"
   ]
  },
  {
   "cell_type": "code",
   "execution_count": 11,
   "id": "ea0d9d60-0421-400d-a727-d7a892a62dd5",
   "metadata": {},
   "outputs": [
    {
     "data": {
      "text/plain": [
       "키보드     60000\n",
       "마우스     45000\n",
       "모니터    200000\n",
       "dtype: int64"
      ]
     },
     "execution_count": 11,
     "metadata": {},
     "output_type": "execute_result"
    }
   ],
   "source": [
    "price = pd.Series([30000, 15000, 200000], index=['키보드', '마우스', '모니터'])\n",
    "amount = pd.Series([2, 3, 1], index=['키보드', '마우스', '모니터'])\n",
    "money = price * amount\n",
    "money"
   ]
  },
  {
   "cell_type": "code",
   "execution_count": 23,
   "id": "7c0524e0-2e63-4aca-9138-5d5356019727",
   "metadata": {},
   "outputs": [
    {
     "data": {
      "text/html": [
       "<div>\n",
       "<style scoped>\n",
       "    .dataframe tbody tr th:only-of-type {\n",
       "        vertical-align: middle;\n",
       "    }\n",
       "\n",
       "    .dataframe tbody tr th {\n",
       "        vertical-align: top;\n",
       "    }\n",
       "\n",
       "    .dataframe thead th {\n",
       "        text-align: right;\n",
       "    }\n",
       "</style>\n",
       "<table border=\"1\" class=\"dataframe\">\n",
       "  <thead>\n",
       "    <tr style=\"text-align: right;\">\n",
       "      <th></th>\n",
       "      <th>중간</th>\n",
       "      <th>기말</th>\n",
       "      <th>평균</th>\n",
       "    </tr>\n",
       "  </thead>\n",
       "  <tbody>\n",
       "    <tr>\n",
       "      <th>철수</th>\n",
       "      <td>80.0</td>\n",
       "      <td>90.0</td>\n",
       "      <td>85.0</td>\n",
       "    </tr>\n",
       "    <tr>\n",
       "      <th>영희</th>\n",
       "      <td>85.0</td>\n",
       "      <td>95.0</td>\n",
       "      <td>90.0</td>\n",
       "    </tr>\n",
       "    <tr>\n",
       "      <th>민수</th>\n",
       "      <td>78.0</td>\n",
       "      <td>88.0</td>\n",
       "      <td>83.0</td>\n",
       "    </tr>\n",
       "  </tbody>\n",
       "</table>\n",
       "</div>"
      ],
      "text/plain": [
       "      중간    기말    평균\n",
       "철수  80.0  90.0  85.0\n",
       "영희  85.0  95.0  90.0\n",
       "민수  78.0  88.0  83.0"
      ]
     },
     "execution_count": 23,
     "metadata": {},
     "output_type": "execute_result"
    }
   ],
   "source": [
    "# 문제4\n",
    "mid_test = pd.Series([80, 85, 78], index=['철수', '영희', '민수'])\n",
    "fin_test = pd.Series({\"철수\": 90, \"영희\": 95, \"민수\": 88})\n",
    "avg_score = (mid_test + fin_test)/2\n",
    "avg_score\n",
    "df = pd.DataFrame( [mid_test, fin_test, avg_score] , index=['중간','기말','평균'])\n",
    "student = df.T\n",
    "student"
   ]
  },
  {
   "cell_type": "code",
   "execution_count": 29,
   "id": "b6a41193-268d-43d8-bab3-f83ac69da71c",
   "metadata": {},
   "outputs": [
    {
     "name": "stdout",
     "output_type": "stream",
     "text": [
      "키보드    27000.0\n",
      "마우스    14250.0\n",
      "모니터    16000.0\n",
      "dtype: float64\n"
     ]
    },
    {
     "data": {
      "text/html": [
       "<div>\n",
       "<style scoped>\n",
       "    .dataframe tbody tr th:only-of-type {\n",
       "        vertical-align: middle;\n",
       "    }\n",
       "\n",
       "    .dataframe tbody tr th {\n",
       "        vertical-align: top;\n",
       "    }\n",
       "\n",
       "    .dataframe thead th {\n",
       "        text-align: right;\n",
       "    }\n",
       "</style>\n",
       "<table border=\"1\" class=\"dataframe\">\n",
       "  <thead>\n",
       "    <tr style=\"text-align: right;\">\n",
       "      <th></th>\n",
       "      <th>원가가격</th>\n",
       "      <th>최종가격</th>\n",
       "    </tr>\n",
       "  </thead>\n",
       "  <tbody>\n",
       "    <tr>\n",
       "      <th>키보드</th>\n",
       "      <td>30000.0</td>\n",
       "      <td>27000.0</td>\n",
       "    </tr>\n",
       "    <tr>\n",
       "      <th>마우스</th>\n",
       "      <td>15000.0</td>\n",
       "      <td>14250.0</td>\n",
       "    </tr>\n",
       "    <tr>\n",
       "      <th>모니터</th>\n",
       "      <td>20000.0</td>\n",
       "      <td>16000.0</td>\n",
       "    </tr>\n",
       "  </tbody>\n",
       "</table>\n",
       "</div>"
      ],
      "text/plain": [
       "        원가가격     최종가격\n",
       "키보드  30000.0  27000.0\n",
       "마우스  15000.0  14250.0\n",
       "모니터  20000.0  16000.0"
      ]
     },
     "execution_count": 29,
     "metadata": {},
     "output_type": "execute_result"
    }
   ],
   "source": [
    "# 문제5\n",
    "price = pd.Series([30000, 15000, 20000], index = ['키보드', '마우스', '모니터']) \n",
    "dis_rate = pd.Series([10, 5, 20], index = ['키보드', '마우스', '모니터'])\n",
    "cal1 = price.mul(dis_rate, fill_value=0)\n",
    "cal2 = cal1.div(100.0, fill_value=0)\n",
    "fin_price = price.sub(cal2, fill_value=0)\n",
    "print(fin_price)\n",
    "df = pd.DataFrame( [price, fin_price], index=['원가가격', '최종가격'] )\n",
    "data=df.T\n",
    "data"
   ]
  },
  {
   "cell_type": "code",
   "execution_count": 35,
   "id": "6edb8855-0177-40e9-96ee-ab9c3574864f",
   "metadata": {},
   "outputs": [
    {
     "data": {
      "text/plain": [
       "pandas.core.frame.DataFrame"
      ]
     },
     "execution_count": 35,
     "metadata": {},
     "output_type": "execute_result"
    }
   ],
   "source": [
    "# 64page\n",
    "import pandas as pd\n",
    "import seaborn as sns\n",
    "\n",
    "titanic = sns.load_dataset('titanic')\n",
    "type(titanic)"
   ]
  },
  {
   "cell_type": "code",
   "execution_count": 36,
   "id": "97fac31e-f3e4-4796-a9b1-24cf74ce7ab4",
   "metadata": {},
   "outputs": [
    {
     "data": {
      "text/plain": [
       "['anagrams',\n",
       " 'anscombe',\n",
       " 'attention',\n",
       " 'brain_networks',\n",
       " 'car_crashes',\n",
       " 'diamonds',\n",
       " 'dots',\n",
       " 'dowjones',\n",
       " 'exercise',\n",
       " 'flights',\n",
       " 'fmri',\n",
       " 'geyser',\n",
       " 'glue',\n",
       " 'healthexp',\n",
       " 'iris',\n",
       " 'mpg',\n",
       " 'penguins',\n",
       " 'planets',\n",
       " 'seaice',\n",
       " 'taxis',\n",
       " 'tips',\n",
       " 'titanic']"
      ]
     },
     "execution_count": 36,
     "metadata": {},
     "output_type": "execute_result"
    }
   ],
   "source": [
    "# 데이터셋의 목록보기\n",
    "sns.get_dataset_names()"
   ]
  },
  {
   "cell_type": "code",
   "execution_count": 47,
   "id": "72236253-0876-4032-83cc-5e16ad89c7a9",
   "metadata": {},
   "outputs": [
    {
     "name": "stdout",
     "output_type": "stream",
     "text": [
      "     age     fare\n",
      "0   22.0   7.2500\n",
      "1   38.0  71.2833\n",
      "2   26.0   7.9250\n",
      "3   35.0  53.1000\n",
      "4   35.0   8.0500\n",
      "5    NaN   8.4583\n",
      "6   54.0  51.8625\n",
      "7    2.0  21.0750\n",
      "8   27.0  11.1333\n",
      "9   14.0  30.0708\n",
      "10   4.0  16.7000\n",
      "11  58.0  26.5500\n",
      "12  20.0   8.0500\n",
      "13  39.0  31.2750\n",
      "14  14.0   7.8542\n",
      "15  55.0  16.0000\n",
      "16   2.0  29.1250\n",
      "17   NaN  13.0000\n",
      "18  31.0  18.0000\n",
      "19   NaN   7.2250\n",
      "20  35.0  26.0000\n",
      "21  34.0  13.0000\n",
      "     age     fare\n",
      "0   32.0  17.2500\n",
      "1   48.0  81.2833\n",
      "2   36.0  17.9250\n",
      "3   45.0  63.1000\n",
      "4   45.0  18.0500\n",
      "5    NaN  18.4583\n",
      "6   64.0  61.8625\n",
      "7   12.0  31.0750\n",
      "8   37.0  21.1333\n",
      "9   24.0  40.0708\n",
      "10  14.0  26.7000\n",
      "11  68.0  36.5500\n",
      "12  30.0  18.0500\n",
      "13  49.0  41.2750\n",
      "14  24.0  17.8542\n",
      "15  65.0  26.0000\n",
      "16  12.0  39.1250\n",
      "17   NaN  23.0000\n",
      "18  41.0  28.0000\n",
      "19   NaN  17.2250\n",
      "20  45.0  36.0000\n",
      "21  44.0  23.0000\n"
     ]
    }
   ],
   "source": [
    "t_age_fare = titanic.loc[0:21, ['age', 'fare']]\n",
    "titanic.head()\n",
    "titanic.tail()\n",
    "titanic.loc[400:501, :]\n",
    "addition = t_age_fare + 10\n",
    "print(t_age_fare)\n",
    "print(addition)"
   ]
  },
  {
   "cell_type": "code",
   "execution_count": 62,
   "id": "f80b8079-3506-4319-aab7-6626e2c13258",
   "metadata": {},
   "outputs": [
    {
     "data": {
      "text/html": [
       "<div>\n",
       "<style scoped>\n",
       "    .dataframe tbody tr th:only-of-type {\n",
       "        vertical-align: middle;\n",
       "    }\n",
       "\n",
       "    .dataframe tbody tr th {\n",
       "        vertical-align: top;\n",
       "    }\n",
       "\n",
       "    .dataframe thead th {\n",
       "        text-align: right;\n",
       "    }\n",
       "</style>\n",
       "<table border=\"1\" class=\"dataframe\">\n",
       "  <thead>\n",
       "    <tr style=\"text-align: right;\">\n",
       "      <th></th>\n",
       "      <th>열A</th>\n",
       "      <th>열B</th>\n",
       "      <th>열c</th>\n",
       "    </tr>\n",
       "  </thead>\n",
       "  <tbody>\n",
       "    <tr>\n",
       "      <th>행0</th>\n",
       "      <td>25.0</td>\n",
       "      <td>300</td>\n",
       "      <td>1.0</td>\n",
       "    </tr>\n",
       "    <tr>\n",
       "      <th>행1</th>\n",
       "      <td>30.0</td>\n",
       "      <td>600</td>\n",
       "      <td>2.0</td>\n",
       "    </tr>\n",
       "    <tr>\n",
       "      <th>행2</th>\n",
       "      <td>60.0</td>\n",
       "      <td>400</td>\n",
       "      <td>3.0</td>\n",
       "    </tr>\n",
       "    <tr>\n",
       "      <th>행3</th>\n",
       "      <td>20.0</td>\n",
       "      <td>600</td>\n",
       "      <td>2.0</td>\n",
       "    </tr>\n",
       "    <tr>\n",
       "      <th>행4</th>\n",
       "      <td>30.0</td>\n",
       "      <td>300</td>\n",
       "      <td>3.0</td>\n",
       "    </tr>\n",
       "  </tbody>\n",
       "</table>\n",
       "</div>"
      ],
      "text/plain": [
       "      열A   열B   열c\n",
       "행0  25.0  300  1.0\n",
       "행1  30.0  600  2.0\n",
       "행2  60.0  400  3.0\n",
       "행3  20.0  600  2.0\n",
       "행4  30.0  300  3.0"
      ]
     },
     "execution_count": 62,
     "metadata": {},
     "output_type": "execute_result"
    }
   ],
   "source": [
    "# 그림 1-19 코드 하기\n",
    "import numpy as np\n",
    "df1 = pd.DataFrame( {\"열A\":[15,20,50,np.nan,np.nan], \n",
    "                     \"열B\":[100,500,200,500,200], \n",
    "                     \"열c\":[1,2,3,2,3] },\n",
    "                    index=['행0','행1','행2','행3','행4'] )\n",
    "df1\n",
    "df2 = pd.DataFrame( {\"열A\":[10,10,10,20,30], \n",
    "                     \"열B\":[200,100,200,100,100] }, \n",
    "                    index=['행0','행1','행2','행3','행4'] )\n",
    "df3 = df1.add(df2, fill_value=0)\n",
    "df3"
   ]
  },
  {
   "cell_type": "code",
   "execution_count": 92,
   "id": "0965c872-740c-408f-a440-04c382f8ac66",
   "metadata": {},
   "outputs": [
    {
     "data": {
      "text/html": [
       "<div>\n",
       "<style scoped>\n",
       "    .dataframe tbody tr th:only-of-type {\n",
       "        vertical-align: middle;\n",
       "    }\n",
       "\n",
       "    .dataframe tbody tr th {\n",
       "        vertical-align: top;\n",
       "    }\n",
       "\n",
       "    .dataframe thead th {\n",
       "        text-align: right;\n",
       "    }\n",
       "</style>\n",
       "<table border=\"1\" class=\"dataframe\">\n",
       "  <thead>\n",
       "    <tr style=\"text-align: right;\">\n",
       "      <th></th>\n",
       "      <th>age</th>\n",
       "      <th>sex</th>\n",
       "      <th>alone</th>\n",
       "    </tr>\n",
       "  </thead>\n",
       "  <tbody>\n",
       "    <tr>\n",
       "      <th>7</th>\n",
       "      <td>2.00</td>\n",
       "      <td>male</td>\n",
       "      <td>False</td>\n",
       "    </tr>\n",
       "    <tr>\n",
       "      <th>10</th>\n",
       "      <td>4.00</td>\n",
       "      <td>female</td>\n",
       "      <td>False</td>\n",
       "    </tr>\n",
       "    <tr>\n",
       "      <th>16</th>\n",
       "      <td>2.00</td>\n",
       "      <td>male</td>\n",
       "      <td>False</td>\n",
       "    </tr>\n",
       "    <tr>\n",
       "      <th>24</th>\n",
       "      <td>8.00</td>\n",
       "      <td>female</td>\n",
       "      <td>False</td>\n",
       "    </tr>\n",
       "    <tr>\n",
       "      <th>33</th>\n",
       "      <td>66.00</td>\n",
       "      <td>male</td>\n",
       "      <td>True</td>\n",
       "    </tr>\n",
       "    <tr>\n",
       "      <th>...</th>\n",
       "      <td>...</td>\n",
       "      <td>...</td>\n",
       "      <td>...</td>\n",
       "    </tr>\n",
       "    <tr>\n",
       "      <th>831</th>\n",
       "      <td>0.83</td>\n",
       "      <td>male</td>\n",
       "      <td>False</td>\n",
       "    </tr>\n",
       "    <tr>\n",
       "      <th>850</th>\n",
       "      <td>4.00</td>\n",
       "      <td>male</td>\n",
       "      <td>False</td>\n",
       "    </tr>\n",
       "    <tr>\n",
       "      <th>851</th>\n",
       "      <td>74.00</td>\n",
       "      <td>male</td>\n",
       "      <td>True</td>\n",
       "    </tr>\n",
       "    <tr>\n",
       "      <th>852</th>\n",
       "      <td>9.00</td>\n",
       "      <td>female</td>\n",
       "      <td>False</td>\n",
       "    </tr>\n",
       "    <tr>\n",
       "      <th>869</th>\n",
       "      <td>4.00</td>\n",
       "      <td>male</td>\n",
       "      <td>False</td>\n",
       "    </tr>\n",
       "  </tbody>\n",
       "</table>\n",
       "<p>84 rows × 3 columns</p>\n",
       "</div>"
      ],
      "text/plain": [
       "       age     sex  alone\n",
       "7     2.00    male  False\n",
       "10    4.00  female  False\n",
       "16    2.00    male  False\n",
       "24    8.00  female  False\n",
       "33   66.00    male   True\n",
       "..     ...     ...    ...\n",
       "831   0.83    male  False\n",
       "850   4.00    male  False\n",
       "851  74.00    male   True\n",
       "852   9.00  female  False\n",
       "869   4.00    male  False\n",
       "\n",
       "[84 rows x 3 columns]"
      ]
     },
     "execution_count": 92,
     "metadata": {},
     "output_type": "execute_result"
    }
   ],
   "source": [
    "# 69page  관계연산자 (> < == !=), 논리연산자 (&-그리고, |-또는  ~-반대) \n",
    "# 행1 열A 30.0 추출하기\n",
    "df3.loc[ '행1','열A' ] != 30 \n",
    "titanic = sns.load_dataset('titanic')\n",
    "titanic.head()\n",
    "df = titanic.loc[ 0:9, ['age','fare'] ]\n",
    "df['age']\n",
    "df['age'] < 20\n",
    "# True값이 레코드가 추출된다.\n",
    "df[ df['age'] < 20 ]\n",
    "df[ df.age < 20 ]\n",
    "\n",
    "df[ ~(df.age < 20) ]\n",
    "\n",
    "# 나이가 20대인 승객 출력  (age >= 20) & (age <= 29)\n",
    "df[  (df.age >= 20) & (df.age <= 29) ] \n",
    "\n",
    "# 나이가 20세 미만이고 여성인 승객 sex  female\n",
    "titanic.head()\n",
    "df_age_sex = titanic.loc[0:9, ['age', 'sex']]\n",
    "df_age_sex[(df_age_sex.age < 20) & (df_age_sex.sex == 'female')]\n",
    "# 나이가 20세 미만이거나 여성인 승객 sex  female\n",
    "df_age_sex[(df_age_sex.age < 20) | (df_age_sex.sex == 'female')]\n",
    "# 조건은 mask 변수로 처리 참인 행을 여러 열(열의 목록 나열) 추출\n",
    "mask = (titanic.age < 10) | (titanic.age > 60)\n",
    "titanic.loc[ mask, ['age','sex', 'alone' ] ]\n"
   ]
  },
  {
   "cell_type": "code",
   "execution_count": 119,
   "id": "3dd2a8a5-bf03-4f79-b457-28378d1bfa79",
   "metadata": {},
   "outputs": [
    {
     "data": {
      "text/html": [
       "<div>\n",
       "<style scoped>\n",
       "    .dataframe tbody tr th:only-of-type {\n",
       "        vertical-align: middle;\n",
       "    }\n",
       "\n",
       "    .dataframe tbody tr th {\n",
       "        vertical-align: top;\n",
       "    }\n",
       "\n",
       "    .dataframe thead th {\n",
       "        text-align: right;\n",
       "    }\n",
       "</style>\n",
       "<table border=\"1\" class=\"dataframe\">\n",
       "  <thead>\n",
       "    <tr style=\"text-align: right;\">\n",
       "      <th></th>\n",
       "      <th>2023년 가격(원)</th>\n",
       "      <th>2024년 가격(원)</th>\n",
       "      <th>예상가격</th>\n",
       "    </tr>\n",
       "    <tr>\n",
       "      <th>상품명</th>\n",
       "      <th></th>\n",
       "      <th></th>\n",
       "      <th></th>\n",
       "    </tr>\n",
       "  </thead>\n",
       "  <tbody>\n",
       "    <tr>\n",
       "      <th>키보드</th>\n",
       "      <td>30000</td>\n",
       "      <td>33000</td>\n",
       "      <td>34650.0</td>\n",
       "    </tr>\n",
       "    <tr>\n",
       "      <th>마우스</th>\n",
       "      <td>15000</td>\n",
       "      <td>16500</td>\n",
       "      <td>17325.0</td>\n",
       "    </tr>\n",
       "    <tr>\n",
       "      <th>모니터</th>\n",
       "      <td>200000</td>\n",
       "      <td>220000</td>\n",
       "      <td>231000.0</td>\n",
       "    </tr>\n",
       "  </tbody>\n",
       "</table>\n",
       "</div>"
      ],
      "text/plain": [
       "     2023년 가격(원)  2024년 가격(원)      예상가격\n",
       "상품명                                    \n",
       "키보드        30000        33000   34650.0\n",
       "마우스        15000        16500   17325.0\n",
       "모니터       200000       220000  231000.0"
      ]
     },
     "execution_count": 119,
     "metadata": {},
     "output_type": "execute_result"
    }
   ],
   "source": [
    "# 문제6 데이터프레임 연산 문제\n",
    "df =pd.DataFrame( {'상품명': ['키보드','마우스','모니터'], \n",
    "               '2023년 가격(원)':[30000,15000, 200000] , \n",
    "               '2024년 가격(원)':[33000, 16500, 220000] } )\n",
    "df = df.set_index('상품명')\n",
    "df['예상가격'] = df['2024년 가격(원)'] * 1.05\n",
    "df"
   ]
  },
  {
   "cell_type": "code",
   "execution_count": 120,
   "id": "3434e045-cac9-442f-b674-fd725b692b27",
   "metadata": {},
   "outputs": [
    {
     "data": {
      "text/html": [
       "<div>\n",
       "<style scoped>\n",
       "    .dataframe tbody tr th:only-of-type {\n",
       "        vertical-align: middle;\n",
       "    }\n",
       "\n",
       "    .dataframe tbody tr th {\n",
       "        vertical-align: top;\n",
       "    }\n",
       "\n",
       "    .dataframe thead th {\n",
       "        text-align: right;\n",
       "    }\n",
       "</style>\n",
       "<table border=\"1\" class=\"dataframe\">\n",
       "  <thead>\n",
       "    <tr style=\"text-align: right;\">\n",
       "      <th></th>\n",
       "      <th>매출액</th>\n",
       "    </tr>\n",
       "    <tr>\n",
       "      <th>상품명</th>\n",
       "      <th></th>\n",
       "    </tr>\n",
       "  </thead>\n",
       "  <tbody>\n",
       "    <tr>\n",
       "      <th>키보드</th>\n",
       "      <td>12000</td>\n",
       "    </tr>\n",
       "    <tr>\n",
       "      <th>마우스</th>\n",
       "      <td>6000</td>\n",
       "    </tr>\n",
       "    <tr>\n",
       "      <th>모니터</th>\n",
       "      <td>300000</td>\n",
       "    </tr>\n",
       "  </tbody>\n",
       "</table>\n",
       "</div>"
      ],
      "text/plain": [
       "        매출액\n",
       "상품명        \n",
       "키보드   12000\n",
       "마우스    6000\n",
       "모니터  300000"
      ]
     },
     "execution_count": 120,
     "metadata": {},
     "output_type": "execute_result"
    }
   ],
   "source": [
    "# 문제7 데이터프레임과 데이터프레임 연산하는 문제\n",
    "df_1 = pd.DataFrame( {'상품명': ['키보드','마우스','모니터'], \n",
    "               '매출액':[60000,45000, 1200000] } )\n",
    "df_2 = pd.DataFrame( {'상품명': ['키보드','마우스','모니터'], \n",
    "               '매출액':[72000,51000, 1500000] } )\n",
    "df_1=df_1.set_index('상품명')\n",
    "df_2=df_2.set_index('상품명')\n",
    "df_increase = df_2 - df_1\n",
    "df_increase"
   ]
  },
  {
   "cell_type": "code",
   "execution_count": 129,
   "id": "ebec04ae-2c34-4e29-bf9d-fd38fbbf0e1d",
   "metadata": {},
   "outputs": [
    {
     "data": {
      "text/html": [
       "<div>\n",
       "<style scoped>\n",
       "    .dataframe tbody tr th:only-of-type {\n",
       "        vertical-align: middle;\n",
       "    }\n",
       "\n",
       "    .dataframe tbody tr th {\n",
       "        vertical-align: top;\n",
       "    }\n",
       "\n",
       "    .dataframe thead th {\n",
       "        text-align: right;\n",
       "    }\n",
       "</style>\n",
       "<table border=\"1\" class=\"dataframe\">\n",
       "  <thead>\n",
       "    <tr style=\"text-align: right;\">\n",
       "      <th></th>\n",
       "      <th>상품명</th>\n",
       "      <th>매출액</th>\n",
       "    </tr>\n",
       "  </thead>\n",
       "  <tbody>\n",
       "    <tr>\n",
       "      <th>2</th>\n",
       "      <td>모니터</td>\n",
       "      <td>1500000</td>\n",
       "    </tr>\n",
       "  </tbody>\n",
       "</table>\n",
       "</div>"
      ],
      "text/plain": [
       "   상품명      매출액\n",
       "2  모니터  1500000"
      ]
     },
     "execution_count": 129,
     "metadata": {},
     "output_type": "execute_result"
    }
   ],
   "source": [
    "# 문제8 필터링에서 불린 인덱싱 문제\n",
    "df =pd.DataFrame( {'상품명': ['키보드','마우스','모니터', '헤드셋','웹캠'], \n",
    "               '매출액(원)':[300000,500000, 1500000, 80000, 120000] } )\n",
    "#df[ '매출액'] \n",
    "df.매출액 >= 1000000\n",
    "mask = df[ '매출액']  >= 1000000\n",
    "mask\n",
    "# df[ mask ]['매출액']\n",
    "df[mask]"
   ]
  },
  {
   "cell_type": "code",
   "execution_count": 132,
   "id": "4412dd15-fb5d-4601-a646-3cee4a030cc6",
   "metadata": {},
   "outputs": [
    {
     "data": {
      "text/plain": [
       "이름\n",
       "이영희    32\n",
       "박민수    40\n",
       "송지혜    35\n",
       "Name: 나이, dtype: int64"
      ]
     },
     "execution_count": 132,
     "metadata": {},
     "output_type": "execute_result"
    }
   ],
   "source": [
    "# 문제9\n",
    "df = pd.DataFrame({'이름':['김철수', '이영희', '박민수', '정수현', '송지혜'], '나이':[25, 32, 40, 28, 35]})\n",
    "df = df.set_index('이름')\n",
    "mask = df.나이 >= 30\n",
    "df.loc[mask, '나이']\n",
    "df[mask]['나이']"
   ]
  },
  {
   "cell_type": "code",
   "execution_count": 173,
   "id": "6ae3c4b1-d4b5-4e7f-b6c9-535e03acb43f",
   "metadata": {},
   "outputs": [
    {
     "data": {
      "text/html": [
       "<div>\n",
       "<style scoped>\n",
       "    .dataframe tbody tr th:only-of-type {\n",
       "        vertical-align: middle;\n",
       "    }\n",
       "\n",
       "    .dataframe tbody tr th {\n",
       "        vertical-align: top;\n",
       "    }\n",
       "\n",
       "    .dataframe thead th {\n",
       "        text-align: right;\n",
       "    }\n",
       "</style>\n",
       "<table border=\"1\" class=\"dataframe\">\n",
       "  <thead>\n",
       "    <tr style=\"text-align: right;\">\n",
       "      <th></th>\n",
       "      <th>survived</th>\n",
       "      <th>pclass</th>\n",
       "      <th>sex</th>\n",
       "      <th>age</th>\n",
       "      <th>sibsp</th>\n",
       "      <th>parch</th>\n",
       "      <th>fare</th>\n",
       "      <th>embarked</th>\n",
       "      <th>class</th>\n",
       "      <th>who</th>\n",
       "      <th>adult_male</th>\n",
       "      <th>deck</th>\n",
       "      <th>embark_town</th>\n",
       "      <th>alive</th>\n",
       "      <th>alone</th>\n",
       "    </tr>\n",
       "  </thead>\n",
       "  <tbody>\n",
       "    <tr>\n",
       "      <th>0</th>\n",
       "      <td>0</td>\n",
       "      <td>3</td>\n",
       "      <td>male</td>\n",
       "      <td>22.0</td>\n",
       "      <td>1</td>\n",
       "      <td>0</td>\n",
       "      <td>7.2500</td>\n",
       "      <td>S</td>\n",
       "      <td>Third</td>\n",
       "      <td>man</td>\n",
       "      <td>True</td>\n",
       "      <td>NaN</td>\n",
       "      <td>Southampton</td>\n",
       "      <td>no</td>\n",
       "      <td>False</td>\n",
       "    </tr>\n",
       "    <tr>\n",
       "      <th>2</th>\n",
       "      <td>1</td>\n",
       "      <td>3</td>\n",
       "      <td>female</td>\n",
       "      <td>26.0</td>\n",
       "      <td>0</td>\n",
       "      <td>0</td>\n",
       "      <td>7.9250</td>\n",
       "      <td>S</td>\n",
       "      <td>Third</td>\n",
       "      <td>woman</td>\n",
       "      <td>False</td>\n",
       "      <td>NaN</td>\n",
       "      <td>Southampton</td>\n",
       "      <td>yes</td>\n",
       "      <td>True</td>\n",
       "    </tr>\n",
       "    <tr>\n",
       "      <th>3</th>\n",
       "      <td>1</td>\n",
       "      <td>1</td>\n",
       "      <td>female</td>\n",
       "      <td>35.0</td>\n",
       "      <td>1</td>\n",
       "      <td>0</td>\n",
       "      <td>53.1000</td>\n",
       "      <td>S</td>\n",
       "      <td>First</td>\n",
       "      <td>woman</td>\n",
       "      <td>False</td>\n",
       "      <td>C</td>\n",
       "      <td>Southampton</td>\n",
       "      <td>yes</td>\n",
       "      <td>False</td>\n",
       "    </tr>\n",
       "    <tr>\n",
       "      <th>4</th>\n",
       "      <td>0</td>\n",
       "      <td>3</td>\n",
       "      <td>male</td>\n",
       "      <td>35.0</td>\n",
       "      <td>0</td>\n",
       "      <td>0</td>\n",
       "      <td>8.0500</td>\n",
       "      <td>S</td>\n",
       "      <td>Third</td>\n",
       "      <td>man</td>\n",
       "      <td>True</td>\n",
       "      <td>NaN</td>\n",
       "      <td>Southampton</td>\n",
       "      <td>no</td>\n",
       "      <td>True</td>\n",
       "    </tr>\n",
       "    <tr>\n",
       "      <th>5</th>\n",
       "      <td>0</td>\n",
       "      <td>3</td>\n",
       "      <td>male</td>\n",
       "      <td>NaN</td>\n",
       "      <td>0</td>\n",
       "      <td>0</td>\n",
       "      <td>8.4583</td>\n",
       "      <td>Q</td>\n",
       "      <td>Third</td>\n",
       "      <td>man</td>\n",
       "      <td>True</td>\n",
       "      <td>NaN</td>\n",
       "      <td>Queenstown</td>\n",
       "      <td>no</td>\n",
       "      <td>True</td>\n",
       "    </tr>\n",
       "    <tr>\n",
       "      <th>...</th>\n",
       "      <td>...</td>\n",
       "      <td>...</td>\n",
       "      <td>...</td>\n",
       "      <td>...</td>\n",
       "      <td>...</td>\n",
       "      <td>...</td>\n",
       "      <td>...</td>\n",
       "      <td>...</td>\n",
       "      <td>...</td>\n",
       "      <td>...</td>\n",
       "      <td>...</td>\n",
       "      <td>...</td>\n",
       "      <td>...</td>\n",
       "      <td>...</td>\n",
       "      <td>...</td>\n",
       "    </tr>\n",
       "    <tr>\n",
       "      <th>885</th>\n",
       "      <td>0</td>\n",
       "      <td>3</td>\n",
       "      <td>female</td>\n",
       "      <td>39.0</td>\n",
       "      <td>0</td>\n",
       "      <td>5</td>\n",
       "      <td>29.1250</td>\n",
       "      <td>Q</td>\n",
       "      <td>Third</td>\n",
       "      <td>woman</td>\n",
       "      <td>False</td>\n",
       "      <td>NaN</td>\n",
       "      <td>Queenstown</td>\n",
       "      <td>no</td>\n",
       "      <td>False</td>\n",
       "    </tr>\n",
       "    <tr>\n",
       "      <th>886</th>\n",
       "      <td>0</td>\n",
       "      <td>2</td>\n",
       "      <td>male</td>\n",
       "      <td>27.0</td>\n",
       "      <td>0</td>\n",
       "      <td>0</td>\n",
       "      <td>13.0000</td>\n",
       "      <td>S</td>\n",
       "      <td>Second</td>\n",
       "      <td>man</td>\n",
       "      <td>True</td>\n",
       "      <td>NaN</td>\n",
       "      <td>Southampton</td>\n",
       "      <td>no</td>\n",
       "      <td>True</td>\n",
       "    </tr>\n",
       "    <tr>\n",
       "      <th>887</th>\n",
       "      <td>1</td>\n",
       "      <td>1</td>\n",
       "      <td>female</td>\n",
       "      <td>19.0</td>\n",
       "      <td>0</td>\n",
       "      <td>0</td>\n",
       "      <td>30.0000</td>\n",
       "      <td>S</td>\n",
       "      <td>First</td>\n",
       "      <td>woman</td>\n",
       "      <td>False</td>\n",
       "      <td>B</td>\n",
       "      <td>Southampton</td>\n",
       "      <td>yes</td>\n",
       "      <td>True</td>\n",
       "    </tr>\n",
       "    <tr>\n",
       "      <th>888</th>\n",
       "      <td>0</td>\n",
       "      <td>3</td>\n",
       "      <td>female</td>\n",
       "      <td>NaN</td>\n",
       "      <td>1</td>\n",
       "      <td>2</td>\n",
       "      <td>23.4500</td>\n",
       "      <td>S</td>\n",
       "      <td>Third</td>\n",
       "      <td>woman</td>\n",
       "      <td>False</td>\n",
       "      <td>NaN</td>\n",
       "      <td>Southampton</td>\n",
       "      <td>no</td>\n",
       "      <td>False</td>\n",
       "    </tr>\n",
       "    <tr>\n",
       "      <th>890</th>\n",
       "      <td>0</td>\n",
       "      <td>3</td>\n",
       "      <td>male</td>\n",
       "      <td>32.0</td>\n",
       "      <td>0</td>\n",
       "      <td>0</td>\n",
       "      <td>7.7500</td>\n",
       "      <td>Q</td>\n",
       "      <td>Third</td>\n",
       "      <td>man</td>\n",
       "      <td>True</td>\n",
       "      <td>NaN</td>\n",
       "      <td>Queenstown</td>\n",
       "      <td>no</td>\n",
       "      <td>True</td>\n",
       "    </tr>\n",
       "  </tbody>\n",
       "</table>\n",
       "<p>721 rows × 15 columns</p>\n",
       "</div>"
      ],
      "text/plain": [
       "     survived  pclass     sex   age  sibsp  parch     fare embarked   class  \\\n",
       "0           0       3    male  22.0      1      0   7.2500        S   Third   \n",
       "2           1       3  female  26.0      0      0   7.9250        S   Third   \n",
       "3           1       1  female  35.0      1      0  53.1000        S   First   \n",
       "4           0       3    male  35.0      0      0   8.0500        S   Third   \n",
       "5           0       3    male   NaN      0      0   8.4583        Q   Third   \n",
       "..        ...     ...     ...   ...    ...    ...      ...      ...     ...   \n",
       "885         0       3  female  39.0      0      5  29.1250        Q   Third   \n",
       "886         0       2    male  27.0      0      0  13.0000        S  Second   \n",
       "887         1       1  female  19.0      0      0  30.0000        S   First   \n",
       "888         0       3  female   NaN      1      2  23.4500        S   Third   \n",
       "890         0       3    male  32.0      0      0   7.7500        Q   Third   \n",
       "\n",
       "       who  adult_male deck  embark_town alive  alone  \n",
       "0      man        True  NaN  Southampton    no  False  \n",
       "2    woman       False  NaN  Southampton   yes   True  \n",
       "3    woman       False    C  Southampton   yes  False  \n",
       "4      man        True  NaN  Southampton    no   True  \n",
       "5      man        True  NaN   Queenstown    no   True  \n",
       "..     ...         ...  ...          ...   ...    ...  \n",
       "885  woman       False  NaN   Queenstown    no  False  \n",
       "886    man        True  NaN  Southampton    no   True  \n",
       "887  woman       False    B  Southampton   yes   True  \n",
       "888  woman       False  NaN  Southampton    no  False  \n",
       "890    man        True  NaN   Queenstown    no   True  \n",
       "\n",
       "[721 rows x 15 columns]"
      ]
     },
     "execution_count": 173,
     "metadata": {},
     "output_type": "execute_result"
    }
   ],
   "source": [
    "# 75page query()\n",
    "# 예제 1-28\n",
    "import pandas as pd\n",
    "import seaborn as sns\n",
    "titanic = sns.load_dataset('titanic')\n",
    "df = titanic.loc[0:9, ['age', 'fare']]\n",
    "df.query( 'age < 20' )\n",
    "titanic.head()\n",
    "titanic.query( 'pclass == 1' )\n",
    "titanic.query( \"(who == 'woman')  &  (deck == 'C')\")\n",
    "\n",
    "pd.set_option('display.max_columns', 15)\n",
    "pd.get_option('display.max_columns')\n",
    "pd.reset_option('display.max_columns') # set_option한 것을 초기화하기 \n",
    "mask1 = titanic['embark_town'] == 'Southampton'\n",
    "mask1\n",
    "titanic\n",
    "mask2 = titanic['embark_town'] == 'Queenstown'\n",
    "mask2\n",
    "df_boolean = titanic[mask1 | mask2]\n",
    "df_boolean\n",
    "\n",
    "isin_filters = titanic['embark_town'].isin( ['Southampton', 'Queenstown'] )\n",
    "titanic[ isin_filters ]\n",
    "\n",
    "isin_filters = titanic['embark_town'].isin( ['Southampton', 'Queenstown'] )\n",
    "titanic[ isin_filters ]"
   ]
  },
  {
   "cell_type": "code",
   "execution_count": 185,
   "id": "48390ac3-ffdc-4dea-9277-e3b78f65d63e",
   "metadata": {},
   "outputs": [
    {
     "data": {
      "text/html": [
       "<div>\n",
       "<style scoped>\n",
       "    .dataframe tbody tr th:only-of-type {\n",
       "        vertical-align: middle;\n",
       "    }\n",
       "\n",
       "    .dataframe tbody tr th {\n",
       "        vertical-align: top;\n",
       "    }\n",
       "\n",
       "    .dataframe thead th {\n",
       "        text-align: right;\n",
       "    }\n",
       "</style>\n",
       "<table border=\"1\" class=\"dataframe\">\n",
       "  <thead>\n",
       "    <tr style=\"text-align: right;\">\n",
       "      <th></th>\n",
       "      <th>상품명</th>\n",
       "      <th>가격</th>\n",
       "    </tr>\n",
       "  </thead>\n",
       "  <tbody>\n",
       "    <tr>\n",
       "      <th>0</th>\n",
       "      <td>키보드</td>\n",
       "      <td>30000</td>\n",
       "    </tr>\n",
       "    <tr>\n",
       "      <th>3</th>\n",
       "      <td>헤드셋</td>\n",
       "      <td>80000</td>\n",
       "    </tr>\n",
       "  </tbody>\n",
       "</table>\n",
       "</div>"
      ],
      "text/plain": [
       "   상품명     가격\n",
       "0  키보드  30000\n",
       "3  헤드셋  80000"
      ]
     },
     "execution_count": 185,
     "metadata": {},
     "output_type": "execute_result"
    }
   ],
   "source": [
    "# 문제10\n",
    "df = pd.DataFrame( {'상품명': ['키보드','마우스','모니터', '헤드셋','웹캠'], \n",
    "                   '가격(원)':[30000, 500000, 1500000, 80000, 120000] } )\n",
    "df=df.rename( columns = {'가격(원)': '가격'} )\n",
    "# df = df.rename(columns={'A': 'Alpha', 'B': 'Beta'})\n",
    "df.query( '가격 >= 30000 and 가격 <= 100000' )"
   ]
  },
  {
   "cell_type": "code",
   "execution_count": 181,
   "id": "9ac93c18-d0d0-44ea-ba95-b4b8504b6178",
   "metadata": {},
   "outputs": [
    {
     "data": {
      "text/html": [
       "<div>\n",
       "<style scoped>\n",
       "    .dataframe tbody tr th:only-of-type {\n",
       "        vertical-align: middle;\n",
       "    }\n",
       "\n",
       "    .dataframe tbody tr th {\n",
       "        vertical-align: top;\n",
       "    }\n",
       "\n",
       "    .dataframe thead th {\n",
       "        text-align: right;\n",
       "    }\n",
       "</style>\n",
       "<table border=\"1\" class=\"dataframe\">\n",
       "  <thead>\n",
       "    <tr style=\"text-align: right;\">\n",
       "      <th></th>\n",
       "      <th>상품명</th>\n",
       "      <th>가격(원)</th>\n",
       "    </tr>\n",
       "  </thead>\n",
       "  <tbody>\n",
       "    <tr>\n",
       "      <th>0</th>\n",
       "      <td>키보드</td>\n",
       "      <td>300000</td>\n",
       "    </tr>\n",
       "    <tr>\n",
       "      <th>1</th>\n",
       "      <td>마우스</td>\n",
       "      <td>500000</td>\n",
       "    </tr>\n",
       "    <tr>\n",
       "      <th>4</th>\n",
       "      <td>웹캠</td>\n",
       "      <td>120000</td>\n",
       "    </tr>\n",
       "  </tbody>\n",
       "</table>\n",
       "</div>"
      ],
      "text/plain": [
       "   상품명   가격(원)\n",
       "0  키보드  300000\n",
       "1  마우스  500000\n",
       "4   웹캠  120000"
      ]
     },
     "execution_count": 181,
     "metadata": {},
     "output_type": "execute_result"
    }
   ],
   "source": [
    "# 문제11\n",
    "df = pd.DataFrame({'상품명': ['키보드', '마우스', '모니터', '헤드셋', '웹캠', '이어폰'],\n",
    "                   '가격(원)': [300000, 500000, 1500000, 80000, 120000, 25000]})\n",
    "mask = df['상품명'].isin(['키보드', '마우스', '웹캠'])\n",
    "df[mask]"
   ]
  },
  {
   "cell_type": "code",
   "execution_count": 195,
   "id": "8b741d73-1276-4987-be90-31ce69773a0f",
   "metadata": {},
   "outputs": [
    {
     "name": "stdout",
     "output_type": "stream",
     "text": [
      "object\n",
      "     이름\n",
      "0    철수\n",
      "1    영희\n",
      "2  None\n",
      "string\n",
      "     이름\n",
      "0    철수\n",
      "1    영희\n",
      "2  <NA>\n",
      "0    False\n",
      "1    False\n",
      "2     True\n",
      "Name: 이름, dtype: bool\n",
      "0    False\n",
      "1    False\n",
      "2     True\n",
      "Name: 이름, dtype: bool\n"
     ]
    }
   ],
   "source": [
    "# 79page\n",
    "import pandas as pd\n",
    "import numpy as np\n",
    "# object dtype\n",
    "df1 = pd.DataFrame({'이름': ['철수', '영희', np.nan]}, dtype='object')\n",
    "# , dtype='object' 생략할 수 있다.\n",
    "print(df1['이름'].dtype)  # object\n",
    "print( df1 )\n",
    "# StringDtype\n",
    "df2 = pd.DataFrame({'이름': ['철수', '영희', pd.NA]}, dtype='string')\n",
    "print(df2['이름'].dtype)  # string[python]\n",
    "print( df2 )\n",
    "\n",
    "print( df1['이름'].isna() )\n",
    "print( df2['이름'].isna() )\n",
    "\n",
    "import numpy as np\n",
    "df2['이름'].isna()\n"
   ]
  },
  {
   "cell_type": "code",
   "execution_count": 205,
   "id": "5f3fef5c-3af4-498e-9a14-d9cf5e6a605c",
   "metadata": {},
   "outputs": [
    {
     "data": {
      "text/plain": [
       "0     Apple\n",
       "1    Banana\n",
       "2    Cherry\n",
       "dtype: object"
      ]
     },
     "execution_count": 205,
     "metadata": {},
     "output_type": "execute_result"
    }
   ],
   "source": [
    "#  \n",
    "fruit_names = pd.Series(['Apple', 'Banana', 'Cherry'])\n",
    "fruit_names # dtype - 각 원소의 자료형 data의 자료형 \n",
    "# type( fruit_names ) - 자료형\n",
    "fruit_names = pd.Series(['Apple', 'Banana', 'Cherry'], dtype='string')\n",
    "fruit_names\n",
    "fruit_names = pd.Series(['Apple', 'Banana', 'Cherry'], dtype=pd.StringDtype())\n",
    "fruit_names\n",
    "fruit_names = pd.Series(['Apple', 'Banana', 'Cherry'])\n",
    "fruit_names # dtype - 각 원소의 자료형 data의 자료형\n",
    "# object로 만들어진 문자에 문자열 메소드를 적용하고 싶다면 어떻게? dtype을 바꾸기 -astype()\n",
    "fruit_names = fruit_names.astype('string')\n",
    "fruit_names\n",
    "fruit_names = fruit_names.astype('object')\n",
    "fruit_names\n"
   ]
  },
  {
   "cell_type": "code",
   "execution_count": 251,
   "id": "833b5b6b-e7bd-4339-b08e-d05cad85d45e",
   "metadata": {},
   "outputs": [
    {
     "name": "stdout",
     "output_type": "stream",
     "text": [
      "c0    [A, 10-20-30]\n",
      "c1    [B, 20-50-40]\n",
      "dtype: object\n",
      "<class 'str'> @@@\n",
      "['10', '20', '30'] ####\n",
      "<class 'str'> @@@\n",
      "['20', '50', '40'] ####\n"
     ]
    },
    {
     "name": "stderr",
     "output_type": "stream",
     "text": [
      "C:\\Users\\Public\\Documents\\ESTsoft\\CreatorTemp\\ipykernel_19852\\824630456.py:25: FutureWarning: Series.__getitem__ treating keys as positions is deprecated. In a future version, integer keys will always be treated as labels (consistent with DataFrame behavior). To access a value by position, use `ser.iloc[pos]`\n",
      "  aa1 = a1[0][1]\n",
      "C:\\Users\\Public\\Documents\\ESTsoft\\CreatorTemp\\ipykernel_19852\\824630456.py:29: FutureWarning: Series.__getitem__ treating keys as positions is deprecated. In a future version, integer keys will always be treated as labels (consistent with DataFrame behavior). To access a value by position, use `ser.iloc[pos]`\n",
      "  a_answer =list(a1[0][0]) #['A'] + ['10','20','30']\n",
      "C:\\Users\\Public\\Documents\\ESTsoft\\CreatorTemp\\ipykernel_19852\\824630456.py:33: FutureWarning: Series.__getitem__ treating keys as positions is deprecated. In a future version, integer keys will always be treated as labels (consistent with DataFrame behavior). To access a value by position, use `ser.iloc[pos]`\n",
      "  aa2 = a1[1][1]\n",
      "C:\\Users\\Public\\Documents\\ESTsoft\\CreatorTemp\\ipykernel_19852\\824630456.py:37: FutureWarning: Series.__getitem__ treating keys as positions is deprecated. In a future version, integer keys will always be treated as labels (consistent with DataFrame behavior). To access a value by position, use `ser.iloc[pos]`\n",
      "  a_answer = list(a1[1][0]) #['A'] + ['10','20','30']\n"
     ]
    },
    {
     "data": {
      "text/plain": [
       "c0    [A, 10, 20, 20, 30, 40, 50]\n",
       "c1    [B, 20, 50, 10, 40, 60, 20]\n",
       "dtype: object"
      ]
     },
     "execution_count": 251,
     "metadata": {},
     "output_type": "execute_result"
    }
   ],
   "source": [
    "import pandas as pd\n",
    "import numpy as np\n",
    "# 교재 82page 코드 딕셔너리형태 시리즈 만들기\n",
    "ser_obj = pd.Series({\"First\": 'Apple_사과_500',\n",
    "                \"Second\": 'Banana_바나나_300',\n",
    "                \"Third\": 'Cherry_체리_1000',\n",
    "                \"Fourth\": np.nan})\n",
    "ser_obj\n",
    "ser_str = pd.Series({\"First\": 'Apple,사과,500',\n",
    "                \"Second\": 'Banana,바나나,300',\n",
    "                \"Third\": 'Cherry,체리,1000',\n",
    "                \"Fourth\": np.nan}, dtype=\"string\")\n",
    "ser_str\n",
    "# 소문자 변환\n",
    "ser_obj.str.lower()\n",
    "ser_str.str.lower()\n",
    "ser_obj.str.upper()\n",
    "ser_str.str.upper()\n",
    "a = ser_str.str.split(',')\n",
    "s1 = pd.Series({'c0': 'A:10-20-30',\n",
    "                'c1': 'B:20-50-40'}, dtype=\"string\")\n",
    "#  [A, 10, 20, 30]  [B, 20, 50, 40]\n",
    "a1 = s1.str.split(':') # a = a.str.split('[:\\-]')\n",
    "print(a1)\n",
    "aa1 = a1[0][1]\n",
    "print(type(aa1), \"@@@\" )\n",
    "a_10_20_30 = aa1.split('-')\n",
    "print(a_10_20_30, \"####\")\n",
    "a_answer =list(a1[0][0]) #['A'] + ['10','20','30']\n",
    "a_answer = a_answer + a_10_20_30\n",
    "a_answer\n",
    "\n",
    "aa2 = a1[1][1]\n",
    "print(type(aa2), \"@@@\")\n",
    "a_10_20_30 = aa2.split('-')\n",
    "print(a_10_20_30, \"####\")\n",
    "a_answer = list(a1[1][0]) #['A'] + ['10','20','30']\n",
    "a_answer = a_answer + a_10_20_30\n",
    "a_answer\n",
    "\n",
    "s2 = pd.Series({'c0': 'A:10-20,20-30,40-50',\n",
    "                'c1': 'B:20-50,10-40,60-20'}, dtype=\"string\")\n",
    "s2_a = s2.str.split('[:\\,\\-]')\n",
    "s2_a"
   ]
  },
  {
   "cell_type": "code",
   "execution_count": 295,
   "id": "67192309-4b14-435c-a46f-983acad658ff",
   "metadata": {},
   "outputs": [
    {
     "name": "stdout",
     "output_type": "stream",
     "text": [
      "Apple_사과_  500\n",
      "Banana_  바나나_300\n",
      "Cherr  y_체리_1000\n"
     ]
    },
    {
     "ename": "AttributeError",
     "evalue": "'NAType' object has no attribute 'strip'",
     "output_type": "error",
     "traceback": [
      "\u001b[1;31m-----------------------------------------\u001b[0m",
      "\u001b[1;31mAttributeError\u001b[0mTraceback (most recent call last)",
      "Cell \u001b[1;32mIn[295], line 13\u001b[0m\n\u001b[0;32m     11\u001b[0m \u001b[38;5;66;03m# ser_str.values\u001b[39;00m\n\u001b[0;32m     12\u001b[0m \u001b[38;5;28;01mfor\u001b[39;00m i \u001b[38;5;129;01min\u001b[39;00m ser_str\u001b[38;5;241m.\u001b[39mvalues:\n\u001b[1;32m---> 13\u001b[0m     \u001b[38;5;28mprint\u001b[39m( \u001b[43mi\u001b[49m\u001b[38;5;241;43m.\u001b[39;49m\u001b[43mstrip\u001b[49m() )\n\u001b[0;32m     15\u001b[0m \u001b[38;5;124;03m'''\u001b[39;00m\n\u001b[0;32m     16\u001b[0m \u001b[38;5;124;03mser_str\u001b[39;00m\n\u001b[0;32m     17\u001b[0m \u001b[38;5;124;03ms1 = ser_str.str.split('_', expand=True) #결과값이 데이터프레임으로 나옴\u001b[39;00m\n\u001b[1;32m   (...)\u001b[0m\n\u001b[0;32m     32\u001b[0m \u001b[38;5;124;03m'  a  '.rstrip()\u001b[39;00m\n\u001b[0;32m     33\u001b[0m \u001b[38;5;124;03m'''\u001b[39;00m\n",
      "\u001b[1;31mAttributeError\u001b[0m: 'NAType' object has no attribute 'strip'"
     ]
    }
   ],
   "source": [
    "ser_obj = pd.Series({\"First\": 'Apple_사과_500',\n",
    "                \"Second\": 'Banana_바나나_300',\n",
    "                \"Third\": 'Cherry_체리_1000',\n",
    "                \"Fourth\": np.nan})\n",
    "ser_obj\n",
    "ser_str = pd.Series({\"First\": '  Apple_사과_  500   ',\n",
    "                \"Second\": '   Banana_  바나나_300   ',\n",
    "                \"Third\": '   Cherr  y_체리_1000  ',\n",
    "                \"Fourth\": np.nan}, dtype=\"string\")\n",
    "\n",
    "# ser_str.values\n",
    "for i in ser_str.values:\n",
    "    print( i.strip() )\n",
    "\n",
    "'''\n",
    "ser_str\n",
    "s1 = ser_str.str.split('_', expand=True) #결과값이 데이터프레임으로 나옴\n",
    "type(s1)\n",
    "s2 = ser_str.str.split('_', expand=False) #결과값이 시리즈로 나옴 \n",
    "type(s2)\n",
    "s2\n",
    "s1\n",
    "s3 = ser_str.str.split('_') #결과값이 시리즈로 나옴 \n",
    "type(s3)\n",
    "s3\n",
    "idx = s3.index\n",
    "idx\n",
    "vals = s3.values\n",
    "vals\n",
    "\n",
    "s4 = ser_str.str.strip() #공백제거\n",
    "'  a  '.rstrip()\n",
    "'''"
   ]
  },
  {
   "cell_type": "code",
   "execution_count": 316,
   "id": "e3bf3dc1-1a9f-4168-8276-22ff87105ffa",
   "metadata": {},
   "outputs": [
    {
     "name": "stdout",
     "output_type": "stream",
     "text": [
      "First           Apple:사과  :500\n",
      "Second    Banana:바나나      :300\n",
      "Third        Cherry:체리   :1000\n",
      "Fourth                     NaN\n",
      "dtype: object\n",
      "First           Apple_사과  _500\n",
      "Second    Banana_바나나      _300\n",
      "Third        Cherry_체리   _1000\n",
      "Fourth                     NaN\n",
      "dtype: object\n"
     ]
    },
    {
     "data": {
      "text/plain": [
       "First     False\n",
       "Second    False\n",
       "Third     False\n",
       "Fourth      NaN\n",
       "dtype: object"
      ]
     },
     "execution_count": 316,
     "metadata": {},
     "output_type": "execute_result"
    }
   ],
   "source": [
    "import pandas as pd\n",
    "import numpy as np\n",
    "\n",
    "ser_str = pd.Series({'First':'Apple_사과  _500',\n",
    "                 'Second':'Banana_바나나      _300',\n",
    "                 'Third':'Cherry_체리   _1000',\n",
    "                 'Fourth':np.nan})\n",
    "\n",
    "ser_str\n",
    "s3 = ser_str.str.split('_') # expand = 디폴트는 Series\n",
    "s3\n",
    "#s3.str.strip()\n",
    "s_r = ser_str.str.replace(\"_\", \":\", regex=False)\n",
    "print(s_r)\n",
    "s_r_r = ser_str.str.replace(\"[^a-zA-Z0-9]\", \"\", regex=True)\n",
    "s_r_r\n",
    "\n",
    "print( ser_str )\n",
    "ser_str.str[0:5]\n",
    "ser_str.str.contains(\"e\", na=False)\n",
    "\n",
    "ser_str.str.contains(r\"[A|B][a-z]+\")\n",
    "ser_str.str.fullmatch(\"Apple:사과  :500\")"
   ]
  },
  {
   "cell_type": "code",
   "execution_count": 1,
   "id": "95886876-30e8-4147-9383-1c1db016d30f",
   "metadata": {},
   "outputs": [
    {
     "name": "stdout",
     "output_type": "stream",
     "text": [
      "Fruit:       Apple_사과\n",
      " Second    Banana_바나나\n",
      "Third       Cherry_체리\n",
      "Fourth            NaN\n",
      "dtype: object\n",
      "\n",
      "\n",
      "Fruit:       Apple_사과\n",
      " Second    Banana_바나나\n",
      "Third       Cherry_체리\n",
      "Fourth           <NA>\n",
      "dtype: string\n"
     ]
    }
   ],
   "source": [
    "# 문자열 메소드\n",
    "# 교재 82페이지\n",
    "import pandas as pd\n",
    "import numpy as np\n",
    "ser = pd.Series( ['Apple_사과', 'Banana_바나나','Cherry_체리', np.nan],\n",
    "                 index=[\"Fruit: \", \" Second\", \"Third\", \"Fourth\"] )\n",
    "print(ser) # object 객체 파이썬 문자열 형태\n",
    "print(\"\\n\")\n",
    "ser2 = pd.Series( ['Apple_사과', 'Banana_바나나','Cherry_체리', np.nan],\n",
    "                 index=[\"Fruit: \", \" Second\", \"Third\", \"Fourth\"],\n",
    "                 dtype=\"string\")\n",
    "print(ser2) # string 판다스 문자열 형태  - 장점 : 판다스 처리할 때 효율적"
   ]
  },
  {
   "cell_type": "code",
   "execution_count": 5,
   "id": "dc3055a9-54ef-4fa4-bfc8-795a4eb976b8",
   "metadata": {},
   "outputs": [
    {
     "name": "stdout",
     "output_type": "stream",
     "text": [
      "Fruit:       apple_사과\n",
      " Second    banana_바나나\n",
      "Third       cherry_체리\n",
      "Fourth            NaN\n",
      "dtype: object\n",
      "Fruit:       APPLE_사과\n",
      " Second    BANANA_바나나\n",
      "Third       CHERRY_체리\n",
      "Fourth            NaN\n",
      "dtype: object\n",
      "Fruit:      8.0\n",
      " Second    10.0\n",
      "Third       9.0\n",
      "Fourth      NaN\n",
      "dtype: float64\n"
     ]
    }
   ],
   "source": [
    "print(ser.str.lower())\n",
    "print(ser.str.upper())\n",
    "print(ser.str.len())"
   ]
  },
  {
   "cell_type": "code",
   "execution_count": 18,
   "id": "77c05f4a-da4a-44f7-bbca-36f8b21588c9",
   "metadata": {},
   "outputs": [
    {
     "name": "stdout",
     "output_type": "stream",
     "text": [
      "c0    10\n",
      "c1    20\n",
      "dtype: object\n",
      "c0    [a, a10, 10, b]\n",
      "c1    [b, a1, 20, b2]\n",
      "dtype: object\n"
     ]
    }
   ],
   "source": [
    "#print(ser.str.split(\"_\"))\n",
    "df=ser.str.split(\"_\", expand=True)\n",
    "df\n",
    "get_1 = ser.str.split(\"_\").str.get(0)\n",
    "#print(\"\\n\")\n",
    "#print(get_1)\n",
    "# ex) a-10-b,a1-20-b2 시리즈로 만들기 index=['c0','c1'], 자료형은 string\n",
    "ser1 = pd.Series( ['a:a10-10-b','b:a1-20-b2'], index=['c0','c1'], dtype=\"string\" )\n",
    "#print( ser1 )\n",
    "# \"-\" 문자를 기준으로 분리하기\n",
    "ser1_s = ser1.str.split(\"-\").str.get(1)\n",
    "print(ser1_s)\n",
    "# \":\", \"-\"문자를 기준으로 분리하기\n",
    "ser1_2_s = ser1.str.split(\"[:\\-]\")\n",
    "print(ser1_2_s)\n"
   ]
  },
  {
   "cell_type": "code",
   "execution_count": 26,
   "id": "808cc5a7-617e-43a6-a1b4-63d0344d22aa",
   "metadata": {},
   "outputs": [
    {
     "data": {
      "text/plain": [
       "Index(['Fruit:', ' Second', 'Third', 'Fourth'], dtype='object')"
      ]
     },
     "execution_count": 26,
     "metadata": {},
     "output_type": "execute_result"
    }
   ],
   "source": [
    "idx = ser.index\n",
    "idx\n",
    "idx.str.strip()\n",
    "idx.str.lstrip()\n",
    "idx.str.rstrip()"
   ]
  },
  {
   "cell_type": "code",
   "execution_count": 32,
   "id": "4f770b07-f621-4b9d-905d-0ae21ac1bcc0",
   "metadata": {},
   "outputs": [
    {
     "data": {
      "text/plain": [
       "Fruit:       Apple,사과\n",
       " Second    Banana,바나나\n",
       "Third       Cherry,체리\n",
       "Fourth            NaN\n",
       "dtype: object"
      ]
     },
     "execution_count": 32,
     "metadata": {},
     "output_type": "execute_result"
    }
   ],
   "source": [
    "# 정규표현식 : 문자열의 패턴을 코드해서 패턴에 맞는 것 검색하기\n",
    "ser=ser.str.replace(\"_\", \",\", regex=False)\n"
   ]
  },
  {
   "cell_type": "code",
   "execution_count": 34,
   "id": "a3339922-d769-444a-8a04-1182a6dd86e4",
   "metadata": {},
   "outputs": [
    {
     "data": {
      "text/plain": [
       "Fruit:       Apple-사과\n",
       " Second    Banana-바나나\n",
       "Third       Cherry-체리\n",
       "Fourth            NaN\n",
       "dtype: object"
      ]
     },
     "execution_count": 34,
     "metadata": {},
     "output_type": "execute_result"
    }
   ],
   "source": [
    "ser=ser.str.replace(\",\", \"-\", regex=False) \n",
    "ser"
   ]
  },
  {
   "cell_type": "code",
   "execution_count": 38,
   "id": "892b5af1-02b0-4c0f-96b9-4e7a2eb80f1e",
   "metadata": {},
   "outputs": [
    {
     "data": {
      "text/plain": [
       "Fruit:      사과\n",
       " Second    바나나\n",
       "Third       체리\n",
       "Fourth     NaN\n",
       "dtype: object"
      ]
     },
     "execution_count": 38,
     "metadata": {},
     "output_type": "execute_result"
    }
   ],
   "source": [
    "ser.str.replace(\"[^a-zA-Z\\s]\", \"\", regex=True) \n",
    "# 영문자 소문자 대문자 공백을 제외하고 모든 문자열을 \"\" 지우기 바꾸기\n",
    "# 한글\n",
    "ser.str.replace(\"[a-zA-Z\\-]\", \"\", regex=True)\n",
    "ser.str.replace(\"[^가-힣]\", \"\", regex=True)"
   ]
  },
  {
   "cell_type": "code",
   "execution_count": 44,
   "id": "b2529b69-8535-41f4-94f6-9b251fc6ea66",
   "metadata": {},
   "outputs": [
    {
     "data": {
      "text/plain": [
       "Fruit:      과사\n",
       " Second     나나\n",
       "Third       리체\n",
       "Fourth     NaN\n",
       "dtype: object"
      ]
     },
     "execution_count": 44,
     "metadata": {},
     "output_type": "execute_result"
    }
   ],
   "source": [
    "ser\n",
    "ser.str[-1:-3:-1]"
   ]
  },
  {
   "cell_type": "code",
   "execution_count": 71,
   "id": "16309e36-2873-417e-b55b-4ede222d310e",
   "metadata": {},
   "outputs": [
    {
     "data": {
      "text/plain": [
       "Fruit:      True\n",
       " Second    False\n",
       "Third      False\n",
       "Fourth       NaN\n",
       "dtype: object"
      ]
     },
     "execution_count": 71,
     "metadata": {},
     "output_type": "execute_result"
    }
   ],
   "source": [
    "ser = pd.Series( ['Apple_사과', 'Banana_바나나','A', np.nan],\n",
    "                 index=[\"Fruit: \", \" Second\", \"Third\", \"Fourth\"] )\n",
    "ser.str.contains(\"A\", na=False) # ser안에 \"A\"문자가 있는지 검색 \n",
    "ser.str.contains(r\"[A|C][a-z]+\") # r-정규표현식 regex, [A|B] - 첫글자가 A 또는 B [a-z]두번째글자가 소문자, + 하나이상 \n"
   ]
  },
  {
   "cell_type": "code",
   "execution_count": 68,
   "id": "8b3fb627-0b84-4bfa-bd29-fba1491fed17",
   "metadata": {},
   "outputs": [
    {
     "name": "stdout",
     "output_type": "stream",
     "text": [
      "<re.Match object; span=(0, 2), match='Ap'>\n",
      "<re.Match object; span=(0, 2), match='Ca'>\n",
      "None\n",
      "None\n",
      "None\n"
     ]
    }
   ],
   "source": [
    "import re\n",
    "pattern = r\"[A|C][a-z]\"\n",
    "test_string = [ \"Apple\", \"Cat\",\"hello\", \"Bat\", \"A\" ]\n",
    "for s in test_string:\n",
    "    match = re.match( pattern, s )\n",
    "    print(match)"
   ]
  },
  {
   "cell_type": "code",
   "execution_count": 90,
   "id": "f1f2ca83-4e5d-436c-8596-0f1984b79688",
   "metadata": {},
   "outputs": [
    {
     "name": "stdout",
     "output_type": "stream",
     "text": [
      "  문자 숫자\n",
      "0  a  1\n",
      "1  b  2\n",
      "2  c  3\n",
      "3  d  4\n",
      "4  e  6\n",
      "5  f  8\n"
     ]
    },
    {
     "data": {
      "text/html": [
       "<div>\n",
       "<style scoped>\n",
       "    .dataframe tbody tr th:only-of-type {\n",
       "        vertical-align: middle;\n",
       "    }\n",
       "\n",
       "    .dataframe tbody tr th {\n",
       "        vertical-align: top;\n",
       "    }\n",
       "\n",
       "    .dataframe thead th {\n",
       "        text-align: right;\n",
       "    }\n",
       "</style>\n",
       "<table border=\"1\" class=\"dataframe\">\n",
       "  <thead>\n",
       "    <tr style=\"text-align: right;\">\n",
       "      <th></th>\n",
       "      <th>Letter</th>\n",
       "      <th>Digit</th>\n",
       "    </tr>\n",
       "  </thead>\n",
       "  <tbody>\n",
       "    <tr>\n",
       "      <th>0</th>\n",
       "      <td>a</td>\n",
       "      <td>1</td>\n",
       "    </tr>\n",
       "    <tr>\n",
       "      <th>1</th>\n",
       "      <td>b</td>\n",
       "      <td>2</td>\n",
       "    </tr>\n",
       "    <tr>\n",
       "      <th>2</th>\n",
       "      <td>c</td>\n",
       "      <td>3</td>\n",
       "    </tr>\n",
       "    <tr>\n",
       "      <th>3</th>\n",
       "      <td>def</td>\n",
       "      <td>459</td>\n",
       "    </tr>\n",
       "    <tr>\n",
       "      <th>4</th>\n",
       "      <td>ef</td>\n",
       "      <td>67</td>\n",
       "    </tr>\n",
       "    <tr>\n",
       "      <th>5</th>\n",
       "      <td>f</td>\n",
       "      <td>8</td>\n",
       "    </tr>\n",
       "  </tbody>\n",
       "</table>\n",
       "</div>"
      ],
      "text/plain": [
       "  Letter Digit\n",
       "0      a     1\n",
       "1      b     2\n",
       "2      c     3\n",
       "3    def   459\n",
       "4     ef    67\n",
       "5      f     8"
      ]
     },
     "execution_count": 90,
     "metadata": {},
     "output_type": "execute_result"
    }
   ],
   "source": [
    "# \n",
    "ser3=pd.Series(['a1', 'b2', 'c3', 'd4e5f9', 'e6f7', 'f8' ], dtype=\"string\" )\n",
    "# 숫자 추출하기\n",
    "digits = ser3.str.extractall(r\"(\\d)\").groupby(level=0).agg(''.join)\n",
    "digits\n",
    "# 영문자 소문자 추출하기\n",
    "letters = ser3.str.extractall(r\"([a-z])\").groupby(level=0).agg(''.join)\n",
    "letters\n",
    "# 대문자 추출하기\n",
    "ser4 = pd.Series(['A1', 'B2', 'C3', 'D4E5F9', 'E6F7', 'F8' ], dtype=\"string\")\n",
    "A_letters = ser4.str.extractall(r\"([A-Z])\").groupby(level=0).agg(''.join)\n",
    "A_letters\n",
    "# 한글 추출하기\n",
    "ser5 = pd.Series(['가1', '나2', '다3', '라4마5바9', '바6사7', '사8' ], dtype=\"string\")\n",
    "h_letters = ser5.str.extractall(r\"([가-힣])\").groupby(level=0).agg(''.join)\n",
    "h_letters\n",
    "# 숫자와 문자를 따로 분리해서\n",
    "split_columns = ser3.str.extract(r\"(?P<문자>[a-z]+)(?P<숫자>\\d+)\")\n",
    "# ?P<name> - 열의 이름을 할당하는 코드\n",
    "print(split_columns)\n",
    "\n",
    "split_columns = ser3.str.extractall(r\"(?P<Letter>[a-z]+)(?P<Digit>\\d+)\").groupby(level=0).agg(\"\".join)\n",
    "split_columns"
   ]
  }
 ],
 "metadata": {
  "kernelspec": {
   "display_name": "Python 3 (ipykernel)",
   "language": "python",
   "name": "python3"
  },
  "language_info": {
   "codemirror_mode": {
    "name": "ipython",
    "version": 3
   },
   "file_extension": ".py",
   "mimetype": "text/x-python",
   "name": "python",
   "nbconvert_exporter": "python",
   "pygments_lexer": "ipython3",
   "version": "3.10.16"
  }
 },
 "nbformat": 4,
 "nbformat_minor": 5
}
