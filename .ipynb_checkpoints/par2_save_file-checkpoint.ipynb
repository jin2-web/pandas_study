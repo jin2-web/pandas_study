{
 "cells": [
  {
   "cell_type": "code",
   "execution_count": 2,
   "id": "914b36e4-75b6-43ea-b502-77b61ad89c9f",
   "metadata": {},
   "outputs": [
    {
     "data": {
      "text/html": [
       "<div>\n",
       "<style scoped>\n",
       "    .dataframe tbody tr th:only-of-type {\n",
       "        vertical-align: middle;\n",
       "    }\n",
       "\n",
       "    .dataframe tbody tr th {\n",
       "        vertical-align: top;\n",
       "    }\n",
       "\n",
       "    .dataframe thead th {\n",
       "        text-align: right;\n",
       "    }\n",
       "</style>\n",
       "<table border=\"1\" class=\"dataframe\">\n",
       "  <thead>\n",
       "    <tr style=\"text-align: right;\">\n",
       "      <th></th>\n",
       "      <th>algol</th>\n",
       "      <th>basic</th>\n",
       "      <th>c++</th>\n",
       "    </tr>\n",
       "    <tr>\n",
       "      <th>name</th>\n",
       "      <th></th>\n",
       "      <th></th>\n",
       "      <th></th>\n",
       "    </tr>\n",
       "  </thead>\n",
       "  <tbody>\n",
       "    <tr>\n",
       "      <th>Jerry</th>\n",
       "      <td>A</td>\n",
       "      <td>C</td>\n",
       "      <td>B+</td>\n",
       "    </tr>\n",
       "    <tr>\n",
       "      <th>Rich</th>\n",
       "      <td>A+</td>\n",
       "      <td>B</td>\n",
       "      <td>C</td>\n",
       "    </tr>\n",
       "    <tr>\n",
       "      <th>Paul</th>\n",
       "      <td>B</td>\n",
       "      <td>B+</td>\n",
       "      <td>C+</td>\n",
       "    </tr>\n",
       "  </tbody>\n",
       "</table>\n",
       "</div>"
      ],
      "text/plain": [
       "      algol basic c++\n",
       "name                 \n",
       "Jerry     A     C  B+\n",
       "Rich     A+     B   C\n",
       "Paul      B    B+  C+"
      ]
     },
     "execution_count": 2,
     "metadata": {},
     "output_type": "execute_result"
    }
   ],
   "source": [
    "# part2_save_file.ipynb\n",
    "# 117page\n",
    "import pandas as pd\n",
    "data = {'name': ['Jerry','Rich','Paul'],\n",
    "        'algol': [ 'A','A+','B'],\n",
    "        'basic': ['C','B','B+'],\n",
    "        'c++': ['B+','C','C+'] }\n",
    "df = pd.DataFrame( data )\n",
    "df=df.set_index('name')\n",
    "df"
   ]
  },
  {
   "cell_type": "code",
   "execution_count": 6,
   "id": "550fb388-b107-42e1-82a7-93321d51ff87",
   "metadata": {},
   "outputs": [],
   "source": [
    "df.to_csv('./data/df_sample_0423.csv')\n",
    "df.to_csv('./data/df_sample_0423_index_false.csv', index=False)"
   ]
  },
  {
   "cell_type": "code",
   "execution_count": 7,
   "id": "68427673-5e18-47f6-9f71-8b79fe949b67",
   "metadata": {},
   "outputs": [
    {
     "data": {
      "text/html": [
       "<div>\n",
       "<style scoped>\n",
       "    .dataframe tbody tr th:only-of-type {\n",
       "        vertical-align: middle;\n",
       "    }\n",
       "\n",
       "    .dataframe tbody tr th {\n",
       "        vertical-align: top;\n",
       "    }\n",
       "\n",
       "    .dataframe thead th {\n",
       "        text-align: right;\n",
       "    }\n",
       "</style>\n",
       "<table border=\"1\" class=\"dataframe\">\n",
       "  <thead>\n",
       "    <tr style=\"text-align: right;\">\n",
       "      <th></th>\n",
       "      <th>algol</th>\n",
       "      <th>basic</th>\n",
       "      <th>c++</th>\n",
       "    </tr>\n",
       "    <tr>\n",
       "      <th>name</th>\n",
       "      <th></th>\n",
       "      <th></th>\n",
       "      <th></th>\n",
       "    </tr>\n",
       "  </thead>\n",
       "  <tbody>\n",
       "    <tr>\n",
       "      <th>Jerry</th>\n",
       "      <td>A</td>\n",
       "      <td>C</td>\n",
       "      <td>B+</td>\n",
       "    </tr>\n",
       "    <tr>\n",
       "      <th>Rich</th>\n",
       "      <td>A+</td>\n",
       "      <td>B</td>\n",
       "      <td>C</td>\n",
       "    </tr>\n",
       "    <tr>\n",
       "      <th>Paul</th>\n",
       "      <td>B</td>\n",
       "      <td>B+</td>\n",
       "      <td>C+</td>\n",
       "    </tr>\n",
       "  </tbody>\n",
       "</table>\n",
       "</div>"
      ],
      "text/plain": [
       "      algol basic c++\n",
       "name                 \n",
       "Jerry     A     C  B+\n",
       "Rich     A+     B   C\n",
       "Paul      B    B+  C+"
      ]
     },
     "execution_count": 7,
     "metadata": {},
     "output_type": "execute_result"
    }
   ],
   "source": [
    "#119\n",
    "import pandas as pd\n",
    "data = {'name': ['Jerry','Rich','Paul'],\n",
    "        'algol': [ 'A','A+','B'],\n",
    "        'basic': ['C','B','B+'],\n",
    "        'c++': ['B+','C','C+'] }\n",
    "df = pd.DataFrame( data )\n",
    "df=df.set_index('name')\n",
    "df"
   ]
  },
  {
   "cell_type": "code",
   "execution_count": 9,
   "id": "dd0df1ba-38bf-483c-a653-18b4f899dc5c",
   "metadata": {},
   "outputs": [],
   "source": [
    "df.to_json('./data/df_sample_0423_basic.json')"
   ]
  },
  {
   "cell_type": "code",
   "execution_count": 10,
   "id": "cce93462-4c6b-4c89-bc72-fea6d980db86",
   "metadata": {},
   "outputs": [],
   "source": [
    "df.to_json('./data/df_sample_0423_split.json', orient='split')\n",
    "# index, columns, data로 분리해서 json 저장한다"
   ]
  },
  {
   "cell_type": "code",
   "execution_count": 11,
   "id": "1030dacd-d5cb-4e49-9ed4-9be46f7b8359",
   "metadata": {},
   "outputs": [],
   "source": [
    "df.to_json('./data/df_sample_0423_records.json', orient='records')\n",
    "# 각행을 별도의 json객체로 저장하여 열 이름이 키로 사용된다.\n",
    "# record는 행을 말한다."
   ]
  },
  {
   "cell_type": "code",
   "execution_count": 12,
   "id": "a0a83d04-9b99-4ed0-b58d-f342039fa10c",
   "metadata": {},
   "outputs": [],
   "source": [
    "df.to_json('./data/df_sample_0423_index.json', orient='index')\n",
    "# 각행을 index를 키로 사용하고 각 행의 데이터를 json객체로 저장한다"
   ]
  },
  {
   "cell_type": "code",
   "execution_count": 13,
   "id": "6cbce08e-9238-479c-afc8-03abecdb6ec6",
   "metadata": {},
   "outputs": [],
   "source": [
    "df.to_json('./data/df_sample_0423_columns.json', orient='columns')\n",
    "# 각열의 column을  키로 사용하고 각 행의 데이터를 json객체로 저장한다"
   ]
  },
  {
   "cell_type": "code",
   "execution_count": 14,
   "id": "6ff2e61d-4225-47b9-b978-1e3b2743592c",
   "metadata": {},
   "outputs": [],
   "source": [
    "df.to_json('./data/df_sample_0423_values.json', orient='values')\n",
    "# 데이터 프레임의 값만을 순서대로 저장한다. 행인덱스와 열이름은 저장되지 않는다."
   ]
  },
  {
   "cell_type": "code",
   "execution_count": 18,
   "id": "d07a174b-e12d-4175-a1d8-1c575df928f1",
   "metadata": {},
   "outputs": [],
   "source": [
    "# 엑셀파일로 저장하기\n",
    "import pandas as pd\n",
    "data1 = {'name' : [ 'Jerry', 'Riah', 'Paul'],\n",
    "         'algol' : [ \"A\", \"A+\", \"B\"],\n",
    "         'basic' : [ \"C\", \"B\", \"B+\"],\n",
    "          'c++' : [ \"B+\", \"C\", \"C+\"]}\n",
    "\n",
    "data2 = {'c0':[1,2,3], \n",
    "         'c1':[4,5,6], \n",
    "         'c2':[7,8,9], \n",
    "         'c3':[10,11,12], \n",
    "         'c4':[13,14,15]}\n",
    "df = pd.DataFrame( data1 )\n",
    "df = df.set_index('name')\n",
    "df.to_excel('./data/excel_0423.xlsx')\n",
    "df.to_excel('./data/excel_index_false_0423.xlsx', index=False)\n"
   ]
  },
  {
   "cell_type": "code",
   "execution_count": 20,
   "id": "84f1598c-4664-41f5-9dfe-03b809a2986b",
   "metadata": {},
   "outputs": [
    {
     "data": {
      "text/html": [
       "<div>\n",
       "<style scoped>\n",
       "    .dataframe tbody tr th:only-of-type {\n",
       "        vertical-align: middle;\n",
       "    }\n",
       "\n",
       "    .dataframe tbody tr th {\n",
       "        vertical-align: top;\n",
       "    }\n",
       "\n",
       "    .dataframe thead th {\n",
       "        text-align: right;\n",
       "    }\n",
       "</style>\n",
       "<table border=\"1\" class=\"dataframe\">\n",
       "  <thead>\n",
       "    <tr style=\"text-align: right;\">\n",
       "      <th></th>\n",
       "      <th>c1</th>\n",
       "      <th>c2</th>\n",
       "      <th>c3</th>\n",
       "      <th>c4</th>\n",
       "    </tr>\n",
       "    <tr>\n",
       "      <th>c0</th>\n",
       "      <th></th>\n",
       "      <th></th>\n",
       "      <th></th>\n",
       "      <th></th>\n",
       "    </tr>\n",
       "  </thead>\n",
       "  <tbody>\n",
       "    <tr>\n",
       "      <th>1</th>\n",
       "      <td>4</td>\n",
       "      <td>7</td>\n",
       "      <td>10</td>\n",
       "      <td>13</td>\n",
       "    </tr>\n",
       "    <tr>\n",
       "      <th>2</th>\n",
       "      <td>5</td>\n",
       "      <td>8</td>\n",
       "      <td>11</td>\n",
       "      <td>14</td>\n",
       "    </tr>\n",
       "    <tr>\n",
       "      <th>3</th>\n",
       "      <td>6</td>\n",
       "      <td>9</td>\n",
       "      <td>12</td>\n",
       "      <td>15</td>\n",
       "    </tr>\n",
       "  </tbody>\n",
       "</table>\n",
       "</div>"
      ],
      "text/plain": [
       "    c1  c2  c3  c4\n",
       "c0                \n",
       "1    4   7  10  13\n",
       "2    5   8  11  14\n",
       "3    6   9  12  15"
      ]
     },
     "execution_count": 20,
     "metadata": {},
     "output_type": "execute_result"
    }
   ],
   "source": [
    "df2 = pd.DataFrame( data2 )\n",
    "df2 = df2.set_index( 'c0' )\n",
    "df2"
   ]
  },
  {
   "cell_type": "code",
   "execution_count": 24,
   "id": "77a8da72-53cb-4663-9d62-306b28c44d78",
   "metadata": {},
   "outputs": [],
   "source": [
    "# 데이터프레임 2개를 한개의 엑셀파일 저장한 시트1 - 1데이터프레임 시트2 - 2데이터프레임\n",
    "with pd.ExcelWriter('./data/excel_2_sheet.xlsx') as writer:\n",
    "    df.to_excel(writer, sheet_name='점수')\n",
    "    df2.to_excel(writer, sheet_name='가중치')"
   ]
  }
 ],
 "metadata": {
  "kernelspec": {
   "display_name": "Python 3 (ipykernel)",
   "language": "python",
   "name": "python3"
  },
  "language_info": {
   "codemirror_mode": {
    "name": "ipython",
    "version": 3
   },
   "file_extension": ".py",
   "mimetype": "text/x-python",
   "name": "python",
   "nbconvert_exporter": "python",
   "pygments_lexer": "ipython3",
   "version": "3.10.16"
  }
 },
 "nbformat": 4,
 "nbformat_minor": 5
}
