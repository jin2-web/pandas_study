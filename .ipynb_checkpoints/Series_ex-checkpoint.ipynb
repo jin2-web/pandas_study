{
 "cells": [
  {
   "cell_type": "markdown",
   "id": "1100f9fc-249f-483a-b272-0857d55c256c",
   "metadata": {},
   "source": [
    "# 판다스 용도 \n",
    "## 데이터수집 정리하는 역할\n",
    "# 자료 형식\n",
    "## 시리즈, 데이터프레임\n",
    "# 판다스 목적\n",
    "## 서로 다른 여러가지 유형의 데이터를 공통 포맷을 정리하는 것\n"
   ]
  },
  {
   "cell_type": "markdown",
   "id": "5970daaf-fbed-4ae2-9d0e-1f18afe9e3ee",
   "metadata": {},
   "source": [
    "1. 시리즈\n",
    "   1.1 1차원 배열\n",
    "   1.2 리스트, 튜플, 딕셔너리를 시리즈로 만들 수 있다. pd.Series( ) \n",
    "   1.3 리스트, 튜플은 index를 지정하지 않으면 0,1,2\n",
    "   1.4 딕셔너리는 key는 index, value는 data가 된다. "
   ]
  },
  {
   "cell_type": "code",
   "execution_count": 2,
   "id": "6935951a-ecb1-456a-9048-ad141496247d",
   "metadata": {},
   "outputs": [
    {
     "name": "stdout",
     "output_type": "stream",
     "text": [
      "a    1\n",
      "b    2\n",
      "c    3\n",
      "dtype: int64\n"
     ]
    }
   ],
   "source": [
    "import pandas as pd\n",
    "dict_data = { 'a': 1, 'b':2, 'c':3 }\n",
    "sr =pd.Series( dict_data )\n",
    "print( sr ) "
   ]
  },
  {
   "cell_type": "code",
   "execution_count": 4,
   "id": "003afd6d-f92f-4470-ac00-c9caec7529ff",
   "metadata": {},
   "outputs": [
    {
     "name": "stdout",
     "output_type": "stream",
     "text": [
      "[10, 20, 30, 40, 50, 60, 70, 80, 90, 100]\n"
     ]
    }
   ],
   "source": [
    "list_data = list( range( 10, 101, 10) ) \n",
    "print( list_data ) "
   ]
  },
  {
   "cell_type": "code",
   "execution_count": 5,
   "id": "2d30ce2a-6aa6-4b8c-bdaa-5908a0d96c65",
   "metadata": {},
   "outputs": [
    {
     "name": "stdout",
     "output_type": "stream",
     "text": [
      "0     10\n",
      "1     20\n",
      "2     30\n",
      "3     40\n",
      "4     50\n",
      "5     60\n",
      "6     70\n",
      "7     80\n",
      "8     90\n",
      "9    100\n",
      "dtype: int64\n"
     ]
    }
   ],
   "source": [
    "# 리스트 자료를 시리즈로 만들기 \n",
    "list_sr = pd.Series(  list_data )\n",
    "print( list_sr ) "
   ]
  },
  {
   "cell_type": "code",
   "execution_count": 8,
   "id": "438f3733-5416-4320-a4db-139f6b3adfa1",
   "metadata": {},
   "outputs": [
    {
     "name": "stdout",
     "output_type": "stream",
     "text": [
      "0    100\n",
      "1    200\n",
      "2    300\n",
      "dtype: int64\n"
     ]
    }
   ],
   "source": [
    "# 리스트 자료를 시리즈로 만들기 \n",
    "list_data = [100,200,300]\n",
    "list_sr = pd.Series(  list_data, index=[ 'a','b','c' ])\n",
    "print( list_sr ) "
   ]
  },
  {
   "cell_type": "code",
   "execution_count": 9,
   "id": "2b8736b0-89d2-4476-ad79-51135a8558b1",
   "metadata": {},
   "outputs": [
    {
     "name": "stdout",
     "output_type": "stream",
     "text": [
      "a    300\n",
      "b    400\n",
      "dtype: int64\n"
     ]
    }
   ],
   "source": [
    "# 튜플 자료를 시리즈로 만들기\n",
    "tuple_data = ( 300, 400 )\n",
    "tuple_sr = pd.Series(  tuple_data, index=['a','b'] )\n",
    "print( tuple_sr) "
   ]
  },
  {
   "cell_type": "code",
   "execution_count": 19,
   "id": "f6d927fe-7d17-47d9-a8ae-83830197bc96",
   "metadata": {},
   "outputs": [
    {
     "name": "stdout",
     "output_type": "stream",
     "text": [
      "(5,)\n",
      "1\n"
     ]
    }
   ],
   "source": [
    "list_data = ['2019-01-02', 3.14, 'ABC',100, True]\n",
    "sr =pd.Series( list_data ) \n",
    "sr_index = sr.index\n",
    "sr_values = sr.values\n",
    "print( sr.shape  ) # 중요해요 컴퓨터비젼에서 데이터 내용 파악할 때 많이 쓰는 명령어임\n",
    "print( sr.ndim ) # n dimension (차원) "
   ]
  },
  {
   "cell_type": "code",
   "execution_count": 20,
   "id": "f3982039-4f87-4d84-b956-cae54b307f10",
   "metadata": {},
   "outputs": [
    {
     "name": "stdout",
     "output_type": "stream",
     "text": [
      "딸기     5000\n",
      "바나나    3000\n",
      "dtype: int64\n",
      "상품명: Index(['딸기', '바나나'], dtype='object')\n",
      "상품의 가격: [5000 3000]\n"
     ]
    }
   ],
   "source": [
    "# 딕셔너리 ->시리즈\n",
    "# 시리즈 -> 리스트 \n",
    "dic_data = { \"딸기\":5000, \"바나나\":3000 }\n",
    "sr_fruits = pd.Series( dic_data)\n",
    "print( sr_fruits )\n",
    "#딸기, 바나나를 리스트로 저장하기\n",
    "fruits = sr_fruits.index\n",
    "#가격도 리스트로 저장하기\n",
    "price = sr_fruits.values\n",
    "print(\"상품명:\" , fruits)\n",
    "print(\"상품의 가격:\", price) "
   ]
  },
  {
   "cell_type": "code",
   "execution_count": 31,
   "id": "f69d46e0-f2e2-45f5-8b03-cc49cab1a748",
   "metadata": {},
   "outputs": [
    {
     "name": "stdout",
     "output_type": "stream",
     "text": [
      "30 30\n"
     ]
    },
    {
     "name": "stderr",
     "output_type": "stream",
     "text": [
      "C:\\Users\\Public\\Documents\\ESTsoft\\CreatorTemp\\ipykernel_17228\\3734571765.py:6: FutureWarning: Series.__getitem__ treating keys as positions is deprecated. In a future version, integer keys will always be treated as labels (consistent with DataFrame behavior). To access a value by position, use `ser.iloc[pos]`\n",
      "  print( sr010['c' ], sr010[2] )\n"
     ]
    }
   ],
   "source": [
    "# 그림 1-5 코드 해보기\n",
    "num_list = list( range( 10, 62, 10) ) # [10,20,30,40,50,60]\n",
    "i_list = ['a','b','c','d','e','f' ]\n",
    "sr010 = pd.Series(  num_list, index = i_list ) \n",
    "# 30 출력\n",
    "print( sr010['c' ], sr010[2] ) "
   ]
  },
  {
   "cell_type": "code",
   "execution_count": 37,
   "id": "24547fd2-dfef-44bf-8ad4-09adab3549ba",
   "metadata": {},
   "outputs": [
    {
     "name": "stdout",
     "output_type": "stream",
     "text": [
      "성별               여\n",
      "생년월일    2010-05-01\n",
      "dtype: object\n",
      "영인\n",
      "이름              영인\n",
      "생년월일    2010-05-01\n",
      "성별               여\n",
      "dtype: object\n"
     ]
    }
   ],
   "source": [
    "tup_data = ('영인','2010-05-01','여',False )\n",
    "sr = pd.Series(tup_data, index = ['이름','생년월일','성별','학생여부'] )\n",
    "# print( sr['성별'] ) \n",
    "print( sr[ ['성별','생년월일']  ] ) # 여러개의 인덱스명 sr[ [인덱스명1, 인덱스명]   ]\n",
    "# 만약 학생이면 이름과 생년월일 출력하고\n",
    "# 아니면 이름만 출력하세요\n",
    "if sr['학생여부'] :\n",
    "    print( sr[ ['이름','생년월일']  ] )\n",
    "else:\n",
    "    print( sr[ '이름' ] )\n",
    "# 이름 인덱스 부터 성별인덱스까지 연속적인 인덱스 자료 선택하기\n",
    "print( sr[ '이름':'성별' ] ) \n",
    "    \n",
    "    "
   ]
  },
  {
   "cell_type": "code",
   "execution_count": 45,
   "id": "80b6eaa1-6fe2-4d61-8045-75ca53387f5b",
   "metadata": {},
   "outputs": [
    {
     "name": "stdout",
     "output_type": "stream",
     "text": [
      "100    5\n",
      "200    5\n",
      "300    5\n",
      "dtype: int64\n",
      "0      0\n",
      "1      0\n",
      "2      0\n",
      "3      0\n",
      "4      0\n",
      "      ..\n",
      "96     0\n",
      "97     0\n",
      "98     0\n",
      "99     0\n",
      "100    0\n",
      "Length: 101, dtype: int64\n"
     ]
    }
   ],
   "source": [
    "sr_empty = pd.Series() #빈 시리즈 만들기\n",
    "# print(sr_empty )\n",
    "sr_5 = pd.Series( 5 ) \n",
    "sr_5 = pd.Series( 5, index=[ 100,200,300]  ) \n",
    "print( sr_5 )\n",
    "# 데이터 0 인덱스 0~100 \n",
    "index_list_0100 = list( range(0, 101,1) )\n",
    "sr_0 = pd.Series( 0, index = index_list_0100 ) \n",
    "print( sr_0 ) "
   ]
  },
  {
   "cell_type": "code",
   "execution_count": 47,
   "id": "88d37daa-9720-4b30-87d6-c38ab5379c1c",
   "metadata": {},
   "outputs": [
    {
     "name": "stdout",
     "output_type": "stream",
     "text": [
      "a    100\n",
      "b    200\n",
      "c    300\n",
      "d    400\n",
      "e    500\n",
      "dtype: int64\n"
     ]
    }
   ],
   "source": [
    "# 문제1\n",
    "q_list = [100,200,300,400,500]\n",
    "q_index = ['a', 'b', 'c', 'd', 'e']\n",
    "s = pd.Series( q_list, index = q_index ) \n",
    "print( s )"
   ]
  },
  {
   "cell_type": "code",
   "execution_count": 50,
   "id": "5a1aba98-3bde-4650-8e87-19710c8aee6d",
   "metadata": {},
   "outputs": [
    {
     "name": "stdout",
     "output_type": "stream",
     "text": [
      "b    20\n",
      "d    40\n",
      "dtype: int64\n"
     ]
    }
   ],
   "source": [
    "s = pd.Series([10, 20, 30, 40, 50], index=['a', 'b', 'c', 'd', 'e'])\n",
    "print( s[ ['b','d']  ] )"
   ]
  },
  {
   "cell_type": "code",
   "execution_count": 51,
   "id": "6c2ffd2c-8033-44a3-9cd4-b84fdbe9c3bf",
   "metadata": {},
   "outputs": [
    {
     "name": "stdout",
     "output_type": "stream",
     "text": [
      "C    35\n",
      "D    45\n",
      "E    55\n",
      "dtype: int64\n"
     ]
    }
   ],
   "source": [
    "s = pd.Series([15, 25, 35, 45, 55], index=['A', 'B', 'C', 'D', 'E'])\n",
    "print( s[  s > 30  ] )  "
   ]
  },
  {
   "cell_type": "code",
   "execution_count": 53,
   "id": "14f2d946-3858-439d-a061-d3cbb51d703a",
   "metadata": {},
   "outputs": [
    {
     "name": "stdout",
     "output_type": "stream",
     "text": [
      "0    15\n",
      "1    20\n",
      "2    25\n",
      "3    30\n",
      "4    35\n",
      "dtype: int64\n"
     ]
    }
   ],
   "source": [
    "s = pd.Series([5, 10, 15, 20, 25])\n",
    "s_add_10 = s + 10\n",
    "print( s_add_10 ) "
   ]
  },
  {
   "cell_type": "code",
   "execution_count": 57,
   "id": "3f6f3b91-0e2b-464d-8b7e-070d6192b2ba",
   "metadata": {},
   "outputs": [
    {
     "name": "stdout",
     "output_type": "stream",
     "text": [
      "95 95\n"
     ]
    },
    {
     "name": "stderr",
     "output_type": "stream",
     "text": [
      "C:\\Users\\Public\\Documents\\ESTsoft\\CreatorTemp\\ipykernel_17228\\3817889136.py:9: FutureWarning: Series.__getitem__ treating keys as positions is deprecated. In a future version, integer keys will always be treated as labels (consistent with DataFrame behavior). To access a value by position, use `ser.iloc[pos]`\n",
      "  print( s_scores[ 'Python' ], s_scores[0]  )\n"
     ]
    }
   ],
   "source": [
    "scores = {\n",
    "    'Python': 95,\n",
    "    'Math': 88,\n",
    "    'English': 76,\n",
    "    'History': 82\n",
    "}\n",
    "\n",
    "s_scores = pd.Series( scores )\n",
    "print( s_scores[ 'Python' ], s_scores[0]  )"
   ]
  },
  {
   "cell_type": "code",
   "execution_count": 61,
   "id": "5fb2e88a-babb-4bb4-b50c-fd6087930510",
   "metadata": {},
   "outputs": [
    {
     "name": "stdout",
     "output_type": "stream",
     "text": [
      "12 12\n"
     ]
    },
    {
     "name": "stderr",
     "output_type": "stream",
     "text": [
      "C:\\Users\\Public\\Documents\\ESTsoft\\CreatorTemp\\ipykernel_17228\\722708284.py:3: FutureWarning: Series.__getitem__ treating keys as positions is deprecated. In a future version, integer keys will always be treated as labels (consistent with DataFrame behavior). To access a value by position, use `ser.iloc[pos]`\n",
      "  print( s['A'], s[0] )\n"
     ]
    }
   ],
   "source": [
    "s = pd.Series([12, 24, 36, 48, 60])\n",
    "s.index = [ 'A', 'B', 'C', 'D', 'E' ]\n",
    "print( s['A'], s[0] ) \n",
    "#또는 \n",
    "s = pd.Series([12, 24, 36, 48, 60], index = [ 'A', 'B', 'C', 'D', 'E' ] ) "
   ]
  },
  {
   "cell_type": "code",
   "execution_count": 70,
   "id": "2720975e-961f-4413-b5fb-20ab3f60a158",
   "metadata": {},
   "outputs": [
    {
     "name": "stdout",
     "output_type": "stream",
     "text": [
      "85.6\n"
     ]
    }
   ],
   "source": [
    "s = pd.Series([80, 90, 75, 95, 88])\n",
    "print( s.mean() ) "
   ]
  },
  {
   "cell_type": "code",
   "execution_count": 75,
   "id": "ef48bb96-bcde-4e9d-a89c-c1c68fb82346",
   "metadata": {},
   "outputs": [
    {
     "name": "stdout",
     "output_type": "stream",
     "text": [
      "1    16\n",
      "3    33\n",
      "0    42\n",
      "2    58\n",
      "4    95\n",
      "dtype: int64\n"
     ]
    }
   ],
   "source": [
    "s = pd.Series([42, 16, 58, 33, 95])\n",
    "print( s.sort_values() ) # 데이터 정렬하기 "
   ]
  },
  {
   "cell_type": "code",
   "execution_count": 85,
   "id": "6d0c4039-f15d-42b1-8dd1-e25402ef9d70",
   "metadata": {},
   "outputs": [
    {
     "name": "stdout",
     "output_type": "stream",
     "text": [
      "0    10.0\n",
      "1    30.0\n",
      "2    30.0\n",
      "3    30.0\n",
      "4    50.0\n",
      "dtype: float64\n"
     ]
    }
   ],
   "source": [
    "#문제 9 nan값을 0으로 대체하기 \n",
    "import numpy as np\n",
    "s = pd.Series([10, np.nan, 30, np.nan, 50]) # np.nan은 숫자가 아니다 not a number \n",
    "#s_1 = pd.Series([10, 'a', 30, 'b', 50])\n",
    "s_mean = s.mean() \n",
    "s_0 = s.fillna( s_mean )\n",
    "print( s_0  )"
   ]
  },
  {
   "cell_type": "code",
   "execution_count": 92,
   "id": "65ca6ce8-54d6-4187-9c07-2344cdb6431a",
   "metadata": {},
   "outputs": [
    {
     "name": "stdout",
     "output_type": "stream",
     "text": [
      "Index(['A', 'C', 'E'], dtype='object')\n"
     ]
    }
   ],
   "source": [
    "s = pd.Series([True, False, True, False, True], index=['A', 'B', 'C', 'D', 'E'])\n",
    "print( s[ s ].index ) "
   ]
  },
  {
   "cell_type": "code",
   "execution_count": 90,
   "id": "8e8eef0d-9333-4142-860e-eb7de6d42a0b",
   "metadata": {},
   "outputs": [
    {
     "name": "stdout",
     "output_type": "stream",
     "text": [
      "1     30\n",
      "3    100\n",
      "dtype: int64\n"
     ]
    }
   ],
   "source": [
    "s_num = [10,30,20,100]\n",
    "# 시리즈로 만들기\n",
    "sr = pd.Series(  s_num )\n",
    "# 30이상인 것만 출력하기\n",
    "print( sr[ sr >= 30 ] ) "
   ]
  }
 ],
 "metadata": {
  "kernelspec": {
   "display_name": "ai",
   "language": "python",
   "name": "ai"
  },
  "language_info": {
   "codemirror_mode": {
    "name": "ipython",
    "version": 3
   },
   "file_extension": ".py",
   "mimetype": "text/x-python",
   "name": "python",
   "nbconvert_exporter": "python",
   "pygments_lexer": "ipython3",
   "version": "3.10.16"
  }
 },
 "nbformat": 4,
 "nbformat_minor": 5
}
