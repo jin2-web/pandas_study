{
 "cells": [
  {
   "cell_type": "code",
   "execution_count": 7,
   "id": "2e53e982-c4e8-4d53-9ac7-6075deb3acac",
   "metadata": {},
   "outputs": [
    {
     "name": "stdout",
     "output_type": "stream",
     "text": [
      "1 서울특별시 종로구 세종대로 175\n",
      "서울특별시 종로구 세종대로 175 ~\n",
      "<Response [200]> ~~\n",
      "{'documents': [{'address': {'address_name': '서울 종로구 세종로 81-3', 'b_code': '1111011900', 'h_code': '1111053000', 'main_address_no': '81', 'mountain_yn': 'N', 'region_1depth_name': '서울', 'region_2depth_name': '종로구', 'region_3depth_h_name': '사직동', 'region_3depth_name': '세종로', 'sub_address_no': '3', 'x': '126.976168275947', 'y': '37.5718478584908'}, 'address_name': '서울 종로구 세종대로 175', 'address_type': 'ROAD_ADDR', 'road_address': {'address_name': '서울 종로구 세종대로 175', 'building_name': '', 'main_building_no': '175', 'region_1depth_name': '서울', 'region_2depth_name': '종로구', 'region_3depth_name': '세종로', 'road_name': '세종대로', 'sub_building_no': '', 'underground_yn': 'N', 'x': '126.976168275947', 'y': '37.5718478584908', 'zone_no': '03172'}, 'x': '126.976168275947', 'y': '37.5718478584908'}, {'address': {'address_name': '서울 종로구 세종로 81-3', 'b_code': '1111011900', 'h_code': '1111053000', 'main_address_no': '81', 'mountain_yn': 'N', 'region_1depth_name': '서울', 'region_2depth_name': '종로구', 'region_3depth_h_name': '사직동', 'region_3depth_name': '세종로', 'sub_address_no': '3', 'x': '126.976817249422', 'y': '37.5721860410735'}, 'address_name': '서울 종로구 세종대로 지하 175', 'address_type': 'ROAD_ADDR', 'road_address': {'address_name': '서울 종로구 세종대로 지하 175', 'building_name': '세종이야기', 'main_building_no': '175', 'region_1depth_name': '서울', 'region_2depth_name': '종로구', 'region_3depth_name': '세종로', 'road_name': '세종대로', 'sub_building_no': '', 'underground_yn': 'Y', 'x': '126.976817249422', 'y': '37.5721860410735', 'zone_no': '03172'}, 'x': '126.976817249422', 'y': '37.5721860410735'}], 'meta': {'is_end': True, 'pageable_count': 2, 'total_count': 2}} ~~~\n",
      "2 서울특별시 서초구 서초동 700\n",
      "서울특별시 서초구 서초동 700 ~\n",
      "<Response [200]> ~~\n",
      "{'documents': [{'address': {'address_name': '서울 서초구 서초동 700', 'b_code': '1165010800', 'h_code': '1165053000', 'main_address_no': '700', 'mountain_yn': 'N', 'region_1depth_name': '서울', 'region_2depth_name': '서초구', 'region_3depth_h_name': '서초3동', 'region_3depth_name': '서초동', 'sub_address_no': '', 'x': '127.015245160054', 'y': '37.4810862955299'}, 'address_name': '서울 서초구 서초동 700', 'address_type': 'REGION_ADDR', 'road_address': {'address_name': '서울 서초구 남부순환로 2406', 'building_name': '예술의전당', 'main_building_no': '2406', 'region_1depth_name': '서울', 'region_2depth_name': '서초구', 'region_3depth_name': '서초동', 'road_name': '남부순환로', 'sub_building_no': '', 'underground_yn': 'N', 'x': '127.014215239186', 'y': '37.4802401962069', 'zone_no': '06757'}, 'x': '127.015245160054', 'y': '37.4810862955299'}], 'meta': {'is_end': True, 'pageable_count': 1, 'total_count': 1}} ~~~\n",
      "3 성남시 수정구 수정로 167\n",
      "성남시 수정구 수정로 167 ~\n",
      "<Response [200]> ~~\n",
      "{'documents': [{'address': {'address_name': '경기 성남시 수정구 태평동 3408', 'b_code': '4113110200', 'h_code': '4113155000', 'main_address_no': '3408', 'mountain_yn': 'N', 'region_1depth_name': '경기', 'region_2depth_name': '성남시 수정구', 'region_3depth_h_name': '태평2동', 'region_3depth_name': '태평동', 'sub_address_no': '', 'x': '127.13858185521', 'y': '37.4432086770498'}, 'address_name': '경기 성남시 수정구 수정로 167', 'address_type': 'ROAD_ADDR', 'road_address': {'address_name': '경기 성남시 수정구 수정로 167', 'building_name': '', 'main_building_no': '167', 'region_1depth_name': '경기', 'region_2depth_name': '성남시 수정구', 'region_3depth_name': '태평동', 'road_name': '수정로', 'sub_building_no': '', 'underground_yn': 'N', 'x': '127.13858185521', 'y': '37.4432086770498', 'zone_no': '13292'}, 'x': '127.13858185521', 'y': '37.4432086770498'}], 'meta': {'is_end': True, 'pageable_count': 1, 'total_count': 1}} ~~~\n"
     ]
    },
    {
     "data": {
      "text/html": [
       "<div>\n",
       "<style scoped>\n",
       "    .dataframe tbody tr th:only-of-type {\n",
       "        vertical-align: middle;\n",
       "    }\n",
       "\n",
       "    .dataframe tbody tr th {\n",
       "        vertical-align: top;\n",
       "    }\n",
       "\n",
       "    .dataframe thead th {\n",
       "        text-align: right;\n",
       "    }\n",
       "</style>\n",
       "<table border=\"1\" class=\"dataframe\">\n",
       "  <thead>\n",
       "    <tr style=\"text-align: right;\">\n",
       "      <th></th>\n",
       "      <th>위도</th>\n",
       "      <th>경도</th>\n",
       "    </tr>\n",
       "  </thead>\n",
       "  <tbody>\n",
       "    <tr>\n",
       "      <th>서울특별시 종로구 세종대로 175</th>\n",
       "      <td>37.5718478584908</td>\n",
       "      <td>126.976168275947</td>\n",
       "    </tr>\n",
       "    <tr>\n",
       "      <th>서울특별시 서초구 서초동 700</th>\n",
       "      <td>37.4810862955299</td>\n",
       "      <td>127.015245160054</td>\n",
       "    </tr>\n",
       "    <tr>\n",
       "      <th>성남시 수정구 수정로 167</th>\n",
       "      <td>37.4432086770498</td>\n",
       "      <td>127.13858185521</td>\n",
       "    </tr>\n",
       "  </tbody>\n",
       "</table>\n",
       "</div>"
      ],
      "text/plain": [
       "                                  위도                경도\n",
       "서울특별시 종로구 세종대로 175  37.5718478584908  126.976168275947\n",
       "서울특별시 서초구 서초동 700   37.4810862955299  127.015245160054\n",
       "성남시 수정구 수정로 167     37.4432086770498   127.13858185521"
      ]
     },
     "execution_count": 7,
     "metadata": {},
     "output_type": "execute_result"
    }
   ],
   "source": [
    "# kakao_api_ex 파일\n",
    "import pandas as pd\n",
    "import requests\n",
    "\n",
    "my_key='aa638baf97364167126329fb45de2e53'\n",
    "\n",
    "def get_geocoding(place) :\n",
    "    print(place, '~')\n",
    "    url=f\"https://dapi.kakao.com/v2/local/search/address.json?query={place}\"\n",
    "    headers={\"Authorization\": f\"KakaoAK {my_key}\"}\n",
    "    response = requests.get( url, headers=headers )\n",
    "    print(response, '~~')\n",
    "    result = response.json()\n",
    "    print( result, '~~~')\n",
    "    return result['documents'][0]['y'], result['documents'][0]['x']\n",
    "\n",
    "def get_road_address(place):\n",
    "    print(place, '~')\n",
    "    url=f\"https://dapi.kakao.com/v2/local/search/address.json?query={place}\"\n",
    "    headers={\"Authorization\": f\"KakaoAK {my_key}\"}\n",
    "    response = requests.get( url, headers=headers )\n",
    "    print(response, '~~')\n",
    "    result = response.json()\n",
    "    print( result, '~~~')\n",
    "    #return result['documents'][0]['y'], result['documents'][0]['x']\n",
    "    return result[\"documents\"][0][\"road_address\"][\"address_name\"]\n",
    "    \n",
    "lat = [] #위도\n",
    "lng = [] #경도\n",
    "\n",
    "places = [\"서울특별시 종로구 세종대로 175\", \"서울특별시 서초구 서초동 700\", \"성남시 수정구 수정로 167\"]\n",
    "i=0\n",
    "for place in places:\n",
    "    i = i+1\n",
    "    try:\n",
    "         print(i, place)\n",
    "         place_lat, place_lng= get_geocoding(place)\n",
    "         lat.append( place_lat )\n",
    "         lng.append( place_lng )\n",
    "         road_result = get_road_address(place)\n",
    "         print( \"도로명은 \" , road_result ) \n",
    "    except:\n",
    "         lat.append('')\n",
    "         lng.append('')\n",
    "         print(i)\n",
    "df = pd.DataFrame({'위도': lat, '경도': lng}, index=places)\n",
    "df\n"
   ]
  },
  {
   "cell_type": "code",
   "execution_count": null,
   "id": "ff4d641d-a7f1-497d-9bb7-3263706ec6cc",
   "metadata": {},
   "outputs": [],
   "source": []
  }
 ],
 "metadata": {
  "kernelspec": {
   "display_name": "Python 3 (ipykernel)",
   "language": "python",
   "name": "python3"
  },
  "language_info": {
   "codemirror_mode": {
    "name": "ipython",
    "version": 3
   },
   "file_extension": ".py",
   "mimetype": "text/x-python",
   "name": "python",
   "nbconvert_exporter": "python",
   "pygments_lexer": "ipython3",
   "version": "3.10.16"
  }
 },
 "nbformat": 4,
 "nbformat_minor": 5
}
