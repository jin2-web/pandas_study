# part4-3
# 교재 197
# 면적 그래프 
import pandas as pd
import matplotlib.pyplot as plt
# 한글 처리
from matplotlib import font_manager, rc
font_path = './data/malgun.ttf'
font_name = font_manager.FontProperties(fname = font_path).get_name()
rc('font', family=font_name)
# 데이터 불러오기
df = pd.read_excel('./data-4/시도별_전출입_인구수.xlsx')
df.head()
# 누락값(NaN)을 앞 데이터로 채움(엑셀 양식 병합부분)
df = df.ffill()
df.head()
# 서울에서 다른 지역으로 이동한 데이터만 추출하여 정리
mask = (df['전출지별'] == '서울특별시') & (df['전입지별'] != '서울특별시')
df_seoul = df[mask]
# 전출지별 열을 삭제하기
df_seoul = df_seoul.drop(['전출지별'], axis=1)
# '전입지별'을 '전입지' 열이름 변경하기
df_seoul = df_seoul.rename({'전입지별': '전입지'}, axis=1)
df_seoul
# 전입지 열을 행 인덱스로 만들기
df_seoul = df_seoul.set_index('전입지')
df_seoul.head()
col_years = list( map(str, range(1970,2018) ) ) # ['1970', '1971']
df_4 = df_seoul.loc[ ['충청남도', '경상북도', '강원도', '전라남도'], col_years ]
df_4


df_4.info()
df_4 = df_4.astype( int )
df_4.info()


df_4 = df_4.T # df_4.transpose() 전치행렬 (행과 열 바꾼 것)
df_4


#df_4.plot() # 데이터프레임.plot()- 데이터프레임의 인덱스를 x축으로 열들을 값으로 그래프 그려진다. 
#df_4[ ['강원도', '전라남도']  ].plot()
print(df_4.head())
ax = df_4.plot( kind='area', stacked=False, alpha=0.2, figsize=(20, 10) )
print(type(ax), '~~') # type( 알고 싶은 내용 ) 
print( type(df_4), '~~~' )
a = 10
print( type( a ), '~~~~')


df_4.head()
df_4.index # 인덱스값 
# df_4.index = df_4.index.map( int )  교재처럼 '1970' -> 1970변경
# df_4.index



# part4-3
# 교재 197
# 면적 그래프 
import pandas as pd
import matplotlib.pyplot as plt
# 한글 처리
from matplotlib import font_manager, rc
font_path = './data/malgun.ttf'
font_name = font_manager.FontProperties(fname = font_path).get_name()
rc('font', family=font_name)
# 데이터 불러오기
df = pd.read_excel('./data-4/시도별_전출입_인구수.xlsx')
df.head()
# 누락값(NaN)을 앞 데이터로 채움(엑셀 양식 병합부분)
df = df.ffill()
df.head()
# 서울에서 다른 지역으로 이동한 데이터만 추출하여 정리
mask = (df['전출지별'] == '서울특별시') & (df['전입지별'] != '서울특별시')
df_seoul = df[mask]
# 전출지별 열을 삭제하기
df_seoul = df_seoul.drop(['전출지별'], axis=1)
# '전입지별'을 '전입지' 열이름 변경하기
df_seoul = df_seoul.rename({'전입지별': '전입지'}, axis=1)
df_seoul
# 전입지 열을 행 인덱스로 만들기
df_seoul = df_seoul.set_index('전입지')
df_seoul.head()
col_years = list( map(str, range(1970,2018) ) ) # ['1970', '1971']
df_4 = df_seoul.loc[ ['충청남도', '경상북도', '강원도', '전라남도'], col_years ]
df_4


df_4.head()


df_4 = df_4.T # df_4.transpose() 전치행렬 (행과 열 바꾼 것)
df_4


# 문자열로 된 인덱스를 '1970'를 1970 숫자형으로 바꾸기 
df_4.index
# 방법1
df_4.index = df_4.index.astype(int)
# 방법2
# 교재 202page 36줄 코드 df_4.index = df_4_index.map(int)
df_4.index

df_4.plot( kind='bar', figsize=(20, 5), width=1, color=['orange','green','skyblue','blue'] )

plt.title('서울->타시도 인구 이동', size=30)
plt.ylabel('이동 인구수',size=20)
plt.xlabel('기간', size=20)
plt.legend( loc='best', fontsize=15) 
plt.show()



df_4 = df_4.loc[ [1970,1975, 1980,1985,1990,1995,2000,2005,2010,2015],  : ]
df_4


# 문자열로 된 인덱스를 '1970'를 1970 숫자형으로 바꾸기 
df_4.index

# 방법1
df_4.index = df_4.index.astype(int)
# 방법2
# 교재 202page 36줄 코드 df_4.index = df_4_index.map(int)
df_4.index

df_4.plot( kind='barh', figsize=(10, 20), width=0.7, color=['orange','green','skyblue','blue'] )

plt.title('서울->타시도 인구 이동', size=30)
plt.ylabel('이동 인구수',size=20)
plt.xlabel('기간', size=20)
plt.legend( loc='best', fontsize=15) 
plt.show()



# 203 page 
df_4['합계'] = df_4.sum( axis = 1 ) # 열에 대한 합
df_4
df_total = df_4[['합계']].sort_values(by='합계', ascending=True)
df_total
#type(df_total)
df_total.plot( kind='barh' )
plt.show()


# 205page 4-18 주측, 보조축 
import pandas as pd
import matplotlib.pyplot as plt

# 한글 처리
from matplotlib import font_manager, rc
font_path = './data/malgun.ttf'
font_name = font_manager.FontProperties(fname = font_path).get_name()
rc('font', family=font_name)

plt.style.use('ggplot')
plt.rcParams[ 'axes.unicode_minus'] = False # 마이너스 부호 출력 설정

df = pd.read_excel('./data-4/남북한발전전력량.xlsx')
df = df.loc[ 5:9 ] # 북한 자료만 추출
df.drop('전력량 (억㎾h)', axis=1, inplace=True ) # 열 삭제하기
# df = df.set_index('발전 전력별') 아래 코드와 같다
df.set_index('발전 전력별', inplace=True)
df
# 전치행렬
df = df.T
df
# '-' -> 0 : 1단계 '-'  --- 문자를 찾아서 다른 문자로 바꿈 -->  '0'  2단계 '0' -- float형으로 타입 바꾸기 --> 0
for col in df.columns:
    df[col] = df[col].replace('-', '0')
df = df.astype( float )
df.info()
df




# '합계'열의 이름을 '총발전량' 열이름 바꾸기
df = df.rename( columns = {'합계':'총발전량' })

df['총발전량-1년'] = df['총발전량'].shift(1) #한 행씩 아래로 이동하는 것 
df['증감률'] = ( (df['총발전량'] / df['총발전량-1년']) - 1 ) * 100 
# 증감률 =  ( 현자료-이전자료  )/ 이전자료 * 100
df


# 2축 그래프그리기
ax1 = df[ ['수력','화력'] ].plot( kind='bar', figsize=(10,5), width=0.7, stacked = True )
ax2 = ax1.twinx() # x축을 공유하기  ax1의 객체와 ax2객체가 x축을 공유한다. 
ax2.plot( df.index, df['증감률'], 'g-', markersize=10, marker='o',  label='증감율(%)' )
ax1.set_ylim( 0, 500)
ax2.set_ylim( -50, 50)
ax1.set_xlabel('연도', size=11)
ax1.set_ylabel('발전량(억 kwh)')
ax2.set_ylabel('전년도 대비 증감율(%)')
ax2.legend()
plt.show()



# 히스토그램 - 빈도수 구하는 그래프
import pandas as pd
import matplotlib.pyplot as plt

plt.style.use('classic')
df = pd.read_csv('./data-4/auto-mpg.csv', header=None)
df

df.columns = ['mpg','cylinders','displacement','horsepower','weight','acceleration','model year', 'origin','name']
df.head()


df['mpg'].plot( kind='hist', bins=10, color='coral', figsize=(10,5)  )
# bins 히스토그램의 가로축 구간의 갯수 


# 208page 원산지 국가 열을 기준으로 그룹별로 히스토 그램 그리기
df[ ['mpg', 'origin'] ].plot(by='origin', kind='hist' )


# 208page 실린더 열을 기준으로 그룹별로 히스토그램 그리기
df[ ['mpg', 'cylinders'] ].plot(by='cylinders', kind='hist', figsize=(20, 10) )


# 208page 원산지 실린더 열을 기준으로 그룹별로 히스토그램 그리기
df[ ['mpg', 'origin', 'cylinders'] ].plot(by=['origin','cylinders'], kind='hist', figsize=(20, 10) )


weight = [68, 81, 64, 56, 78, 74, 61, 77, 66, 68, 59, 71,
          80, 59, 67, 81, 69, 73, 69, 74, 70, 65]
# plt.hist( weight )
sr_weight = pd.Series(weight)
sr_weight
sr_weight.plot(kind='hist')
# plt.plot( sr_weight ) # 에러 해결
