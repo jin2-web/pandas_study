# part2_save_file.ipynb
# 117page
import pandas as pd
data = {'name': ['Jerry','Rich','Paul'],
        'algol': [ 'A','A+','B'],
        'basic': ['C','B','B+'],
        'c++': ['B+','C','C+'] }
df = pd.DataFrame( data )
df=df.set_index('name')
df


df.to_csv('./data/df_sample_0423.csv')
df.to_csv('./data/df_sample_0423_index_false.csv', index=False)


#119
import pandas as pd
data = {'name': ['Jerry','Rich','Paul'],
        'algol': [ 'A','A+','B'],
        'basic': ['C','B','B+'],
        'c++': ['B+','C','C+'] }
df = pd.DataFrame( data )
df=df.set_index('name')
df


df.to_json('./data/df_sample_0423_basic.json')


df.to_json('./data/df_sample_0423_split.json', orient='split')
# index, columns, data로 분리해서 json 저장한다


df.to_json('./data/df_sample_0423_records.json', orient='records')
# 각행을 별도의 json객체로 저장하여 열 이름이 키로 사용된다.
# record는 행을 말한다.


df.to_json('./data/df_sample_0423_index.json', orient='index')
# 각행을 index를 키로 사용하고 각 행의 데이터를 json객체로 저장한다


df.to_json('./data/df_sample_0423_columns.json', orient='columns')
# 각열의 column을  키로 사용하고 각 행의 데이터를 json객체로 저장한다


df.to_json('./data/df_sample_0423_values.json', orient='values')
# 데이터 프레임의 값만을 순서대로 저장한다. 행인덱스와 열이름은 저장되지 않는다.


# 엑셀파일로 저장하기
import pandas as pd
data1 = {'name' : [ 'Jerry', 'Riah', 'Paul'],
         'algol' : [ "A", "A+", "B"],
         'basic' : [ "C", "B", "B+"],
          'c++' : [ "B+", "C", "C+"]}

data2 = {'c0':[1,2,3], 
         'c1':[4,5,6], 
         'c2':[7,8,9], 
         'c3':[10,11,12], 
         'c4':[13,14,15]}
df = pd.DataFrame( data1 )
df = df.set_index('name')
df.to_excel('./data/excel_0423.xlsx')
df.to_excel('./data/excel_index_false_0423.xlsx', index=False)



df2 = pd.DataFrame( data2 )
df2 = df2.set_index( 'c0' )
df2


# 데이터프레임 2개를 한개의 엑셀파일 저장한 시트1 - 1데이터프레임 시트2 - 2데이터프레임
with pd.ExcelWriter('./data/excel_2_sheet.xlsx') as writer:
    df.to_excel(writer, sheet_name='점수')
    df2.to_excel(writer, sheet_name='가중치')
