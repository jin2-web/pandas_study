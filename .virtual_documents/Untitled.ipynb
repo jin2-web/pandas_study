# part2_scraping.ipynb
from bs4 import BeautifulSoup
import requests
import re
import pandas as pd


url = 'https://search.naver.com/search.naver?where=nexearch&sm=top_hty&fbm=0&ie=utf8&query=%EC%98%81%ED%99%94%EC%88%9C%EC%9C%84&ackey=6w8jzbgk'
resp = requests.get(url)
resp  # <Response [200]> 정상적으로 응답함 
soup = BeautifulSoup( resp.text, 'lxml')



url =  "https://en.wikipedia.org/wiki/List_of_American_exchange-traded_funds"
resp = requests.get(url)
resp  # <Response [200]> 정상적으로 응답함
soup = BeautifulSoup(resp.text, 'lxml')
rows = soup.select('div > ul > li')
print( "resp: ", resp) 
print("="*76)
print( "resp.text: ", resp.text)
print("="*76)
print("soup: ", soup)
print("="*76)
print("rows: ", rows[50:55] )



rows


rows[50:55]


etfs = {}
for row in rows:
   try: 
        etf_name = re.findall("(.+?)\s\(", row.text) 
       # re모듈은 정규표현식으로 텍스트를 선별적으로 추출
       # (.+? ) - 모든 문자(최소탐욕) - 가능한한 짧게 매칭
       # \s 공백문자 하나, \( 여는 괄호 
        etf_market = re.findall("\((.+?):", row.text)
        etf_ticker = re.findall(":\s(.+)\)", row.text )
        if( (len( etf_name ) > 0) & (len( etf_market ) > 0) & (len( etf_ticker ) > 0) ):
             etfs[ etf_ticker[0] ] = [ etf_market[0], etf_name[0] ]
   except AttributeError as err:
       pass
etfs


df = pd.DataFrame(etfs)
df
