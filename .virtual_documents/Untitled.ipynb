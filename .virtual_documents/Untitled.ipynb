# part4-2
import matplotlib.pyplot as plt
plt.plot( [1,2,3,4] )  # y값으로 1,2,3,4를 인식
plt.show()


plt.plot([ 1,2,3,4], [1,4,9,16] ) # x축값, y축값 
plt.show()


plt.plot([1, 2, 3, 4], [1, 4, 9, 16], 'ro')
#           x축값,        y축값      , '포맷형식' red, 마커형식(> < v ^ - : -. o )원모양
plt.axis([0, 6, 0, 20])
#축의 범위[ xmin, xmax, ymin, ymax ] 
plt.show()


import numpy as np # 수학적 함수 가지고 있는 라이브러리
t = np.arange( 0. , 5. , 0.2 )  # 0. 부터 5.0 미만까지에서 0.2간격으로 등차수열 만들어 냄 
t # [0., 0.2, 0.4 ...]
plt.plot(t, t, 'r--', t, t**2, 'b^', t, t**3, 'gs') # y축 3제곱해서 초록네모
#       x1축,y1축,모양1,
plt.show()


# plot() 선이나 마커 그래프 그리는 함수
plt.plot([2, 3, 5, 10])
# x값을 생략하면 기본값을 [0,1,2,3]
# (0, 2), (1,3), (2, 5), (3, 10)
plt.show()


plt.plot([1, 2, 3, 4], [2, 3, 5, 10])
#(1,2), (2,3), (3,5), (4,10) 튜플형식으로 값이 만들어지면서 좌표값을 만들어 냄
plt.show()


data_dict = {'data_x': [1, 2, 3, 4, 5], 'data_y': [2, 3, 5, 10, 8]}
# plt.plot( data_dict['data_x'], data_dict['data_y'] ) 또는
plt.plot( 'data_x', 'data_y' , data = data_dict ) 
# data라는 파라미터(옵션)에서 딕셔너리명 지정
plt.show()


# 축레이블 설정하기
# plt.xlabel(), plt.ylabel(), plt.axis(), labelpad, fontdict, loc
# 1. 기본사용 2. 여백지정, 3. 폰트설정, 4. 위치지정하기


# 1. 기본 사용하기
plt.plot( [1,4,9,16] )
plt.xlabel('x-label')
plt.ylabel('y-label')
plt.show()


# 2. 여백 지정하기
plt.plot( [1,4,9,16] )
plt.xlabel('x-label', labelpad=15) #15pt 라벨 여백 : 위 눈금과 x-label글자 사이 간격
plt.ylabel('y-label', labelpad=20) #20pt 라벨 여백
plt.show()


# 3. 폰트설정하기
font1 = { 'family': 'serif', 
          'color': 'b',
          'weight': 'bold',
          'size': 14}
plt.plot([1, 4, 9, 16])
plt.xlabel('x-label', labelpad=15, fontdict=font1)
plt.ylabel('y-label', labelpad=20)
plt.show()


# 4. 위치 지정 하기
font1 = { 'family': 'serif',
          'color': 'b',
          'weight': 'bold',
          'size': 14}
plt.plot([1, 4, 9, 16])
plt.xlabel('x-label', labelpad=15, fontdict=font1, loc='right')
plt.ylabel('y-label', labelpad=20, loc='top')
plt.show()


# 범례표시하기
# legend() 데이터 종류 표시하는 것
# keyword - legend(), label, loc, ncol, fontsize, frameon, shadow
# 기본사용, 위치지정, 열개수지정, 폰트크기 지정, 범례테두리 꾸미기


# 기본사용하기
# plot안에 label을 쓰고 plt.legend() 범례표시해야 합니다.
plt.plot([1, 2, 3, 4], [2, 3, 5, 10], label='Price($)')
plt.xlabel('X-Axis', labelpad=10)
plt.ylabel('Y-Axis', labelpad=10)
plt.legend() # 범례표시 
plt.show()


# 위치 지정하기
plt.plot([1, 2, 3, 4], [2, 3, 5, 10], label='Price($)')
plt.xlabel('X-Axis', labelpad=10)
plt.ylabel('Y-Axis', labelpad=10)
# plt.legend(loc='lower right') # 범례표시 lower right-아래 오른쪽
plt.legend(loc=(0.8, 0.3)) # x축 80% 위치, y축 30%위치
plt.show()


# 챠트 1개안에 선그래프 2개 그리기
plt.plot([2,3,5,10], label='Price($)')
plt.plot([3,5,9,7], label='Demand(#)')
plt.legend(loc=(0.5, 0.2), ncol=2, fontsize=8) # 범례를 2칸으로 표시, 폰트사이지 8pt
plt.show()


# 챠트 1개안에 선그래프 2개 그리기
plt.plot([2,3,5,10], label='Price($)')
plt.plot([3,5,9,7], label='Demand(#)')
plt.legend(loc=(0.5, 0.2), ncol=2, fontsize=8, frameon=True, shadow=True)
# 범례를 2칸으로 표시, 폰트사이지 8pt, 범례테두리 frameon=True를 할지 여부 결정(생략하면 True)
# shadow=True 그림자 표시
plt.show()


# 축범위 지정하기
# xlim()-x축 범위지정하거나 표시, ylim()-y축 범위 지정하거나 표시 , axis-x축, y축 범위 지정하거나 표시 


# 기본사용하기
plt.plot( [1,2,3,4], [2,3,5,10] )
#plt.xlim( 최소값, 최대값 )
#plt.xlim( (0, 5) ) # 같은 것 ([0,5]), ( (0,5) ), (0,5)
#plt.ylim( 0,20 )
plt.axis( (0,          5,        0,           20) )
#          x축 최소값, x축 최대값, y축 최소값, y축 최대값 
plt.show()


# 선 종류 변경하기
# linestyle, Solid '-', Dashed '--', Dotted ':', Dash-dot '-.'
plt.plot( [4,4,4], 'r-', label='Solid')
plt.plot( [3,3,3], 'b--', label='Dashed')
plt.plot( [2,2,2], 'g:', label='Dotted')
plt.plot( [1,1,1], 'y-.', label='Dash-dot')
# x축값 0.8, 3.2 , y축값 0.5, 5.0
# plt.xlim( 0.8, 3.2 )
# plt.ylim( 0.5, 5.0 )
plt.axis( (0.8, 3.2, 0.5, 5.0) )
# 범례표시하기 위치 오른쪽 위쪽으로 보이게 한 행에 모두 보이게
plt.legend(loc=(0.5, 0.8), ncol=2)
plt.show()


# 선 종류 변경하기
# linestyle, Solid '-', Dashed '--', Dotted ':', Dash-dot '-.'
plt.plot( [4,4,4], linestyle='solid', color='red', label='Solid')
plt.plot( [3,3,3], linestyle='dashed', color='blue', label='Dashed')
plt.plot( [2,2,2], linestyle='dotted', color='green', label='Dotted')
plt.plot( [1,1,1], linestyle='dashdot', color='yellow', label='Dash-dot')
# x축값 0.8, 3.2 , y축값 0.5, 5.0
# plt.xlim( 0.8, 3.2 )
# plt.ylim( 0.5, 5.0 )
plt.axis( (0.8, 3.2, 0.5, 5.0) )
# 범례표시하기 위치 오른쪽 위쪽으로 보이게 한 행에 모두 보이게
plt.legend(loc=(0.5, 0.8), ncol=2)
plt.show()


plt.plot([4,5,6], marker='h', color='#0100ff')
plt.show()


# 그래프 영역 채우기
# 그래프의 특정 영역을 채워서 강조할 때
# fill_between()-두 수평 방향의 곡선 사이를 채운다
# fill_betweenx() - 두 수직 방향의 곡선 사이를 채운다
# fill() - 다각형 영역을 채운다



x = [1, 2, 3, 4]
y = [2, 3, 5, 10]
plt.plot( x, y)
plt.fill_between( x[2:4], y[2:4], alpha=0.5)
                 #x[시작인덱스번호:끝인덱스번호-1]
plt.show()



x = [1, 2, 3, 4]
y = [2, 3, 5, 10]
plt.plot( x, y)
plt.fill_betweenx( y[2:4], x[2:4], alpha=0.5)
                 #x[시작인덱스번호:끝인덱스번호-1]
# 네점 x[2], y[2], (x[3], y[3]) (0, y[2]), (0, y[3])을 잇는 영역이 채워진다. 
# 좌표점에서 x방향으로 회전 
# y[2:4]으로 기준으로 그려짐 
plt.show()



x = [1,2,3,4]
y1 = [2,4,5,10]
y2 = [1,2,4,8]
plt.plot(x, y1)
plt.plot(x, y2)
plt.fill_between( x[1:3], y1[1:3], y2[1:3], color='darkgray', alpha=0.8) 
# x[1:3] 의 실제 원소값 a1=2, a2=3
# y1[1:3] 의 실제 원소값은 b1=3,b2=5
# 1단계-위에 자료의 쌍을 튜플 (a1,b1) (a2,b2) 즉 (2,3), (3,5)
# y2[1:3]의 실제 원소값은 c1=2, c2=4
# 2단계 - 위의 자료의 쌍을 튜플 (a1, c1), (a2, c2) 즉 (2,2), (3,4)
# 1단계 2단계 연결하기  (a1,b1) - 연결 - (a1,c1), (a2,b2) - 연결 - (a2, c2) 
plt.show()


x = [1,2,3,4]
y1 = [2,4,5,10]
y2 = [1,2,4,8]
plt.plot(x, y1)
plt.plot(x, y2)
plt.fill( [ 1.9, 1.9, 3.1, 3.1 ],[ 1.0, 4.0, 6.0, 3.0], color='darkgray', alpha=0.7 )
# 점 (1.9, 1.0), (1.9, 4.0), (3.1, 6.0), (3.1, 3.0)
plt.show()


# 축스케일
# plt.xscale(), plt.yscale(), axis.scale, linear, log


import matplotlib.pyplot as plt 
import numpy as np
x = np.linspace( -10, 10, 20 ) # -10부터 10까지 등차수열 실수값 20개를 만들어라 
y = x**3 
plt.plot(x, y)
plt.show()
# 결과 x축 값과 y축값의 차이가 많이 난다.



import matplotlib.pyplot as plt 
import numpy as np
x = np.linspace( -10, 10, 20 ) # -10부터 10까지 등차수열 실수값 20개를 만들어라 
y = x**3 
print(x)
plt.plot(x, y)
plt.xscale('symlog') # Symmertrical log scale : 축의 원점을 기준으로 양, 음의 방향이 대칭적인 로그 스케일로 표시
# 'symlog'-제일 많이 사용함, 'log', 'logit', 'linear'중에 1개를 사용할 수 있다. 생략하면 'linear'이다.
plt.show()
# 결과 x축 값과 y축값의 차이가 많이 난다.



import matplotlib.pyplot as plt 
import numpy as np
x = np.linspace( -10, 10, 20 ) # -10부터 10까지 등차수열 실수값 20개를 만들어라 
y = x**3 
print(x)
plt.plot(x, y)
plt.yscale('symlog') # Symmertrical log scale : 축의 원점을 기준으로 양, 음의 방향이 대칭적인 로그 스케일로 표시
# 'symlog'-제일 많이 사용함, 'log', 'logit', 'linear'중에 1개를 사용할 수 있다. 생략하면 'linear'이다.
plt.show()
# 결과 x축 값과 y축값의 차이가 많이 난다.



# 여러개의 그래프 그리기
# subplot()함수 



import numpy as np
import matplotlib.pyplot as plt
x1 = np.linspace(0.0, 5.0)
x2 = np.linspace(0.0, 2.0)

y1 = np.cos( 2*np.pi * x1) * np.exp(-x1) # np.pi 는 원주율(3.14) np.cos 코사인 np.exp 지수값
y2 = np.cos( 2*np.pi * x2 )
'''
fig, axes = plt.subplots( 1,2, figsize=(12, 5))
axes[0].plot( x1, y1 )
axes[1].plot( x2, y2 )
plt.show()
'''
# 동일한 코드
plt.subplot(2,2,1) # (1행수, 2열수, 첫번째열) 
plt.plot( x1, y1 )
plt.title('first-graph')

plt.subplot(2,2,2) # 1행 2열에서 2번째 것 
plt.plot( x2, y2 )
plt.title('second-graph')

plt.subplot(2,2,3)
plt.plot( x2, y2 )
plt.title('third-graph')

plt.subplot(2,2,4)
plt.plot( x2, y2 )
plt.title('fourth-graph')
plt.show()
