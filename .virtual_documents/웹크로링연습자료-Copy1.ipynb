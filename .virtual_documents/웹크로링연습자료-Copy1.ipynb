


import requests as rq
url = 'https://quotes.toscrape.com/'
quote = rq.get(url)
quote





quote.content[20:100] #html 전체코드에서 20번째 문자부터 99번 문자까지 보기
quote.content # html 전체 코드 보기 
quote.content[:1000]





from bs4 import BeautifulSoup as bs
quote_html = bs( quote.content, 'lxml' )
quote_html
quote_html.head() # <body> 태그만 보여 주기 





# 변수 = html변수명.find('태그명', class_='클래스명' )
quote_div = quote_html.find('div', class_='quote')
# find() 찾는게 여러개면 첫번째 것만 찾는다.
quote_div
# 변수 = html변수명.find_all('태그명', class_='클래스명' )
# find_all() 모든 것을 찾아서 리스트로 만든다.
quote_div = quote_html.find_all('div', class_='quote')
quote_div # 모든 것을 찾아서 리스트
quote_div[0]





quote_span = quote_div[0].find_all('span', class_='text')
quote_span





quote_span[0].text 
# <span> 명언 글자 </span> 형태에서 명언 글자 가지오기





명언 = []
for i in quote_div:
    spans = i.find_all('span', class_='text')
    if spans:
       명언.append( spans[0].text )
명언

명언2 = [ i.find_all('span', class_='text')[0].text for i in quote_div ]
#      3번                    2번                           1번
# 1번은 반복문
# 2번은 반복문의 내용
# 3번은 리스트 저장
명언2


명언 = [i.find_all('span',class_='text')[0].text for i in quote_div]
명언





quote_text = quote_html.select('div.quote > span.text')
quote_text





quote_text_list = [i.text for i in quote_text]
quote_text_list





quote_author = quote_html.select('div.quote > span > small.author')
quote_author_text = [ i.text  for i in quote_author]
quote_author_text





quote_link = quote_html.select('div.quote > span > a')
quote_link





quote_link[0]['href']
# 모든 속성을 출력해 보세요 리스트컴프리헨션을 이용해서
quote_link_list = [ i['href'] for i in quote_link ]
quote_link_list





quote_link_list = ['https://quotes.toscrape.com' + i['href'] for i in quote_link ]
quote_link_list



















































