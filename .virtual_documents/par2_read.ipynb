import pandas as pd
import os
os.listdir("./data")


s_name = os.path.join("data", "read_csv_sample.csv")
print(s_name) # data\read_csv_sample.csv
sample = pd.read_csv(s_name)
print(sample)
df_file = './data/df_sample.csv'
df_sample = pd.read_csv(df_file)
df_sample
test_file = './data/test.csv'
test = pd.read_csv(test_file)
test



s_name = os.path.join("data", "read_csv_sample.csv")
print(s_name) # data\read_csv_sample.csv
sample = pd.read_csv(s_name, header=0, index_col='c3') #0행을 열이름쓰기
sample


# excel 파일 불러오기
ex1=pd.read_excel('./data/남북한발전전력량.xlsx')
# 문자변수 저장하고 변수 이용 불러오기
ex2_file = './data/df_excelwriter.xlsx'
ex2=pd.read_excel(ex2_file)
ex2
# os.path.join()함수를 이용해서
ex3_file=os.path.join('data','df_sample_no_index.xlsx')
ex3=pd.read_excel( ex3_file )
ex3


ex1=pd.read_excel('./data/df_excelwriter.xlsx', header=0, index_col='name')
ex1


df2 = pd.read_json("./data/read_json_sample.json", orient='index')
df2
# 101 



df1 = pd.DataFrame( {"name": [ '홍길동','이순신'], "age": [10,20]})
df1
file_name = './data/user_name_age.csv'
df1.to_csv(file_name) # 저장하기


csv1 = pd.read_csv( file_name, encoding='utf-8',index_col='age' )
csv1


csv1 = pd.read_csv( file_name, encoding='utf-8',usecols=['age'] )
csv1


df1 = pd.DataFrame( {"name": [ '홍길동','이순신'], "age": [10,20]})
df1
file_name = './data/user_name_age.csv'
df1.to_csv(file_name) # 저장하기


csv1 = pd.read_csv( file_name, encoding='utf-8' )
csv1



csv1 = pd.read_csv( file_name, dtype={'name':str, 'age':int} ) 
csv1
csv1


# 문제1)  ./data/read_csv_sample.csv 데이터프레임의 상위 5개 행을 출력하시오.
q1 = pd.read_csv( './data/read_csv_sample.csv')
q1.head()



# 문제2) ./data/남북한발전전력량.csv 파일을 인코딩해서 불러오기. head() 상위 5개행
q2 = pd.read_csv('./data/남북한발전전력량.csv', encoding='cp949')
# cp949는 한글완성형 EUC-KR의 확장형으로 한글 지원하는 인코딩법
q2.head()


df = pd.read_excel('./data/남북한발전전력량.xlsx')
df


df = pd.read_excel('./data/남북한발전전력량.xlsx', sheet_name='data')
df


df = pd.read_excel('./data/남북한발전전력량.xlsx', sheet_name='data',header=1)
df


df = pd.read_excel('./data/남북한발전전력량.xlsx', sheet_name='data', index_col=1)
df


df = pd.read_excel('./data/남북한발전전력량.xlsx', sheet_name='data', index_col=1)
df


df = pd.read_excel('./data/남북한발전전력량.xlsx', sheet_name='data',  skiprows=2)
df


df = pd.read_excel('./data/남북한발전전력량.xlsx', sheet_name='data',  na_values=['-','N/A'] )
df


df = pd.read_json('./data/user_1.json')
df


df = pd.read_json('./data/user_1.json', orient='index') #키를 인덱스로 사용
df 


import pandas as pd
#df = pd.read_json('./data/user_1.json', orient='columns') #키를 컬럼으로 사용
df = pd.read_json('./data/user_1.json')
df


df = pd.read_json('./data/user_1.json', orient='values') #파일 저장시
df


df = pd.read_json('./data/user_1.json', orient='records')  #파일 저장시
df


ser = pd.read_json('./data/user_1.json', typ='series') #시리즈 형태 출력
ser


# df = pd.read_json('./data/user_1.json', lines=True) 코드 오류 발생
# df


# 교재 103페이지 - <table>로 만들어진 html파일만 가능함
tables = pd.read_html('./data/sample.html')
tables
print( len( tables) )
for i in range( len(tables) ) : # i=0 1 
    print("tables[%s]"%i)
    print(tables[i])
    print("\n")
df = tables[1]
df = df.set_index(['name'])
df


import pandas as pd

df_test = pd.read_json('./data/fruits.json', orient='index')
df_test
# 키를 인덱스 읽기
# json 자료
# {"0":{"name":"apple","price":3000},"1":{"name":"banana","price":2000},"2":{"name":"peach","price":3500}}



# {"name":{"0":"apple","1":"banana","2":"peach"},"price":{"0":3000,"1":2000,"2":3500}}
df_test = pd.read_json('./data/read_csv_columns.json', orient='columns')
df_test
# 파일을 읽어올때 키 "name"를 컬럼으로 사용하기


df_test = pd.read_json('./data/read_csv_columns.json', orient='records')
df_test
