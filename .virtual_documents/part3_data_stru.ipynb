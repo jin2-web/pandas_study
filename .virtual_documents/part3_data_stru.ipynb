# part3_data_struc 파일명
import pandas as pd

df = pd.read_csv('./data/auto-mpg.csv', header=None) 
df
# 자동차 연비 
df.columns = ['mpg','cylinders','displacement','horsepower','weight',
              'acceleration','model year','origin','name']
df.head(7)
df.tail()
df.shape # (398, 9) (행수, 열수)
df.info() #결측값이 있는 확인, 열에 대한 자료형

df.mpg.dtypes
# 또는 동일한 코드
df['mpg'].dtypes
df[ ['mpg','name'] ].dtypes



# 요약 정보 보기
df.describe()


# 요약 정보 보기
df.describe() # 숫자형 자료만 요약정보 보기
df.describe(include='all') #모든 열 자료 요약정보보기 (문자형도 포함)
df.describe(include='number') # 숫자 자료형 열 자료 요약정보 보기
df.describe(include='object') # 문자 자료형 열 자료 요약정보 보기


#139 
df.count()
type(df.count())


df1 = pd.read_excel('./data/남북한발전전력량.xlsx')
df1
# 첫행부터 5개 보기
df1.head()
# 첫행부터 20개 보기
df1.head(20)
# 마지막행 앞에서 5개부터 끝까지 보기
df1.tail()
# 행과 열의 갯수?
df1.shape
# 기본정보 보기
df1.info()
# 통계 요약 보기
df1.describe()
# 통계 숫자형 요약보기
# df1.describe(include='number') # 실제 데이터가 모두 object이니깐 오류가 남
# 통계 문자형 요약보기
df1.describe(include='object')


# 142page 통계함수
df.mean( numeric_only=True )
df.mean(numeric_only=True)
df['weight'].mean() # 산술평균 : 계산에 의해서 대표값 추출하는 방법 
# 단점 : 극단적인 값이 있다면 안 좋음, 계산 시간하는 시간이 걸린다.  장점 : 정확하다
df.weight.mean()
# 중앙값 == 중위값 == 중위수 : 오름차순으로 정렬하고 중간에 위치한 값 
# 주로 사용되는 것은 극단적인 최소, 최대를 제외하고 대표값을 추출할 때 이용함
df.median( numeric_only=True)
df['origin'].median()
# 표준편차 
df.std( numeric_only=True)
df[ ['displacement', 'weight', 'acceleration'] ].std()
# df[ ['displacement':'acceleration'] ].std() 오류발생
# 상관계수 : 변수(량)들 사이의 관계도
df.corr( numeric_only=True )
df[ ['displacement','cylinders']].corr()


df1


# ict_수정.xlsx 파일을 읽어오기
df2 = pd.read_excel('./data/ict_수정.xlsx')
#컬럼명 바꾸기
df2=df2.rename(columns={'학과별(1)':'학과별', '응답자수 (명)':'응답자수' } )
df2
df2 = df2.set_index('학과별')
df2
# 데이터프레임을 전치하기( 행열 위치 바꾸기)
df2 = df2.T
df2
# 데이터 정보
df2.info()
# 데이터 형태 보기
df2.shape
# 데이터 요약 보기
df2.describe()
# 각 열의 데이터 갯수 보기
df2.count()
# '전문대계'열의 고유값 개수 구하기
df2['전문대계'].value_counts()
# 전체 산술평균 구하기
df2.mean()
# '대학원ICT학과' '대학원ICT관련학과'의 산술 평균 구하기
df2[['대학원ICT학과', '대학원ICT관련학과']].mean()
# 전체 중앙값 구하기
df2.median()
# 최대값 구하기
df2.max()
# 최소값 구하기
df2.min()
# 표준편차 구하기
df2.std()
# '대학원ICT학과' '대학원ICT관련학과' 표준편차 구하기
df2[['대학원ICT학과', '대학원ICT관련학과']].std()
df2.corr()


# 문제 상관계수 값이 절대값 0.5 이상인 것을 열들을 리스트 저장하기
import numpy as np 
df2_corr = df2.corr()
# 상관계수값을 가져와서 0.5이상인지 판단 
# 행수
df2_index_len = len(df2_corr.index) #행의 갯수
# 열수 
df2_col_len = len(df2_corr.columns)
# 열명들을 리스트에 담았다
df2_col_name  = df2_corr.columns
result_list = []
for i in range(df2_index_len):  # i = 0, 1,2,..15
    for j in range(df2_col_len): # j = 0,1,2,.. 15
       if( (np.abs( df2_corr.iloc[i][j]) >= 0.5) and (np.abs( df2_corr.iloc[i][j] ) != 1)  ):
           #print( df2_corr.iloc[i][j] )
           result_list.append( df2_col_name[j])
    print('\n')
# 중복제거하기 위해서 set() 넣기
result_list = set(result_list)
# set자료를 list로 만들기
result_list = list(result_list)
result_list


# 절대값이 0.5 이상인 상관 계수 추출하기
import numpy as np
df2_corr = df2.corr()
index_size = len(df2_corr.index) # 행의 갯수 16개
col_size = len(df2_corr.columns) # 열의 개수 16개
corr_list = []
for i in range(0, index_size):
    for j in range( 0, col_size):
        if np.abs( df2_corr.iloc[i,j]  ) >= 0.5 :
            print(df2_corr.iloc[i,j] )
