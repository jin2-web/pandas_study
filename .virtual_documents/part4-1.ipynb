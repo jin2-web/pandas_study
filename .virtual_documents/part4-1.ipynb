# part4-1
# 시각화 도구
import pandas as pd
from matplotlib import pyplot as plt
df = pd.read_excel('./data-4/시도별_전출입_인구수.xlsx')
df.tail()


df = df.ffill()
df.tail()


# 서울 -> 다른 지역 
mask = (df['전출지별']=='서울특별시') & ( df['전입지별'] != '서울특별시')
df_seoul = df[mask]
df_seoul
# 전출지별 열 삭제하기
df_seoul = df_seoul.drop(['전출지별'], axis=1 )
df_seoul
# 전출지별 --> 전출지 이름 변경
df_seoul = df_seoul.rename( {'전입지별' : '전입지' }, axis=1 )
df_seoul
# 전입지 열을 인덱스로 변경하기 
df_seoul=df_seoul.set_index( '전입지' )
df_seoul
# 각 열에 대한 원소형태를 보기
df_seoul.info()
df_seoul


# 서울 -> 경기도
sr_one = df_seoul.loc[ '경기도' ]
print(sr_one.head())
sr_one.index
# sr_one = sr_one.astype(int)
sr_one.info()
# 아래 3개가 모두 같은 명령 - 시리즈 일때 
# sr_one.plot( kind='line' ) 
# plt.plot(  sr_one.index, sr_one.values ) 
plt.plot( sr_one )


plt.plot( sr_one, linestyle='-') 
plt.title('서울->경기 인구 이동')
plt.xlabel('기간')
plt.ylabel('이동 인구수')
plt.show()


from matplotlib import font_manager, rc
font_path = './data/malgun.ttf'
font_name = font_manager.FontProperties(fname=font_path).get_name()
rc('font', family=font_name)

plt.style.use('ggplot')
plt.figure( figsize=(25, 5) )  # 단위 인치
plt.xticks( size=10, rotation='vertical') # 포인트 1pt = 1/72인치 = 0.33mm
plt.title('서울->경기 인구 이동')
plt.xlabel('기간')
plt.ylabel('이동 인구수')
plt.ylim( 50000, 700000) # y축 값을 고정값을 할 때 이용
plt.plot( sr_one, linestyle='-', color='blue') # 선색깔 바꾸기 color='색' 
plt.annotate('', xy=( 20,620000), xytext=(2, 290000), xycoords='data', arrowprops=dict(arrowstyle='->', color='skyblue', lw=5), )
plt.show()


# 제주특별자치도에서 서울특별시로 전입한 이동 그래프 그리기
df=pd.read_excel('./data-4/시도별_전출입_인구수.xlsx')
df=df.ffill()

mask = (df['전출지별'] == '제주특별자치도') & (df['전입지별'] == '서울특별시')
df_seoul=df[mask]
df_seoul


# 제주특별자치도에서 서울특별시로 전입한 이동 그래프 2022년~2024년을 기준으로 그래프 그리기
# 통계청에서 다운 받아서
# 177쪽 실행 결과처럼 나오게 해보기
df=pd.read_excel('./data-4/전출지_전입지_제주_서울.xlsx')
df.head()


plt.style.available


df=pd.read_excel('./data-4/전출지_전입지_제주_서울.xlsx')
df.head()
mask= (df['전출지별'] == '제주특별자치도') & (df['전입지별'] == '서울특별시' )
df = df[mask]
df = df.drop(['전출지별'], axis=1)
sr_data = df.iloc[0, [3, 4, 5]]
sr_data
plt.style.use('seaborn-v0_8-colorblind') # print(plt.style.avaiable) 인쇄해 보면 '스타일명' 확인할 수 있다.
plt.plot(sr_data, marker='o', markerfacecolor='red',
         markeredgecolor='blue', markeredgewidth=2, markersize=10)
plt.title('제주도 -> 서울 인구수 이동 추이(22년~24년)', size=16)
plt.xlabel('기간')
plt.ylabel('이동 인구수')
plt.legend(labels=['제주->서울'], loc='upper left')
plt.figure(figsize=(14, 5))
plt.xticks(rotation='vertical')
plt.show()


# mask= (df['전출지별']=='제주특별자치도') & (df['전입지별'] == '서울특별시' )
# df = df[mask]
# df
# df=df.drop(['전출지별'], axis=1)
# df
sr_data=df.iloc[ 0, [3,4,5] ]
sr_data
plt.plot( sr_data )


# 교재 165page
import pandas as pd
import matplotlib.pyplot as plt
df=pd.read_excel('./data-4/시도별_전출입_인구수.xlsx')
df.head()


df=df.ffill()
df.head()


mask = ( df['전출지별'] == '서울특별시') & (df['전입지별'] != '서울특별시')
df_seoul = df[mask]
df_seoul = df_seoul.drop(['전출지별'], axis=1)
df_seoul.rename({'전입지별': '전입지'}, axis=1, inplace=True) #교재에 17줄 고치세요
df_seoul = df_seoul.set_index('전입지') #교재에서 18줄 고치기
df_seoul


sr_one = df_seoul.loc['경기도']
sr_one


plt.plot( sr_one.index, sr_one.values )
plt.show()


# 169 
plt.plot( sr_one ) # 해당 값을 y축값을 지정
plt.show()


# 170
from matplotlib import font_manager, rc
font_path = './data/malgun.ttf'
font_name = font_manager.FontProperties(fname=font_path).get_name()
rc('font', family=font_name)

plt.plot( sr_one.index, sr_one.values, linestyle='--')
plt.title('서울->경기 인구 이동')
plt.xlabel('기간')
plt.ylabel('이동 인구수')
plt.show()


# 173 예제 4-4
sr_one = df_seoul.loc['경기도']
plt.figure( figsize=(14, 5) ) # 가로-14인치, 세로-5인차
plt.plot( sr_one , label='서울->경기' )
plt.xticks(rotation=45)
plt.yticks(rotation='horizontal')
#plt.legend(loc='upper left') # 범례나오게 하기 
plt.legend( loc=(0.003, 0.9), frameon=True, shadow = True )
plt.show()


# 178page에 있는 코드 수정하세요
import matplotlib.pyplot as plt

print(plt.style.available)


plt.style.use('default') # 해당 스타일로 적용하기 
plt.show()


# 181page
import pandas as pd
import matplotlib.pyplot as plt

samsung_revenue = pd.read_csv('./data-4/삼성전자_분기별_매출액.csv')
samsung_revenue = samsung_revenue.sort_values( 'quarter' ) #오름차순 정렬
samsung_revenue


fig=plt.figure()
fig


fig, axe = plt.subplots()
print(fig)
print(axe)


fig, axe = plt.subplots(figsize=(8,2))
axe.plot( samsung_revenue['quarter'], samsung_revenue['value'] )
plt.show()


fig, axes = plt.subplots(2, 3)
print(fig)
print(axes)


# 교재 186쪽 예제 4-8 24행
fig, axes = plt.subplots( 1,2, figsize=(12,2))
axes[0].plot( samsung_revenue['quarter'], samsung_revenue['value'] )
# axes[1].plot( [1,4,8,15,9] )
#samsung_revenue['value'].plot( ax=axes[1] ) # 판다스 명령 챠트그리는 것 
#plt.show()
#samsung_revenue['value'].plot( ax=axes[0]) # 시리즈데이터.plot( ax=축번호 )
s = [1,3,5,8]
ser = pd.Series(s)
ser.plot( ax = axes[1] )
plt.show()




# 
