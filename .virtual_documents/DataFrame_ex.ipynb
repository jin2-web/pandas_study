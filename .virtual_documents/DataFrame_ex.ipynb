


# 데이터 프레임 만들기
# 방법1) 딕셔너리를 가지고 데이터프레임 만들기 
import pandas as pd
dict_data = {'c0':[1,2,3], 'c1':[4,5,6], 'c2':[7,8,9], 'c3':[10,11,12],'c4':[13,14,15] }
df = pd.DataFrame( dict_data, index=[ 'A', 'B', 'C' ]  ) #만들고
df.columns = ['초1','초2','초3','초4','초5'] #이름 바꾸기
print( df ) 



data = { 'name': ['Kim', 'Lee', 'Park'], 'age': [24, 27, 34], 'children': [2, 1, 3] } 
df = pd.DataFrame( data )
print( df )


# 방법2) pd.DataFrame(  2차원배열, index=행인덱스배열, columns = 열이름 배열 )
d_2 = [ [15,'남','덕영중'], [17, '여','수리중']  ]  #2차원
df2 = pd.DataFrame(  d_2 )
df2.index = [ '1반','2반' ]
df2.columns = ['나이','성별','중학교명']
print( df2 ) 
# 반의 이름?
print( df2.index ) 
# 학생의 자료 항목은?
print( df2.columns ) 
# rename 
# '1반'을 '준서'로  '2반'을 '예은'으로 rename 하세요
# '중학교명'을 '학교'을 rename하세요
df2 = df2.rename( index = {'1반':'준서', '2반':'예은' } , columns = { '중학교명':'학교' })
print( df2 )
# drop 삭제하기 
# 문제 '예은' 
df2_drop = df2.drop( '예은', axis=0 ) # 행 
print( df2_drop )
# 문제 '나이'
df2_age_drop = df2.drop('나이',axis=1 ) # 열 axis=1
print( df2_age_drop ) 





# 교재 1-7 22페이지
exam_data = {'수학':[90,80,70], '영어':[98,89,95],'음악':[85,95,100], '체육':[100,90,90] }
df = pd.DataFrame( exam_data, index=['준서','우현','인아'] )
print(df)

df2 = df.copy()
df2 = df2.drop('우현' )
print(df2)

df3 = df.copy()
df3 = df3.drop( [ '준서', '인아' ] )
print( df3 )

df4 = df.copy()
# df4 = df4.drop(  [ '준서':'우현' ] ) 오류 발생
print( df4 )  

df5 = df.copy()
df5 = df5.drop( '영어', axis="columns" )
df5


# 행선택
# 열선택
# 1-9
import pandas as pd
exam_data = {'수학':[90,80,70], '영어':[98,89,95],'음악':[85,95,100], '체육':[100,90,90] }
df = pd.DataFrame( exam_data, index=['서준','우현','인아'] )
print(  df.loc[ '서준': '인아' ] )
print( df.iloc[ 0:3] )
print( df.loc[ ['서준','인아'] ]  )




# 예제 1-10 열선택
exam_data = {'이름': ['서준','우현','인아' ], 
             '수학': [90,80,70],
             '영어': [98,89,95],
             '음악': [85,95,100],
             '체육': [100,90,90] }
df = pd.DataFrame( exam_data )
df
print( type(df) ) 


math1 = df['수학']
print( type( math1 )  )
print( math1 ) 
english = df.영어 # 많이 사용
english
a = df['체육']
a = df.체육



music_gym = df[ ['음악','체육'] ]
music_gym
math = df[ ['수학'] ] # 데이터프레임 추출 
print( type(math) , "~~" ) 
math = df[ '수학' ] #시리즈 추출
print( type(math), '@@@'  )


math2 = df[['수학']]
print(math2)
print( type(math2) )


df.iloc[::2]


df.iloc[0:3:2]


df.iloc[::-1]


#예제 1-11
exam_data = {'이름': ['서준','우현','인아' ], 
             '수학': [90,80,70],
             '영어': [98,89,95],
             '음악': [85,95,100],
             '체육': [100,90,90] }
df = pd.DataFrame( exam_data )
df
df = df.set_index('이름') 
df
#df.loc[ ['서준', '우현'], ['음악', '체육']  ]
#df.iloc[ 0, [2,3]  ]


#추가
#열추가
df['국어'] = 80
df
df['컴퓨터'] = [100,85,75]
df 



#행추가
df.loc['길동'] = [100,80,90,75,60,90 ]
df


# 41페이지 그림 1-14보고 코드해 보기 
# 예제 1-13 




# 원소값 변경
#서준 체육 95 변경
df.loc['서준','체육'] = 95
df
#우현 국어 100변경
df.loc['우현','국어'] = 100
df
#우현 수학, 컴퓨터을 각각 100 90 변경
df.loc['우현', ['수학','컴퓨터'] ] = 100, 90
df


# 46page
# 행, 열 위치 바꾸기
df_trans = df.transpose()
df_trans
df


# 교재 48페이지
import pandas as pd
exam_data = {'이름': ['서준','우현','인아' ], 
             '수학': [90,80,70],
             '영어': [98,89,95],
             '음악': [85,95,100],
             '체육': [100,90,90] }
df = pd.DataFrame( exam_data )
df
df_이름 = df.set_index( '이름' ) 
df_이름
# 번호 새롭게 멀티 인덱스 df.set_index([pd.Index([1, 2, 3, 4]), 'year'])
bunho = [ 251011, 240203, 251122]
# df_번호_이름 = df.set_index( [ pd.Index( [251011, 240203, 251122] ), '이름'] ) 
df_번호_이름 = df.set_index([pd.Index(bunho), '이름'])
df_번호_이름



# 행인덱스 재배열 reindex()
# 예제 1-17
import pandas as pd
dict_data = {'c0': [1, 2, 3], 'c1': [4, 5, 6],' c2': [7, 8, 9],'c3': [10,11,12],'c4':[13,14,15] }
df = pd.DataFrame(dict_data, index = ['r0', 'r1', 'r2'])
print( df )



#문제1
student_data = { '이름':['철수','영희','민수'], '국어':[90,70,85], '영어':[85,95,80], '수학':[80,100,90] }
df = pd.DataFrame( student_data )
df


#문제2
product_order_data = { '주문번호':[1001, 1002, 1003], '상품명':['키보드', '모니터','마우스'], '수량':[2,1,3], '단가':[30000,150000,20000] }
df = pd.DataFrame( product_order_data )
df


#문제3
data = {
    "Name": ["철수", "영희", "민수"],
    "Age": [16, 17, 16],
    "Class": ["A", "B", "A"]
}
df = pd.DataFrame( data )
df = df.set_index( 'Name' ) #행 인덱스 Name
df
#열 이름을 ["나이", "반"] 으로 변경
df.columns = ["나이", "반"]
df

data3 = {"Name": ["철수", "영희", "민수"],
        "Age": [16, 17, 16],
        "Class": ["A", "B", "A"]
       }

df3 = pd.DataFrame(data3)
# 변수 = 데이터프레임.rename(columns = { 기존 이름 : 변경후 이름 , ...})
df3 = df3.rename(columns = {'Name':'학생명', 'Age':'나이','Class':'반'})
# 변수 = 데이터프레임.rename(index = { 기존 이름 : 변경후 이름 , ...})
df3_1 = df3.set_index(['학생명'])
df3_1


# 문제4)
custom_data = { '주문번호':[1001, 1002, 1003], '고객명':['김철수', '이영희', '박민수'], '상품명': [ '키보드','모니터','마우스'], '수량':[2,1,3], '가격': [30000,150000, 20000] }
df = pd.DataFrame( custom_data )
# 주문번호 1002인 데이터를 행 삭제
#print(df[  df[ '주문번호'] == 1002 ] , '~~~' ) 
drop_index = df [ df[ '주문번호' ] == 1002 ].index
#print( drop_index, '@@@' )
drop_df=df.drop( drop_index, axis=0)
print( drop_df, "####") 
drop_가격 = df.drop( '가격', axis=1 )
drop_가격


import pandas as pd
data = {'주문번호': ['1001', '1002', '1003'],
        '고객명': ['김철수', '이영희', '박민수'],
        '상품명': ['키보드', '모니터', '마우스'],
        '수량': [2, 1, 3],
        '가격': [3000, 150000, 20000]}
df = pd.DataFrame(data)
df2 = df.drop([1])
df3 = df2.drop('가격', axis=1)
df3


data4 = {
         '주문번호' : [1001,1002,1003],
         '고객명' : ['김철수','이영희','박민수'],
         '상품명' : ['키보드','모니터','마우스'],
         '수량' : [2,1,3],
         '가격' : [30000,150000,200000]
        }

df4 = pd.DataFrame(data4)

# drop_index = df4 [ df4[ '주문번호' ]  == 1002 ].index

df4 = df4.set_index(['주문번호'])

# 변수 = 데이터프레임.drop(행 인덱스, axis = 0)
df4 = df4.drop([1002],axis = 0)
# 변수 = 데이터프레임.drop(열 인덱스, axis = 1)
df4 = df4.drop(['가격'],axis = 1)

df4


#문제5 
shop_data = {
    "주문번호": [1001, 1002, 1003],
    "고객명": ["김철수", "이영희", "박민수"],
    "상품명": ["키보드", "모니터", "마우스"],
    "수량": [2, 1, 3],
    "가격": [30000, 150000, 20000]
}
df = pd.DataFrame( shop_data )
df
df=df.set_index('주문번호')
df.loc[1002] # 주문번호 1002의 상품명만 선택해서 출력
# 수량과 가격 열만 선택해서 모든 행 출력
df[ ['수량','가격'] ]

# 1~2번째 행과 '고객명', '상품명' 열만 선택해서 출력
df.iloc[ [1,2], [0,1] ]



import pandas as pd
data = {'주문번호': ['1001', '1002', '1003'],
        '고객명': ['김철수', '이영희', '박민수'],
        '상품명': ['키보드', '모니터', '마우스'],
        '수량': [2, 1, 3],
        '단가': [30000, 150000, 20000]}
df = pd.DataFrame(data)
label = df.loc[1]
print(label)
print('-----------↑ 요구1 ↑ -- ↓ 요구2 ↓------------')
d_e = df[['수량', '단가']]
print(d_e)
print('-----------↑ 요구2 ↑ -- ↓ 요구3 ↓------------')
b_c = df.iloc[0:2:1, [2, 3]]
b_c


# 문제6
jumsu_data = {
    "이름": ["철수", "영희", "민수"],
    "국어": [90, 70, 85],
    "영어": [85, 95, 80],
    "수학": [80, 100, 90]
}
df = pd.DataFrame( jumsu_data )
df
df=df.set_index( '이름' )
df
df.loc[ '영희', '수학' ] = 98
df.loc['민수','영어'] = 82
df
# 키보드로 입력 받아서 수정하기
# 이름? 영희
# 과목? 수학
# 수정할 점수는? 98
name = input("이름은?")
subject = input("과목은?")
score = int( input("수정할 점수?") )
df.loc[ name, subject ] = score
df


# 문제7
custom_order_data = {
    "주문번호": [1001, 1002, 1003],
    "고객명": ["김철수", "이영희", "박민수"],
    "상품명": ["키보드", "모니터", "마우스"],
    "수량": [2, 1, 3],
    "가격": [30000, 150000, 20000]
}

df = pd.DataFrame(custom_order_data)
# 주문번호를 인덱스로 설정
df = df.set_index('주문번호')

# 주문번호 1002에 해당하는 고객명과 상품명을 출력
df.loc[1002, ['고객명', '상품명']]


# 문제8
data = {
    "주문번호": [1001, 1002, 1003],
    "고객명": ["김철수", "이영희", "박민수"],
    "상품명": ["키보드", "모니터", "마우스"]
}
df = pd.DataFrame(data)
df = df.set_index('주문번호')
df = df.reindex([1003, 1001, 1004, 1002])
df.sort_index()


# 문제9
data = {
    "고객명": ["김철수", "이영희", "박민수"],
    "상품명": ["키보드", "모니터", "마우스"],
    "수량": [2, 1, 3]
       }
df = pd.DataFrame(data)
print(df)

df = df.set_index('고객명')

# 인덱스 설정후
print("인덱스설정 후")
print(df)
# reset_index후
df = df.reset_index()
df


# 53page
dict_data = {'c0': [1, 2, 3], 'c1': [4, 5, 6], 'c2': [7, 8, 9], 'c3': [10, 11, 12], 'c4': [13, 14, 15]}
df = pd.DataFrame(dict_data, index=['r0', 'r2', 'r1'])
print(df)
ndf = df.sort_index(ascending=True)
print(ndf)



dict_data = {'c0': [10, 2, 23], 'c1': [2, 2, -1], 'c2': [57, 18, 9], 'c3': [10, 15, 12], 'c4': [18, 14, 15]}
df = pd.DataFrame(dict_data, index=['r0', 'r1', 'r2'])
# c1열을 기준으로 내림차순 정렬
ndf = df.sort_values(by='c1', ascending=False)
ndf
# c1열을 기준(첫번째)으로 내림차순 정렬하는데 만약 동일하면 c3열을 기준(두번째)으로 내림차순 정렬하세요
ndf = df.sort_values(by=['c1', 'c3'], ascending=False)
ndf
# c1열을 기준(첫번째)으로 내림차순 정렬하는데 만약 동일하면 c3열을 기준(두번째)으로 오름차순 정렬하세요
ndf = df.sort_values(by=['c1', 'c3'], ascending=[False, True])
ndf


sr = pd.Series({'국어': 100, '영어': 80, '수학': 90, '학점': 'A'})
sr
sr[0:3] + 10


# 시리즈 + 시리즈
student1 = pd.Series({'국어': 100, '영어': 80, '수학': 90})
student2 = pd.Series({'수학': 100, '국어': 80, '영어': 90})
덧셈 = (student1 + student2)
뺄셈 = (student1 - student2)
곱셈 = (student1 * student2)
나눗셈 = round((student1 / student2), 2) 
print(나눗셈)
df_T = pd.DataFrame([덧셈, 뺄셈, 곱셈, 나눗셈], index=['합', '차', '곱', '나누기']).T
df_T
df_T.합.astype(int)
df_T


import pandas as pd
student1 = pd.Series({
                        '국어':100,
                        '영어':80,
                        '수학':90,
})

student2 = pd.Series({
                        '수학':100,
                        '국어':80,
                        '영어':90,
})

덧셈 = student1 + student2
뺄셈 = student1 - student2
곱셈 = student1 * student2
나눗셈 = round(student1 / student2, 2)

df = pd.DataFrame([덧셈, 뺄셈, 곱셈, 나눗셈], index=['합', '차', '곱', '나누기']).T
df




# 교재 62페이지 예제 1-24
import numpy as np
student1 = pd.Series({
                        '국어': np.nan,
                        '영어': 80,
                        '수학': 90,
                    })

student2 = pd.Series({
                        '수학': 80,
                        '국어': 90
                    })
sr_add = student1.add(student2, fill_value=0)
sr_sub = student1.sub(student2, fill_value=0)
sr_mul = student1.mul(student2, fill_value=0)
sr_div = student1.div(student2, fill_value=0)

result = pd.DataFrame([sr_add, sr_sub, sr_mul, sr_div], index=['덧셈', '뺄셈', '곱셈', '나눗셈'])
result
# inf는 infinite(무한)  80 / 0

