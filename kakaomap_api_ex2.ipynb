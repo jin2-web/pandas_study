{
 "cells": [
  {
   "cell_type": "code",
   "execution_count": null,
   "id": "cb9271e3-007e-4f3d-bf47-6ee788156cc7",
   "metadata": {},
   "outputs": [],
   "source": [
    "# kakaomap_api_ex2\n",
    "# 위도 경도를 입력하면 주소가 나오게 하는 것 \n",
    "# 참고문서 사이트 https://developers.kakao.com/docs/latest/ko/local/dev-guide#address-coord"
   ]
  },
  {
   "cell_type": "code",
   "execution_count": 2,
   "id": "556679cd-426c-4723-89ef-b83ea71aa44c",
   "metadata": {},
   "outputs": [
    {
     "name": "stdin",
     "output_type": "stream",
     "text": [
      "위도를 입력해 주세요? 37.57184\n",
      "경도를 입력하세요? 126.976\n"
     ]
    }
   ],
   "source": [
    "lat=float(input( '위도를 입력해 주세요?')) # 37.57184\n",
    "lng=float(input('경도를 입력하세요?')) # 126.976"
   ]
  },
  {
   "cell_type": "code",
   "execution_count": 10,
   "id": "c12cc0c3-f558-4f60-8a1b-fbd054ca3e40",
   "metadata": {},
   "outputs": [
    {
     "name": "stdout",
     "output_type": "stream",
     "text": [
      "리존타입은 B\n",
      "주소는  서울특별시 종로구 세종로\n"
     ]
    }
   ],
   "source": [
    "# 인증키를 변수에 넣기\n",
    "lat = 37.57184\n",
    "lng = 126.976\n",
    "import requests \n",
    "my_key='aa638baf97364167126329fb45de2e53'\n",
    "\n",
    "def lat_lng_addr(lat, lng):\n",
    "    url=f\"https://dapi.kakao.com/v2/local/geo/coord2regioncode.json?x={lng}&y={lat}\"\n",
    "    headers = {\"Authorization\": f\"KakaoAK {my_key}\"}\n",
    "    response = requests.get(url, headers=headers)\n",
    "    result = response.json()\n",
    "    print( \"리존타입은\" , result[\"documents\"][0][\"region_type\"] )\n",
    "    print(\"주소는 \", result[\"documents\"][0][\"address_name\"] )\n",
    "lat_lng_addr(lat, lng)"
   ]
  }
 ],
 "metadata": {
  "kernelspec": {
   "display_name": "Python 3 (ipykernel)",
   "language": "python",
   "name": "python3"
  },
  "language_info": {
   "codemirror_mode": {
    "name": "ipython",
    "version": 3
   },
   "file_extension": ".py",
   "mimetype": "text/x-python",
   "name": "python",
   "nbconvert_exporter": "python",
   "pygments_lexer": "ipython3",
   "version": "3.10.16"
  }
 },
 "nbformat": 4,
 "nbformat_minor": 5
}
